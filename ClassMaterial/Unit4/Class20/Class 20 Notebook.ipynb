{
 "cells": [
  {
   "cell_type": "code",
   "execution_count": 1,
   "metadata": {},
   "outputs": [],
   "source": [
    "import pandas as pd\n",
    "import xgboost as xgb\n",
    "pd.options.plotting.backend = \"plotly\""
   ]
  },
  {
   "cell_type": "code",
   "execution_count": 2,
   "metadata": {},
   "outputs": [],
   "source": [
    "df = pd.read_csv(\"google.csv\")"
   ]
  },
  {
   "cell_type": "code",
   "execution_count": 3,
   "metadata": {},
   "outputs": [],
   "source": [
    "df['30DayFwd'] = (df['Close'].shift(-30) - df['Close']) / df['Close']"
   ]
  },
  {
   "cell_type": "code",
   "execution_count": 4,
   "metadata": {},
   "outputs": [],
   "source": [
    "X              =  df[['Volume']].pct_change()\n",
    "X['5DayVol']   =  df['Volume'].pct_change().rolling(5).mean().values\n",
    "X['30DayVol']  =  df['Volume'].pct_change().rolling(30).mean().values\n",
    "X['252DayVol'] =  df['Volume'].pct_change().rolling(252).mean().values"
   ]
  },
  {
   "cell_type": "code",
   "execution_count": 5,
   "metadata": {},
   "outputs": [],
   "source": [
    "X['Close30DRatio']  = df['Close'] / df['Close'].rolling(30).mean().values\n",
    "X['Close60DRatio']  = df['Close'] / df['Close'].rolling(60).mean().values\n",
    "X['Close252DRatio'] = df['Close'] / df['Close'].rolling(252).mean().values"
   ]
  },
  {
   "cell_type": "code",
   "execution_count": 6,
   "metadata": {},
   "outputs": [],
   "source": [
    "X['CloseChange']      = df['Close'].pct_change()\n",
    "X['Close5DayChange']  = df['Close'].pct_change().rolling(5).mean().values\n",
    "X['Close10DayChange'] = df['Close'].pct_change().rolling(10).mean().values\n",
    "X['Close60DayChange'] = df['Close'].pct_change().rolling(60).mean().values"
   ]
  },
  {
   "cell_type": "code",
   "execution_count": 7,
   "metadata": {},
   "outputs": [],
   "source": [
    " y = df['30DayFwd']"
   ]
  },
  {
   "cell_type": "code",
   "execution_count": 8,
   "metadata": {},
   "outputs": [],
   "source": [
    "y = y > 0.2"
   ]
  },
  {
   "cell_type": "code",
   "execution_count": 9,
   "metadata": {},
   "outputs": [
    {
     "data": {
      "text/plain": [
       "0.060542797494780795"
      ]
     },
     "execution_count": 9,
     "metadata": {},
     "output_type": "execute_result"
    }
   ],
   "source": [
    "y.mean()"
   ]
  },
  {
   "cell_type": "code",
   "execution_count": 10,
   "metadata": {},
   "outputs": [],
   "source": [
    "y2 = df['30DayFwd'] < 0"
   ]
  },
  {
   "cell_type": "code",
   "execution_count": 11,
   "metadata": {},
   "outputs": [],
   "source": [
    "mod = xgb.XGBClassifier()"
   ]
  },
  {
   "cell_type": "code",
   "execution_count": null,
   "metadata": {},
   "outputs": [],
   "source": []
  },
  {
   "cell_type": "code",
   "execution_count": 12,
   "metadata": {},
   "outputs": [],
   "source": [
    "from sklearn.model_selection import train_test_split\n",
    "\n",
    "X_train, X_test, y_train, y_test = train_test_split(X, y, test_size = 0.2, stratify = y)"
   ]
  },
  {
   "cell_type": "code",
   "execution_count": 13,
   "metadata": {},
   "outputs": [],
   "source": [
    "X_train, X_val, y_train, y_val = train_test_split(X_train, y_train, test_size = 0.2, stratify = y_train)"
   ]
  },
  {
   "cell_type": "code",
   "execution_count": 14,
   "metadata": {},
   "outputs": [
    {
     "name": "stderr",
     "output_type": "stream",
     "text": [
      "C:\\Users\\Jonat\\AppData\\Roaming\\Python\\Python38\\site-packages\\xgboost\\sklearn.py:888: UserWarning: The use of label encoder in XGBClassifier is deprecated and will be removed in a future release. To remove this warning, do the following: 1) Pass option use_label_encoder=False when constructing XGBClassifier object; and 2) Encode your labels (y) as integers starting with 0, i.e. 0, 1, 2, ..., [num_class - 1].\n",
      "  warnings.warn(label_encoder_deprecation_msg, UserWarning)\n"
     ]
    },
    {
     "name": "stdout",
     "output_type": "stream",
     "text": [
      "[11:48:18] WARNING: C:/Users/Administrator/workspace/xgboost-win64_release_1.3.0/src/learner.cc:1061: Starting in XGBoost 1.3.0, the default evaluation metric used with the objective 'binary:logistic' was changed from 'error' to 'logloss'. Explicitly set eval_metric if you'd like to restore the old behavior.\n"
     ]
    },
    {
     "data": {
      "text/plain": [
       "XGBClassifier(base_score=0.5, booster='gbtree', colsample_bylevel=1,\n",
       "              colsample_bynode=1, colsample_bytree=1, gamma=0, gpu_id=-1,\n",
       "              importance_type='gain', interaction_constraints='',\n",
       "              learning_rate=0.300000012, max_delta_step=0, max_depth=6,\n",
       "              min_child_weight=1, missing=nan, monotone_constraints='()',\n",
       "              n_estimators=100, n_jobs=12, num_parallel_tree=1, random_state=0,\n",
       "              reg_alpha=0, reg_lambda=1, scale_pos_weight=1, subsample=1,\n",
       "              tree_method='exact', validate_parameters=1, verbosity=None)"
      ]
     },
     "execution_count": 14,
     "metadata": {},
     "output_type": "execute_result"
    }
   ],
   "source": [
    "mod.fit(X_train, y_train)"
   ]
  },
  {
   "cell_type": "code",
   "execution_count": 15,
   "metadata": {},
   "outputs": [
    {
     "data": {
      "text/html": [
       "<div>\n",
       "<style scoped>\n",
       "    .dataframe tbody tr th:only-of-type {\n",
       "        vertical-align: middle;\n",
       "    }\n",
       "\n",
       "    .dataframe tbody tr th {\n",
       "        vertical-align: top;\n",
       "    }\n",
       "\n",
       "    .dataframe thead th {\n",
       "        text-align: right;\n",
       "    }\n",
       "</style>\n",
       "<table border=\"1\" class=\"dataframe\">\n",
       "  <thead>\n",
       "    <tr style=\"text-align: right;\">\n",
       "      <th></th>\n",
       "      <th>Volume</th>\n",
       "      <th>5DayVol</th>\n",
       "      <th>30DayVol</th>\n",
       "      <th>252DayVol</th>\n",
       "      <th>Close30DRatio</th>\n",
       "      <th>Close60DRatio</th>\n",
       "      <th>Close252DRatio</th>\n",
       "      <th>CloseChange</th>\n",
       "      <th>Close5DayChange</th>\n",
       "      <th>Close10DayChange</th>\n",
       "      <th>Close60DayChange</th>\n",
       "    </tr>\n",
       "  </thead>\n",
       "  <tbody>\n",
       "    <tr>\n",
       "      <th>54</th>\n",
       "      <td>0.037505</td>\n",
       "      <td>0.038554</td>\n",
       "      <td>0.125802</td>\n",
       "      <td>NaN</td>\n",
       "      <td>1.201757</td>\n",
       "      <td>NaN</td>\n",
       "      <td>NaN</td>\n",
       "      <td>-0.036365</td>\n",
       "      <td>-0.008838</td>\n",
       "      <td>0.022940</td>\n",
       "      <td>NaN</td>\n",
       "    </tr>\n",
       "    <tr>\n",
       "      <th>2199</th>\n",
       "      <td>1.523840</td>\n",
       "      <td>0.226267</td>\n",
       "      <td>0.089297</td>\n",
       "      <td>0.084012</td>\n",
       "      <td>1.115991</td>\n",
       "      <td>1.122172</td>\n",
       "      <td>1.293937</td>\n",
       "      <td>0.032454</td>\n",
       "      <td>0.009574</td>\n",
       "      <td>0.011131</td>\n",
       "      <td>0.002192</td>\n",
       "    </tr>\n",
       "    <tr>\n",
       "      <th>3271</th>\n",
       "      <td>0.139574</td>\n",
       "      <td>0.008646</td>\n",
       "      <td>0.030488</td>\n",
       "      <td>0.063048</td>\n",
       "      <td>0.988503</td>\n",
       "      <td>0.980719</td>\n",
       "      <td>1.100232</td>\n",
       "      <td>0.005140</td>\n",
       "      <td>0.000924</td>\n",
       "      <td>-0.000341</td>\n",
       "      <td>-0.000202</td>\n",
       "    </tr>\n",
       "    <tr>\n",
       "      <th>1580</th>\n",
       "      <td>-0.452888</td>\n",
       "      <td>-0.103391</td>\n",
       "      <td>0.003804</td>\n",
       "      <td>0.070233</td>\n",
       "      <td>0.969983</td>\n",
       "      <td>1.055959</td>\n",
       "      <td>1.099931</td>\n",
       "      <td>-0.008353</td>\n",
       "      <td>-0.002134</td>\n",
       "      <td>-0.004388</td>\n",
       "      <td>0.004305</td>\n",
       "    </tr>\n",
       "    <tr>\n",
       "      <th>3896</th>\n",
       "      <td>-0.053032</td>\n",
       "      <td>-0.158647</td>\n",
       "      <td>0.052499</td>\n",
       "      <td>0.062627</td>\n",
       "      <td>1.047842</td>\n",
       "      <td>1.089346</td>\n",
       "      <td>1.227737</td>\n",
       "      <td>0.000073</td>\n",
       "      <td>0.008430</td>\n",
       "      <td>0.003947</td>\n",
       "      <td>0.002573</td>\n",
       "    </tr>\n",
       "    <tr>\n",
       "      <th>...</th>\n",
       "      <td>...</td>\n",
       "      <td>...</td>\n",
       "      <td>...</td>\n",
       "      <td>...</td>\n",
       "      <td>...</td>\n",
       "      <td>...</td>\n",
       "      <td>...</td>\n",
       "      <td>...</td>\n",
       "      <td>...</td>\n",
       "      <td>...</td>\n",
       "      <td>...</td>\n",
       "    </tr>\n",
       "    <tr>\n",
       "      <th>1433</th>\n",
       "      <td>-0.101935</td>\n",
       "      <td>0.078367</td>\n",
       "      <td>0.103621</td>\n",
       "      <td>0.052037</td>\n",
       "      <td>0.950867</td>\n",
       "      <td>0.962167</td>\n",
       "      <td>1.045325</td>\n",
       "      <td>0.005310</td>\n",
       "      <td>-0.005515</td>\n",
       "      <td>-0.010893</td>\n",
       "      <td>0.000140</td>\n",
       "    </tr>\n",
       "    <tr>\n",
       "      <th>3493</th>\n",
       "      <td>0.570987</td>\n",
       "      <td>0.021908</td>\n",
       "      <td>0.074203</td>\n",
       "      <td>0.053503</td>\n",
       "      <td>1.001057</td>\n",
       "      <td>1.031574</td>\n",
       "      <td>1.086042</td>\n",
       "      <td>0.019385</td>\n",
       "      <td>0.003748</td>\n",
       "      <td>-0.003869</td>\n",
       "      <td>0.001535</td>\n",
       "    </tr>\n",
       "    <tr>\n",
       "      <th>1081</th>\n",
       "      <td>0.011148</td>\n",
       "      <td>0.050709</td>\n",
       "      <td>0.052317</td>\n",
       "      <td>0.057517</td>\n",
       "      <td>0.889081</td>\n",
       "      <td>0.787258</td>\n",
       "      <td>0.566137</td>\n",
       "      <td>0.015703</td>\n",
       "      <td>-0.000699</td>\n",
       "      <td>-0.004742</td>\n",
       "      <td>-0.005525</td>\n",
       "    </tr>\n",
       "    <tr>\n",
       "      <th>2580</th>\n",
       "      <td>0.338491</td>\n",
       "      <td>0.101577</td>\n",
       "      <td>0.060350</td>\n",
       "      <td>0.253244</td>\n",
       "      <td>0.987418</td>\n",
       "      <td>0.955752</td>\n",
       "      <td>0.954370</td>\n",
       "      <td>-0.014493</td>\n",
       "      <td>-0.004023</td>\n",
       "      <td>-0.003393</td>\n",
       "      <td>-0.001302</td>\n",
       "    </tr>\n",
       "    <tr>\n",
       "      <th>1167</th>\n",
       "      <td>-0.248607</td>\n",
       "      <td>-0.011447</td>\n",
       "      <td>-0.010101</td>\n",
       "      <td>0.043838</td>\n",
       "      <td>1.077282</td>\n",
       "      <td>1.077121</td>\n",
       "      <td>0.868521</td>\n",
       "      <td>0.009341</td>\n",
       "      <td>0.004593</td>\n",
       "      <td>0.005253</td>\n",
       "      <td>0.002888</td>\n",
       "    </tr>\n",
       "  </tbody>\n",
       "</table>\n",
       "<p>863 rows × 11 columns</p>\n",
       "</div>"
      ],
      "text/plain": [
       "        Volume   5DayVol  30DayVol  252DayVol  Close30DRatio  Close60DRatio  \\\n",
       "54    0.037505  0.038554  0.125802        NaN       1.201757            NaN   \n",
       "2199  1.523840  0.226267  0.089297   0.084012       1.115991       1.122172   \n",
       "3271  0.139574  0.008646  0.030488   0.063048       0.988503       0.980719   \n",
       "1580 -0.452888 -0.103391  0.003804   0.070233       0.969983       1.055959   \n",
       "3896 -0.053032 -0.158647  0.052499   0.062627       1.047842       1.089346   \n",
       "...        ...       ...       ...        ...            ...            ...   \n",
       "1433 -0.101935  0.078367  0.103621   0.052037       0.950867       0.962167   \n",
       "3493  0.570987  0.021908  0.074203   0.053503       1.001057       1.031574   \n",
       "1081  0.011148  0.050709  0.052317   0.057517       0.889081       0.787258   \n",
       "2580  0.338491  0.101577  0.060350   0.253244       0.987418       0.955752   \n",
       "1167 -0.248607 -0.011447 -0.010101   0.043838       1.077282       1.077121   \n",
       "\n",
       "      Close252DRatio  CloseChange  Close5DayChange  Close10DayChange  \\\n",
       "54               NaN    -0.036365        -0.008838          0.022940   \n",
       "2199        1.293937     0.032454         0.009574          0.011131   \n",
       "3271        1.100232     0.005140         0.000924         -0.000341   \n",
       "1580        1.099931    -0.008353        -0.002134         -0.004388   \n",
       "3896        1.227737     0.000073         0.008430          0.003947   \n",
       "...              ...          ...              ...               ...   \n",
       "1433        1.045325     0.005310        -0.005515         -0.010893   \n",
       "3493        1.086042     0.019385         0.003748         -0.003869   \n",
       "1081        0.566137     0.015703        -0.000699         -0.004742   \n",
       "2580        0.954370    -0.014493        -0.004023         -0.003393   \n",
       "1167        0.868521     0.009341         0.004593          0.005253   \n",
       "\n",
       "      Close60DayChange  \n",
       "54                 NaN  \n",
       "2199          0.002192  \n",
       "3271         -0.000202  \n",
       "1580          0.004305  \n",
       "3896          0.002573  \n",
       "...                ...  \n",
       "1433          0.000140  \n",
       "3493          0.001535  \n",
       "1081         -0.005525  \n",
       "2580         -0.001302  \n",
       "1167          0.002888  \n",
       "\n",
       "[863 rows x 11 columns]"
      ]
     },
     "execution_count": 15,
     "metadata": {},
     "output_type": "execute_result"
    }
   ],
   "source": [
    "X_test"
   ]
  },
  {
   "cell_type": "code",
   "execution_count": 16,
   "metadata": {},
   "outputs": [
    {
     "data": {
      "text/html": [
       "<div>\n",
       "<style scoped>\n",
       "    .dataframe tbody tr th:only-of-type {\n",
       "        vertical-align: middle;\n",
       "    }\n",
       "\n",
       "    .dataframe tbody tr th {\n",
       "        vertical-align: top;\n",
       "    }\n",
       "\n",
       "    .dataframe thead th {\n",
       "        text-align: right;\n",
       "    }\n",
       "</style>\n",
       "<table border=\"1\" class=\"dataframe\">\n",
       "  <thead>\n",
       "    <tr style=\"text-align: right;\">\n",
       "      <th></th>\n",
       "      <th>Imp</th>\n",
       "      <th>Col</th>\n",
       "    </tr>\n",
       "  </thead>\n",
       "  <tbody>\n",
       "    <tr>\n",
       "      <th>0</th>\n",
       "      <td>0.047454</td>\n",
       "      <td>Volume</td>\n",
       "    </tr>\n",
       "    <tr>\n",
       "      <th>1</th>\n",
       "      <td>0.046975</td>\n",
       "      <td>5DayVol</td>\n",
       "    </tr>\n",
       "    <tr>\n",
       "      <th>2</th>\n",
       "      <td>0.086782</td>\n",
       "      <td>30DayVol</td>\n",
       "    </tr>\n",
       "    <tr>\n",
       "      <th>3</th>\n",
       "      <td>0.109845</td>\n",
       "      <td>252DayVol</td>\n",
       "    </tr>\n",
       "    <tr>\n",
       "      <th>4</th>\n",
       "      <td>0.139435</td>\n",
       "      <td>Close30DRatio</td>\n",
       "    </tr>\n",
       "    <tr>\n",
       "      <th>5</th>\n",
       "      <td>0.105372</td>\n",
       "      <td>Close60DRatio</td>\n",
       "    </tr>\n",
       "    <tr>\n",
       "      <th>6</th>\n",
       "      <td>0.174445</td>\n",
       "      <td>Close252DRatio</td>\n",
       "    </tr>\n",
       "    <tr>\n",
       "      <th>7</th>\n",
       "      <td>0.036517</td>\n",
       "      <td>CloseChange</td>\n",
       "    </tr>\n",
       "    <tr>\n",
       "      <th>8</th>\n",
       "      <td>0.045962</td>\n",
       "      <td>Close5DayChange</td>\n",
       "    </tr>\n",
       "    <tr>\n",
       "      <th>9</th>\n",
       "      <td>0.093354</td>\n",
       "      <td>Close10DayChange</td>\n",
       "    </tr>\n",
       "    <tr>\n",
       "      <th>10</th>\n",
       "      <td>0.113860</td>\n",
       "      <td>Close60DayChange</td>\n",
       "    </tr>\n",
       "  </tbody>\n",
       "</table>\n",
       "</div>"
      ],
      "text/plain": [
       "         Imp               Col\n",
       "0   0.047454            Volume\n",
       "1   0.046975           5DayVol\n",
       "2   0.086782          30DayVol\n",
       "3   0.109845         252DayVol\n",
       "4   0.139435     Close30DRatio\n",
       "5   0.105372     Close60DRatio\n",
       "6   0.174445    Close252DRatio\n",
       "7   0.036517       CloseChange\n",
       "8   0.045962   Close5DayChange\n",
       "9   0.093354  Close10DayChange\n",
       "10  0.113860  Close60DayChange"
      ]
     },
     "execution_count": 16,
     "metadata": {},
     "output_type": "execute_result"
    }
   ],
   "source": [
    "pd.DataFrame({'Imp': mod.feature_importances_, \n",
    "              'Col': X_train.columns})"
   ]
  },
  {
   "cell_type": "code",
   "execution_count": 17,
   "metadata": {},
   "outputs": [],
   "source": [
    "from sklearn.metrics import classification_report"
   ]
  },
  {
   "cell_type": "code",
   "execution_count": 18,
   "metadata": {},
   "outputs": [
    {
     "name": "stdout",
     "output_type": "stream",
     "text": [
      "              precision    recall  f1-score   support\n",
      "\n",
      "       False       0.97      1.00      0.99       811\n",
      "        True       0.94      0.58      0.71        52\n",
      "\n",
      "    accuracy                           0.97       863\n",
      "   macro avg       0.96      0.79      0.85       863\n",
      "weighted avg       0.97      0.97      0.97       863\n",
      "\n"
     ]
    }
   ],
   "source": [
    "print(classification_report(y_test, mod.predict(X_test)))"
   ]
  },
  {
   "cell_type": "code",
   "execution_count": 19,
   "metadata": {},
   "outputs": [
    {
     "data": {
      "text/plain": [
       "XGBClassifier(base_score=0.5, booster='gbtree', colsample_bylevel=1,\n",
       "              colsample_bynode=1, colsample_bytree=1, gamma=0, gpu_id=-1,\n",
       "              importance_type='gain', interaction_constraints='',\n",
       "              learning_rate=0.300000012, max_delta_step=0, max_depth=6,\n",
       "              min_child_weight=1, missing=nan, monotone_constraints='()',\n",
       "              n_estimators=100, n_jobs=12, num_parallel_tree=1, random_state=0,\n",
       "              reg_alpha=0, reg_lambda=1, scale_pos_weight=16.51497005988024,\n",
       "              subsample=1, tree_method='exact', validate_parameters=1,\n",
       "              verbosity=None)"
      ]
     },
     "execution_count": 19,
     "metadata": {},
     "output_type": "execute_result"
    }
   ],
   "source": [
    "mod.set_params(scale_pos_weight = 1 / y_train.mean())"
   ]
  },
  {
   "cell_type": "code",
   "execution_count": 20,
   "metadata": {},
   "outputs": [
    {
     "name": "stdout",
     "output_type": "stream",
     "text": [
      "[11:48:19] WARNING: C:/Users/Administrator/workspace/xgboost-win64_release_1.3.0/src/learner.cc:1061: Starting in XGBoost 1.3.0, the default evaluation metric used with the objective 'binary:logistic' was changed from 'error' to 'logloss'. Explicitly set eval_metric if you'd like to restore the old behavior.\n"
     ]
    },
    {
     "name": "stderr",
     "output_type": "stream",
     "text": [
      "C:\\Users\\Jonat\\AppData\\Roaming\\Python\\Python38\\site-packages\\xgboost\\sklearn.py:888: UserWarning: The use of label encoder in XGBClassifier is deprecated and will be removed in a future release. To remove this warning, do the following: 1) Pass option use_label_encoder=False when constructing XGBClassifier object; and 2) Encode your labels (y) as integers starting with 0, i.e. 0, 1, 2, ..., [num_class - 1].\n",
      "  warnings.warn(label_encoder_deprecation_msg, UserWarning)\n"
     ]
    },
    {
     "data": {
      "text/plain": [
       "XGBClassifier(base_score=0.5, booster='gbtree', colsample_bylevel=1,\n",
       "              colsample_bynode=1, colsample_bytree=1, gamma=0, gpu_id=-1,\n",
       "              importance_type='gain', interaction_constraints='',\n",
       "              learning_rate=0.300000012, max_delta_step=0, max_depth=6,\n",
       "              min_child_weight=1, missing=nan, monotone_constraints='()',\n",
       "              n_estimators=100, n_jobs=12, num_parallel_tree=1, random_state=0,\n",
       "              reg_alpha=0, reg_lambda=1, scale_pos_weight=16.51497005988024,\n",
       "              subsample=1, tree_method='exact', validate_parameters=1,\n",
       "              verbosity=None)"
      ]
     },
     "execution_count": 20,
     "metadata": {},
     "output_type": "execute_result"
    }
   ],
   "source": [
    "mod.fit(X_train, y_train)"
   ]
  },
  {
   "cell_type": "code",
   "execution_count": 21,
   "metadata": {},
   "outputs": [
    {
     "name": "stdout",
     "output_type": "stream",
     "text": [
      "              precision    recall  f1-score   support\n",
      "\n",
      "       False       0.98      1.00      0.99       811\n",
      "        True       0.90      0.67      0.77        52\n",
      "\n",
      "    accuracy                           0.98       863\n",
      "   macro avg       0.94      0.83      0.88       863\n",
      "weighted avg       0.97      0.98      0.97       863\n",
      "\n"
     ]
    }
   ],
   "source": [
    "print(classification_report(y_test, mod.predict(X_test)))"
   ]
  }
 ],
 "metadata": {
  "kernelspec": {
   "display_name": "Python 3",
   "language": "python",
   "name": "python3"
  },
  "language_info": {
   "codemirror_mode": {
    "name": "ipython",
    "version": 3
   },
   "file_extension": ".py",
   "mimetype": "text/x-python",
   "name": "python",
   "nbconvert_exporter": "python",
   "pygments_lexer": "ipython3",
   "version": "3.8.5"
  }
 },
 "nbformat": 4,
 "nbformat_minor": 4
}
