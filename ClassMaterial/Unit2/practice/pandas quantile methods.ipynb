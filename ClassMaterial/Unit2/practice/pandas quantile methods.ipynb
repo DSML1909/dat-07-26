{
 "cells": [
  {
   "cell_type": "markdown",
   "metadata": {},
   "source": [
    "This notebook will briefly introduce methods similar to `df.quantile` and give brief demonstrations of how they work."
   ]
  },
  {
   "cell_type": "code",
   "execution_count": 15,
   "metadata": {},
   "outputs": [
    {
     "data": {
      "text/html": [
       "<div>\n",
       "<style scoped>\n",
       "    .dataframe tbody tr th:only-of-type {\n",
       "        vertical-align: middle;\n",
       "    }\n",
       "\n",
       "    .dataframe tbody tr th {\n",
       "        vertical-align: top;\n",
       "    }\n",
       "\n",
       "    .dataframe thead th {\n",
       "        text-align: right;\n",
       "    }\n",
       "</style>\n",
       "<table border=\"1\" class=\"dataframe\">\n",
       "  <thead>\n",
       "    <tr style=\"text-align: right;\">\n",
       "      <th></th>\n",
       "      <th>cat</th>\n",
       "      <th>val</th>\n",
       "    </tr>\n",
       "  </thead>\n",
       "  <tbody>\n",
       "    <tr>\n",
       "      <th>0</th>\n",
       "      <td>A</td>\n",
       "      <td>87</td>\n",
       "    </tr>\n",
       "    <tr>\n",
       "      <th>1</th>\n",
       "      <td>A</td>\n",
       "      <td>21</td>\n",
       "    </tr>\n",
       "    <tr>\n",
       "      <th>2</th>\n",
       "      <td>C</td>\n",
       "      <td>7</td>\n",
       "    </tr>\n",
       "    <tr>\n",
       "      <th>3</th>\n",
       "      <td>C</td>\n",
       "      <td>112</td>\n",
       "    </tr>\n",
       "    <tr>\n",
       "      <th>4</th>\n",
       "      <td>A</td>\n",
       "      <td>199</td>\n",
       "    </tr>\n",
       "    <tr>\n",
       "      <th>...</th>\n",
       "      <td>...</td>\n",
       "      <td>...</td>\n",
       "    </tr>\n",
       "    <tr>\n",
       "      <th>995</th>\n",
       "      <td>A</td>\n",
       "      <td>209</td>\n",
       "    </tr>\n",
       "    <tr>\n",
       "      <th>996</th>\n",
       "      <td>A</td>\n",
       "      <td>118</td>\n",
       "    </tr>\n",
       "    <tr>\n",
       "      <th>997</th>\n",
       "      <td>C</td>\n",
       "      <td>164</td>\n",
       "    </tr>\n",
       "    <tr>\n",
       "      <th>998</th>\n",
       "      <td>B</td>\n",
       "      <td>80</td>\n",
       "    </tr>\n",
       "    <tr>\n",
       "      <th>999</th>\n",
       "      <td>C</td>\n",
       "      <td>224</td>\n",
       "    </tr>\n",
       "  </tbody>\n",
       "</table>\n",
       "<p>1000 rows × 2 columns</p>\n",
       "</div>"
      ],
      "text/plain": [
       "    cat  val\n",
       "0     A   87\n",
       "1     A   21\n",
       "2     C    7\n",
       "3     C  112\n",
       "4     A  199\n",
       "..   ..  ...\n",
       "995   A  209\n",
       "996   A  118\n",
       "997   C  164\n",
       "998   B   80\n",
       "999   C  224\n",
       "\n",
       "[1000 rows x 2 columns]"
      ]
     },
     "execution_count": 15,
     "metadata": {},
     "output_type": "execute_result"
    }
   ],
   "source": [
    "# imports\n",
    "import pandas as pd\n",
    "import numpy as np\n",
    "import random\n",
    "\n",
    "vals = pd.DataFrame({\n",
    "    'cat': [random.sample(['A', 'B', 'C'], 1)[0] for i in range(1000)],\n",
    "    'val': [np.random.choice(250) for i in range(1000)]})\n",
    "vals"
   ]
  },
  {
   "cell_type": "code",
   "execution_count": 17,
   "metadata": {},
   "outputs": [
    {
     "data": {
      "text/plain": [
       "48.0"
      ]
     },
     "execution_count": 17,
     "metadata": {},
     "output_type": "execute_result"
    }
   ],
   "source": [
    "# quantile returns the value associated with the percentile value passed in\n",
    "# 48 is the number associated with the 20th percentile of this column\n",
    "vals['val'].quantile(.2)"
   ]
  },
  {
   "cell_type": "code",
   "execution_count": 22,
   "metadata": {},
   "outputs": [
    {
     "data": {
      "text/plain": [
       "0       (80.0, 166.0]\n",
       "1      (-0.001, 80.0]\n",
       "2      (-0.001, 80.0]\n",
       "3       (80.0, 166.0]\n",
       "4      (166.0, 249.0]\n",
       "            ...      \n",
       "995    (166.0, 249.0]\n",
       "996     (80.0, 166.0]\n",
       "997     (80.0, 166.0]\n",
       "998    (-0.001, 80.0]\n",
       "999    (166.0, 249.0]\n",
       "Name: val, Length: 1000, dtype: category\n",
       "Categories (3, interval[float64]): [(-0.001, 80.0] < (80.0, 166.0] < (166.0, 249.0]]"
      ]
     },
     "execution_count": 22,
     "metadata": {},
     "output_type": "execute_result"
    }
   ],
   "source": [
    "# qcut will automatically split the val column into three separate bins\n",
    "pd.qcut(vals['val'], 3)"
   ]
  },
  {
   "cell_type": "code",
   "execution_count": 25,
   "metadata": {},
   "outputs": [
    {
     "data": {
      "text/plain": [
       "0       (60.75, 188.0]\n",
       "1      (-0.001, 60.75]\n",
       "2      (-0.001, 60.75]\n",
       "3       (60.75, 188.0]\n",
       "4       (188.0, 249.0]\n",
       "            ...       \n",
       "995     (188.0, 249.0]\n",
       "996     (60.75, 188.0]\n",
       "997     (60.75, 188.0]\n",
       "998     (60.75, 188.0]\n",
       "999     (188.0, 249.0]\n",
       "Name: val, Length: 1000, dtype: category\n",
       "Categories (3, interval[float64]): [(-0.001, 60.75] < (60.75, 188.0] < (188.0, 249.0]]"
      ]
     },
     "execution_count": 25,
     "metadata": {},
     "output_type": "execute_result"
    }
   ],
   "source": [
    "# if you want to specify the cutoff points, you can do so as percentiles or raw values\n",
    "# here we do cutoffs at the 25th & 75% percentiles\n",
    "pd.qcut(vals['val'], q=[0, 0.25, 0.75, 1])"
   ]
  },
  {
   "cell_type": "code",
   "execution_count": 26,
   "metadata": {},
   "outputs": [
    {
     "data": {
      "text/plain": [
       "0      medium\n",
       "1         low\n",
       "2         low\n",
       "3      medium\n",
       "4        high\n",
       "        ...  \n",
       "995      high\n",
       "996    medium\n",
       "997    medium\n",
       "998    medium\n",
       "999      high\n",
       "Name: val, Length: 1000, dtype: category\n",
       "Categories (3, object): ['low' < 'medium' < 'high']"
      ]
     },
     "execution_count": 26,
     "metadata": {},
     "output_type": "execute_result"
    }
   ],
   "source": [
    "# you can also supply them labels\n",
    "pd.qcut(vals['val'], q=[0, 0.25, 0.75, 1], labels=['low', 'medium', 'high'])"
   ]
  },
  {
   "cell_type": "code",
   "execution_count": 27,
   "metadata": {},
   "outputs": [
    {
     "data": {
      "text/plain": [
       "238.0"
      ]
     },
     "execution_count": 27,
     "metadata": {},
     "output_type": "execute_result"
    }
   ],
   "source": [
    "# you can also use np.percentile to give you the percentile of a particular value\n",
    "# it's the inverse of quantile\n",
    "# the value at the 96th percentile of the val column is 238\n",
    "np.percentile(vals['val'], 96)"
   ]
  },
  {
   "cell_type": "code",
   "execution_count": null,
   "metadata": {},
   "outputs": [],
   "source": []
  }
 ],
 "metadata": {
  "kernelspec": {
   "display_name": "Python 3",
   "language": "python",
   "name": "python3"
  },
  "language_info": {
   "codemirror_mode": {
    "name": "ipython",
    "version": 3
   },
   "file_extension": ".py",
   "mimetype": "text/x-python",
   "name": "python",
   "nbconvert_exporter": "python",
   "pygments_lexer": "ipython3",
   "version": "3.8.5"
  }
 },
 "nbformat": 4,
 "nbformat_minor": 4
}
