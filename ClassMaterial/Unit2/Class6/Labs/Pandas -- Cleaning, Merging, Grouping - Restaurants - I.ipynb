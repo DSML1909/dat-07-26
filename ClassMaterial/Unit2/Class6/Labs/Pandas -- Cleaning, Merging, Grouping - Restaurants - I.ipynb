{
 "cells": [
  {
   "cell_type": "markdown",
   "metadata": {},
   "source": [
    "### Pandas Lab -- Cleaning, Merging, & Grouping\n",
    "\n",
    "This lab is designed to introduce students to common use cases for Pandas when working with data:\n",
    "\n",
    " - Creating new information out of your existing data set\n",
    " - Merging, concatenating, and joining different data sources\n",
    " - Grouping -- With both time & non-time based data"
   ]
  },
  {
   "cell_type": "markdown",
   "metadata": {},
   "source": [
    "### Section I: Creating Data Out of Your Existing Columns\n",
    "\n",
    "Go ahead and create the following columns in your dataset."
   ]
  },
  {
   "cell_type": "markdown",
   "metadata": {},
   "source": [
    "**Column 1:**\n",
    "\n",
    "  - **Column Name:** Weekend\n",
    "  - **Values:** `True` if `day_of_week` is either Friday or Saturday, `False` if not"
   ]
  },
  {
   "cell_type": "code",
   "execution_count": 2,
   "metadata": {},
   "outputs": [],
   "source": [
    "import pandas as pd\n",
    "import numpy as np\n",
    "\n",
    "df = pd.read_csv('/Users/cdeboer/Desktop/GA/GA Local/ClassMaterial/Unit2/data/restaurant_data/master.csv')\n",
    "\n",
    "df['weekend'] = np.where((df['day_of_week'] == 'Saturday') | (df['day_of_week'] == 'Sunday'), True, False)"
   ]
  },
  {
   "cell_type": "code",
   "execution_count": 4,
   "metadata": {},
   "outputs": [],
   "source": [
    "conditions = [df['reserve_visitors'] < df['reserve_visitors'].quantile(0.25),\n",
    "              df['reserve_visitors'].between(df['reserve_visitors'].quantile(0.25), df['reserve_visitors'].quantile(0.75)),\n",
    "              df['reserve_visitors'] > df['reserve_visitors'].quantile(0.75)]\n",
    "\n",
    "results    = [\n",
    "    'Low',\n",
    "    'Medium',\n",
    "    'High'\n",
    "]\n",
    "\n",
    "df['Reservation Activity'] = np.select(conditions, results, 'Other')"
   ]
  },
  {
   "cell_type": "markdown",
   "metadata": {},
   "source": [
    "**Column 2:**\n",
    "\n",
    " - **Column Name:** Reservation Activity\n",
    " - **Values:**\n",
    "   - `Low` if `reserve_visitors` is in the bottom .25 percentile\n",
    "   - `Medium` if `reserve_visitors` is in the middle .50 percentile\n",
    "   - `High`if `reserve_visitors` is in the top .25 percentile\n",
    "   \n",
    "**Hint:** Use the `quantile` method to get this value"
   ]
  },
  {
   "cell_type": "code",
   "execution_count": 5,
   "metadata": {},
   "outputs": [
    {
     "data": {
      "text/plain": [
       "0          Other\n",
       "1          Other\n",
       "2          Other\n",
       "3          Other\n",
       "4          Other\n",
       "           ...  \n",
       "252103    Medium\n",
       "252104      High\n",
       "252105      High\n",
       "252106       Low\n",
       "252107      High\n",
       "Name: Reservation Activity, Length: 252108, dtype: object"
      ]
     },
     "execution_count": 5,
     "metadata": {},
     "output_type": "execute_result"
    }
   ],
   "source": [
    "df['Reservation Activity']"
   ]
  },
  {
   "cell_type": "markdown",
   "metadata": {},
   "source": [
    "**Column 3:**\n",
    "\n",
    " - **Column Name:** Days\n",
    " - **Values:**\n",
    "   - The length of time that has passed from the beginning of the time series, in days\n",
    " - **Note:** When you subtract these columns, your column will be a **time delta**.  See if you can use the `dt` attribute to convert these values into an integer.  Ie, if your value reads `3 days`, you want that to be 3 instead.  You can read more about different time periods in pandas here:  https://pandas.pydata.org/pandas-docs/stable/user_guide/timeseries.html#time-date-components"
   ]
  },
  {
   "cell_type": "code",
   "execution_count": 6,
   "metadata": {},
   "outputs": [],
   "source": [
    "air_reserve = pd.read_csv('/Users/cdeboer/Desktop/GA/GA Local/ClassMaterial/Unit2/data/restaurant_data/air_reserve.csv')\n",
    "air_store_info = pd.read_csv('/Users/cdeboer/Desktop/GA/GA Local/ClassMaterial/Unit2/data/restaurant_data/air_store_info.csv')\n",
    "air_visit_data = pd.read_csv('/Users/cdeboer/Desktop/GA/GA Local/ClassMaterial/Unit2/data/restaurant_data/air_visit_data.csv')\n",
    "date_info = pd.read_csv('/Users/cdeboer/Desktop/GA/GA Local/ClassMaterial/Unit2/data/restaurant_data/date_info.csv')"
   ]
  },
  {
   "cell_type": "markdown",
   "metadata": {},
   "source": [
    "### Section II: Merging Dataframes"
   ]
  },
  {
   "cell_type": "markdown",
   "metadata": {},
   "source": [
    "The dataset we have been working with so far (`master.csv`), is actually a combined version of several datasets.  \n",
    "\n",
    "In this section of the lab, we are going to re-create it manually from its individual pieces.\n",
    "\n",
    "In the `restaurant data` folder, you'll find the following files:\n",
    "\n",
    " - `air_reserve.csv`\n",
    " - `air_store_info.csv`\n",
    " - `air_visit_data.csv`\n",
    " - `date_info.csv`\n",
    " \n",
    "They contain all the constituent info for the `master.csv` file that we're currently using. \n",
    "\n",
    "You should have 252108 rows when you are finished.\n",
    "\n",
    "Using merges, piece the files together to recreate the one we are currently working on.  \n",
    "\n",
    "**Hint:** To get the number of reservations in the `reserve_visitors` column, you will have to use the `groupby` method first for each `store_id` and `day` before doing the merging.\n",
    "\n",
    "You will also have to make sure each column is the same datatype -- date is probably the best.  Check the amount of null values in the new column to ensure you did it correctly.  (An incorrect merge will have no non-null values).\n",
    "\n",
    "Some operations that might come in handy:\n",
    "\n",
    " - `dt.date` -- converts a datetime to a date\n",
    " - `pd.to_datetime` if you need to convert something from a string to a date"
   ]
  },
  {
   "cell_type": "code",
   "execution_count": null,
   "metadata": {},
   "outputs": [],
   "source": [
    "# your answer here"
   ]
  }
 ],
 "metadata": {
  "kernelspec": {
   "display_name": "Python 3",
   "language": "python",
   "name": "python3"
  },
  "language_info": {
   "codemirror_mode": {
    "name": "ipython",
    "version": 3
   },
   "file_extension": ".py",
   "mimetype": "text/x-python",
   "name": "python",
   "nbconvert_exporter": "python",
   "pygments_lexer": "ipython3",
   "version": "3.8.8"
  }
 },
 "nbformat": 4,
 "nbformat_minor": 2
}
