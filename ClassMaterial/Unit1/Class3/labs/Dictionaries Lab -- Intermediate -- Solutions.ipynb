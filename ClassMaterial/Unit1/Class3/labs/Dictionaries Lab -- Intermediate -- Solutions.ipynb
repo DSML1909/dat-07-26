{
 "cells": [
  {
   "cell_type": "markdown",
   "metadata": {},
   "source": [
    "## Intermediate Lab:  Creating A Dataset Using the GitHub API\n",
    "\n",
    "In this lab you'll create a dataset containing all the meta information about your classmates github repos, using only the csv file with everyone's url.  \n",
    "\n",
    "The process will be done in these 4 general steps:\n",
    "\n",
    " - load in the csv file\n",
    " - clean the individual lines of each file to get them ready to use\n",
    " - connect to the GitHub api to obtain information about everyone's repos\n",
    " - re-structure this information to turn it into a dataframe.\n",
    " \n",
    "It'll be a great way to work through the first step of many data science problems: creating a workable dataset out of unorganized, messy data.  Let's get started!"
   ]
  },
  {
   "cell_type": "markdown",
   "metadata": {},
   "source": [
    "### Step 1:  Load in the csv file with everyone's github repo"
   ]
  },
  {
   "cell_type": "code",
   "execution_count": 1,
   "metadata": {},
   "outputs": [],
   "source": [
    "import requests\n",
    "import pandas as pd"
   ]
  },
  {
   "cell_type": "code",
   "execution_count": 2,
   "metadata": {},
   "outputs": [],
   "source": [
    "with open('repos.csv') as f:\n",
    "    data = f.readlines()"
   ]
  },
  {
   "cell_type": "code",
   "execution_count": 3,
   "metadata": {},
   "outputs": [
    {
     "data": {
      "text/plain": [
       "['Name,URL\\n',\n",
       " 'Jonathan,https://github.com/JonathanBechtel\\n',\n",
       " 'Muhammad,https://github.com/fawad07\\n',\n",
       " 'Carlie,https://github.com/carliedeboer\\n',\n",
       " 'David,https://github.com/davidbroxmeyer']"
      ]
     },
     "execution_count": 3,
     "metadata": {},
     "output_type": "execute_result"
    }
   ],
   "source": [
    "# notice that data is a list filled with strings that contain info about each line\n",
    "data"
   ]
  },
  {
   "cell_type": "markdown",
   "metadata": {},
   "source": [
    "### Step 2: Remove the `\\n` from each item in the list, as well as the item that contains the header info."
   ]
  },
  {
   "cell_type": "code",
   "execution_count": 4,
   "metadata": {},
   "outputs": [],
   "source": [
    "# this loops through each item in the list, starting at position 1, and replace the \\n character with nothing\n",
    "cleaned_data = [repo.replace('\\n', \"\") for repo in data[1:]]"
   ]
  },
  {
   "cell_type": "code",
   "execution_count": 5,
   "metadata": {},
   "outputs": [
    {
     "data": {
      "text/plain": [
       "['Jonathan,https://github.com/JonathanBechtel',\n",
       " 'Muhammad,https://github.com/fawad07',\n",
       " 'Carlie,https://github.com/carliedeboer',\n",
       " 'David,https://github.com/davidbroxmeyer']"
      ]
     },
     "execution_count": 5,
     "metadata": {},
     "output_type": "execute_result"
    }
   ],
   "source": [
    "# we can confirm now that these marks are no longer there\n",
    "cleaned_data"
   ]
  },
  {
   "cell_type": "markdown",
   "metadata": {},
   "source": [
    "### Step 3:  Separate the username in each string from everything else"
   ]
  },
  {
   "cell_type": "code",
   "execution_count": 7,
   "metadata": {},
   "outputs": [],
   "source": [
    "# we do the same thing, except we take the LAST item from the list returned by split()\n",
    "usernames = [url.split('/')[-1] for url in cleaned_data]"
   ]
  },
  {
   "cell_type": "markdown",
   "metadata": {},
   "source": [
    "### Step 4: Obtain the repo data for every single github username"
   ]
  },
  {
   "cell_type": "code",
   "execution_count": 8,
   "metadata": {},
   "outputs": [],
   "source": [
    "# this part of the url will never change\n",
    "base_url = 'https://api.github.com'"
   ]
  },
  {
   "cell_type": "code",
   "execution_count": 9,
   "metadata": {},
   "outputs": [],
   "source": [
    "# this goes through every username, and inserts it into the api url, and then passes that into requests.get().json()\n",
    "# to obtain a list of repos for every single user\n",
    "repo_lists = [requests.get(f\"{base_url}/users/{username}/repos\").json() for username in usernames]"
   ]
  },
  {
   "cell_type": "markdown",
   "metadata": {},
   "source": [
    "### Step 5: Create a 'flat' list that contains every unique repo for every single user"
   ]
  },
  {
   "cell_type": "markdown",
   "metadata": {},
   "source": [
    "Answer with list comprehension:"
   ]
  },
  {
   "cell_type": "code",
   "execution_count": 10,
   "metadata": {},
   "outputs": [],
   "source": [
    "# this is a nested for-loop using a list comprehension that returns each item inside the inner list\n",
    "repos = [repo for user in repo_lists for repo in user]"
   ]
  },
  {
   "cell_type": "markdown",
   "metadata": {},
   "source": [
    "Nested loops with comprehensions can be difficult to interpret sometimes, so if a regular for-loop is easier to digest, this is a different way of writing the same thing:"
   ]
  },
  {
   "cell_type": "code",
   "execution_count": null,
   "metadata": {},
   "outputs": [],
   "source": [
    "repos = []\n",
    "\n",
    "for user in repo_lists:\n",
    "    for repo in user:\n",
    "        repos.append(repo)"
   ]
  },
  {
   "cell_type": "markdown",
   "metadata": {},
   "source": [
    "### Step 6:  Get information about the name, owner, url, and date of every single repo."
   ]
  },
  {
   "cell_type": "code",
   "execution_count": 11,
   "metadata": {},
   "outputs": [],
   "source": [
    "# this creates a list of all the values for the name key\n",
    "repo_names = [repo['name'] for repo in repos]\n",
    "# ditto for the login key -- notice it's accessed inside the owner key\n",
    "owners     = [repo['owner']['login'] for repo in repos]\n",
    "# next two work the same way\n",
    "urls       = [repo['html_url'] for repo in repos]\n",
    "dates      = [repo['created_at'] for repo in repos]"
   ]
  },
  {
   "cell_type": "markdown",
   "metadata": {},
   "source": [
    "### Step 7:  Create a dictionary with the data created from step 7"
   ]
  },
  {
   "cell_type": "code",
   "execution_count": 12,
   "metadata": {},
   "outputs": [],
   "source": [
    "data_dict = {\n",
    "    'Owner': owners,\n",
    "    'Name': repo_names,\n",
    "    'URL': urls,\n",
    "    'Date': dates\n",
    "}"
   ]
  },
  {
   "cell_type": "markdown",
   "metadata": {},
   "source": [
    "### Step 8:  Pass your dictionary into the `pd.dataframe()` method to get your final dataset  "
   ]
  },
  {
   "cell_type": "code",
   "execution_count": 13,
   "metadata": {},
   "outputs": [],
   "source": [
    "import pandas as pd\n",
    "\n",
    "# this will take your dictionary and turn it into a dataframe\n",
    "df = pd.DataFrame(data_dict)"
   ]
  },
  {
   "cell_type": "code",
   "execution_count": 14,
   "metadata": {},
   "outputs": [
    {
     "data": {
      "text/html": [
       "<div>\n",
       "<style scoped>\n",
       "    .dataframe tbody tr th:only-of-type {\n",
       "        vertical-align: middle;\n",
       "    }\n",
       "\n",
       "    .dataframe tbody tr th {\n",
       "        vertical-align: top;\n",
       "    }\n",
       "\n",
       "    .dataframe thead th {\n",
       "        text-align: right;\n",
       "    }\n",
       "</style>\n",
       "<table border=\"1\" class=\"dataframe\">\n",
       "  <thead>\n",
       "    <tr style=\"text-align: right;\">\n",
       "      <th></th>\n",
       "      <th>Owner</th>\n",
       "      <th>Name</th>\n",
       "      <th>URL</th>\n",
       "      <th>Date</th>\n",
       "    </tr>\n",
       "  </thead>\n",
       "  <tbody>\n",
       "    <tr>\n",
       "      <th>0</th>\n",
       "      <td>JonathanBechtel</td>\n",
       "      <td>bitcoin</td>\n",
       "      <td>https://github.com/JonathanBechtel/bitcoin</td>\n",
       "      <td>2020-05-02T19:57:48Z</td>\n",
       "    </tr>\n",
       "    <tr>\n",
       "      <th>1</th>\n",
       "      <td>JonathanBechtel</td>\n",
       "      <td>cdc-dashboard</td>\n",
       "      <td>https://github.com/JonathanBechtel/cdc-dashboard</td>\n",
       "      <td>2016-11-02T14:39:37Z</td>\n",
       "    </tr>\n",
       "    <tr>\n",
       "      <th>2</th>\n",
       "      <td>JonathanBechtel</td>\n",
       "      <td>covid-19</td>\n",
       "      <td>https://github.com/JonathanBechtel/covid-19</td>\n",
       "      <td>2020-05-01T14:46:48Z</td>\n",
       "    </tr>\n",
       "    <tr>\n",
       "      <th>3</th>\n",
       "      <td>JonathanBechtel</td>\n",
       "      <td>covid-app</td>\n",
       "      <td>https://github.com/JonathanBechtel/covid-app</td>\n",
       "      <td>2021-01-18T00:57:37Z</td>\n",
       "    </tr>\n",
       "    <tr>\n",
       "      <th>4</th>\n",
       "      <td>JonathanBechtel</td>\n",
       "      <td>dashingdemo</td>\n",
       "      <td>https://github.com/JonathanBechtel/dashingdemo</td>\n",
       "      <td>2021-01-19T03:48:59Z</td>\n",
       "    </tr>\n",
       "  </tbody>\n",
       "</table>\n",
       "</div>"
      ],
      "text/plain": [
       "             Owner           Name  \\\n",
       "0  JonathanBechtel        bitcoin   \n",
       "1  JonathanBechtel  cdc-dashboard   \n",
       "2  JonathanBechtel       covid-19   \n",
       "3  JonathanBechtel      covid-app   \n",
       "4  JonathanBechtel    dashingdemo   \n",
       "\n",
       "                                                URL                  Date  \n",
       "0        https://github.com/JonathanBechtel/bitcoin  2020-05-02T19:57:48Z  \n",
       "1  https://github.com/JonathanBechtel/cdc-dashboard  2016-11-02T14:39:37Z  \n",
       "2       https://github.com/JonathanBechtel/covid-19  2020-05-01T14:46:48Z  \n",
       "3      https://github.com/JonathanBechtel/covid-app  2021-01-18T00:57:37Z  \n",
       "4    https://github.com/JonathanBechtel/dashingdemo  2021-01-19T03:48:59Z  "
      ]
     },
     "execution_count": 14,
     "metadata": {},
     "output_type": "execute_result"
    }
   ],
   "source": [
    "# look how pretty it is :)\n",
    "df.head()"
   ]
  },
  {
   "cell_type": "code",
   "execution_count": null,
   "metadata": {},
   "outputs": [],
   "source": []
  }
 ],
 "metadata": {
  "kernelspec": {
   "display_name": "Python 3",
   "language": "python",
   "name": "python3"
  },
  "language_info": {
   "codemirror_mode": {
    "name": "ipython",
    "version": 3
   },
   "file_extension": ".py",
   "mimetype": "text/x-python",
   "name": "python",
   "nbconvert_exporter": "python",
   "pygments_lexer": "ipython3",
   "version": "3.8.5"
  }
 },
 "nbformat": 4,
 "nbformat_minor": 2
}
