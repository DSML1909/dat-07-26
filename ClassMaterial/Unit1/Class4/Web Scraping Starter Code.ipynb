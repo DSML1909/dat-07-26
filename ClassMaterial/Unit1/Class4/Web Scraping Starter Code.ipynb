{
 "cells": [
  {
   "cell_type": "markdown",
   "metadata": {},
   "source": [
    "This notebook will provide a little bit of starter code to help people with getting started on the web scraping project."
   ]
  },
  {
   "cell_type": "code",
   "execution_count": 10,
   "metadata": {},
   "outputs": [],
   "source": [
    "# do our imports\n",
    "import pandas as pd\n",
    "from bs4 import BeautifulSoup\n",
    "import requests\n",
    "import time"
   ]
  },
  {
   "cell_type": "code",
   "execution_count": 3,
   "metadata": {},
   "outputs": [],
   "source": [
    "# load the url into the scraper\n",
    "url = 'https://www.yelp.com/search?find_desc=Restaurants&find_loc=London&start=0'\n",
    "req = requests.get(url)\n",
    "scraper = BeautifulSoup(req.text)"
   ]
  },
  {
   "cell_type": "code",
   "execution_count": 4,
   "metadata": {},
   "outputs": [
    {
     "data": {
      "text/plain": [
       "[<a class=\"css-166la90\" href=\"/biz/the-mayfair-chippy-london-2?osq=Restaurants\" name=\"The Mayfair Chippy\" rel=\"\" target=\"\">The Mayfair Chippy</a>,\n",
       " <a class=\"css-166la90\" href=\"/biz/restaurant-gordon-ramsay-london-3?osq=Restaurants\" name=\"Restaurant Gordon Ramsay\" rel=\"\" target=\"\">Restaurant Gordon Ramsay</a>,\n",
       " <a class=\"css-166la90\" href=\"/biz/the-fat-bear-london?osq=Restaurants\" name=\"The Fat Bear\" rel=\"\" target=\"\">The Fat Bear</a>,\n",
       " <a class=\"css-166la90\" href=\"/biz/dishoom-london?osq=Restaurants\" name=\"Dishoom\" rel=\"\" target=\"\">Dishoom</a>,\n",
       " <a class=\"css-166la90\" href=\"/biz/flat-iron-london-2?osq=Restaurants\" name=\"Flat Iron\" rel=\"\" target=\"\">Flat Iron</a>,\n",
       " <a class=\"css-166la90\" href=\"/biz/padella-london-3?osq=Restaurants\" name=\"Padella\" rel=\"\" target=\"\">Padella</a>,\n",
       " <a class=\"css-166la90\" href=\"/biz/ffionas-restaurant-london?osq=Restaurants\" name=\"Ffiona’s Restaurant\" rel=\"\" target=\"\">Ffiona’s Restaurant</a>,\n",
       " <a class=\"css-166la90\" href=\"/biz/the-queens-arms-london?osq=Restaurants\" name=\"The Queens Arms\" rel=\"\" target=\"\">The Queens Arms</a>,\n",
       " <a class=\"css-166la90\" href=\"/biz/abeno-london?osq=Restaurants\" name=\"Abeno\" rel=\"\" target=\"\">Abeno</a>,\n",
       " <a class=\"css-166la90\" href=\"/biz/the-golden-chippy-london?osq=Restaurants\" name=\"The Golden Chippy\" rel=\"\" target=\"\">The Golden Chippy</a>,\n",
       " <a class=\"pagination-link-component__09f24__gSSR6 css-166la90\" href=\"https://www.yelp.com/search?find_desc=Restaurants&amp;find_loc=London&amp;start=10\" name=\"\" rel=\"\" role=\"link\" target=\"\"><div aria-label=\"Page: 2\" class=\"undefined display--inline-block__09f24__3SvIn border-color--default__09f24__3Epto\">2</div></a>,\n",
       " <a class=\"pagination-link-component__09f24__gSSR6 css-166la90\" href=\"https://www.yelp.com/search?find_desc=Restaurants&amp;find_loc=London&amp;start=20\" name=\"\" rel=\"\" role=\"link\" target=\"\"><div aria-label=\"Page: 3\" class=\"undefined display--inline-block__09f24__3SvIn border-color--default__09f24__3Epto\">3</div></a>,\n",
       " <a class=\"pagination-link-component__09f24__gSSR6 css-166la90\" href=\"https://www.yelp.com/search?find_desc=Restaurants&amp;find_loc=London&amp;start=30\" name=\"\" rel=\"\" role=\"link\" target=\"\"><div aria-label=\"Page: 4\" class=\"undefined display--inline-block__09f24__3SvIn border-color--default__09f24__3Epto\">4</div></a>,\n",
       " <a class=\"pagination-link-component__09f24__gSSR6 css-166la90\" href=\"https://www.yelp.com/search?find_desc=Restaurants&amp;find_loc=London&amp;start=40\" name=\"\" rel=\"\" role=\"link\" target=\"\"><div aria-label=\"Page: 5\" class=\"undefined display--inline-block__09f24__3SvIn border-color--default__09f24__3Epto\">5</div></a>,\n",
       " <a class=\"pagination-link-component__09f24__gSSR6 css-166la90\" href=\"https://www.yelp.com/search?find_desc=Restaurants&amp;find_loc=London&amp;start=50\" name=\"\" rel=\"\" role=\"link\" target=\"\"><div aria-label=\"Page: 6\" class=\"undefined display--inline-block__09f24__3SvIn border-color--default__09f24__3Epto\">6</div></a>,\n",
       " <a class=\"pagination-link-component__09f24__gSSR6 css-166la90\" href=\"https://www.yelp.com/search?find_desc=Restaurants&amp;find_loc=London&amp;start=60\" name=\"\" rel=\"\" role=\"link\" target=\"\"><div aria-label=\"Page: 7\" class=\"undefined display--inline-block__09f24__3SvIn border-color--default__09f24__3Epto\">7</div></a>,\n",
       " <a class=\"pagination-link-component__09f24__gSSR6 css-166la90\" href=\"https://www.yelp.com/search?find_desc=Restaurants&amp;find_loc=London&amp;start=70\" name=\"\" rel=\"\" role=\"link\" target=\"\"><div aria-label=\"Page: 8\" class=\"undefined display--inline-block__09f24__3SvIn border-color--default__09f24__3Epto\">8</div></a>,\n",
       " <a class=\"pagination-link-component__09f24__gSSR6 css-166la90\" href=\"https://www.yelp.com/search?find_desc=Restaurants&amp;find_loc=London&amp;start=80\" name=\"\" rel=\"\" role=\"link\" target=\"\"><div aria-label=\"Page: 9\" class=\"undefined display--inline-block__09f24__3SvIn border-color--default__09f24__3Epto\">9</div></a>,\n",
       " <a class=\"next-link navigation-button__09f24__1EzzD css-166la90\" href=\"https://www.yelp.com/search?find_desc=Restaurants&amp;find_loc=London&amp;start=10\" name=\"\" rel=\"\" role=\"link\" target=\"\"><span aria-hidden=\"false\" aria-label=\"Next\" class=\"icon--24-chevron-right-v2 navigation-button-icon__09f24__2IPkw css-12anxc3\" role=\"img\"><svg class=\"icon_svg\" height=\"24\" width=\"24\"><path d=\"M9.75 17.58a1 1 0 01-.7-.28 1 1 0 010-1.42l3.8-3.88L9 8.12a1 1 0 111.41-1.42L15 11.3a1 1 0 010 1.4l-4.5 4.58a1 1 0 01-.75.3z\"></path></svg></span></a>]"
      ]
     },
     "execution_count": 4,
     "metadata": {},
     "output_type": "execute_result"
    }
   ],
   "source": [
    "# now we'll get the restaurant titles by first getting all of the links with the class title\n",
    "links = scraper.find_all('a', {'class': 'css-166la90'})\n",
    "# and here we are\n",
    "links"
   ]
  },
  {
   "cell_type": "code",
   "execution_count": 6,
   "metadata": {},
   "outputs": [
    {
     "data": {
      "text/plain": [
       "['The Mayfair Chippy',\n",
       " 'Restaurant Gordon Ramsay',\n",
       " 'The Fat Bear',\n",
       " 'Dishoom',\n",
       " 'Flat Iron',\n",
       " 'Padella',\n",
       " 'Ffiona’s Restaurant',\n",
       " 'The Queens Arms',\n",
       " 'Abeno',\n",
       " 'The Golden Chippy',\n",
       " '2',\n",
       " '3',\n",
       " '4',\n",
       " '5',\n",
       " '6',\n",
       " '7',\n",
       " '8',\n",
       " '9',\n",
       " '']"
      ]
     },
     "execution_count": 6,
     "metadata": {},
     "output_type": "execute_result"
    }
   ],
   "source": [
    "# in class we converted to text, and then separated the titles based off of their length and presence of a digit\n",
    "link_txt = [link.text for link in links]\n",
    "# which gives us these results\n",
    "link_txt"
   ]
  },
  {
   "cell_type": "code",
   "execution_count": 7,
   "metadata": {},
   "outputs": [
    {
     "data": {
      "text/plain": [
       "['The Mayfair Chippy',\n",
       " 'Restaurant Gordon Ramsay',\n",
       " 'The Fat Bear',\n",
       " 'Dishoom',\n",
       " 'Flat Iron',\n",
       " 'Padella',\n",
       " 'Ffiona’s Restaurant',\n",
       " 'The Queens Arms',\n",
       " 'Abeno',\n",
       " 'The Golden Chippy']"
      ]
     },
     "execution_count": 7,
     "metadata": {},
     "output_type": "execute_result"
    }
   ],
   "source": [
    "# and then separate out further\n",
    "          # return the text value for each link\n",
    "titles = [link for link in link_txt \n",
    "          # if it is not only numbers\n",
    "          if not link.isdigit() \n",
    "          # and it's more than one character long\n",
    "         and len(link) > 1]\n",
    "# and here we are\n",
    "titles"
   ]
  },
  {
   "cell_type": "code",
   "execution_count": 8,
   "metadata": {},
   "outputs": [
    {
     "data": {
      "text/plain": [
       "['The Mayfair Chippy',\n",
       " 'Restaurant Gordon Ramsay',\n",
       " 'The Fat Bear',\n",
       " 'Dishoom',\n",
       " 'Flat Iron',\n",
       " 'Padella',\n",
       " 'Ffiona’s Restaurant',\n",
       " 'The Queens Arms',\n",
       " 'Abeno',\n",
       " 'The Golden Chippy']"
      ]
     },
     "execution_count": 8,
     "metadata": {},
     "output_type": "execute_result"
    }
   ],
   "source": [
    "# REMEMBER THOUGH!  There are often different ways of doing things\n",
    "# For example if you look at the link text, you can see that there's a /biz/ piece of text for everyone that\n",
    "# points to a restaurant, so if we wanted, we could also use that\n",
    "          # return the link text for each link in the list\n",
    "titles = [link.text for link in links\n",
    "          # if the characters '/biz/' are inside the href attribute\n",
    "          # note the notation -- you can use selectors like link['href'] or link['class']\n",
    "          # as long as it's provided in the source code\n",
    "          if '/biz/' in link['href']]\n",
    "# this gets everything directly\n",
    "titles"
   ]
  },
  {
   "cell_type": "markdown",
   "metadata": {},
   "source": [
    "### Using a Loop For Multiple Pages\n",
    "\n",
    "If you want to go beyond the first page then you'll need to connect data listed in the tabs at the bottom of the page.\n",
    "\n",
    "If you remember from class, you'll note that there was an argument in the url called `start` and it denoted what portion of the results you would be seeing.  The url looked like this: \n",
    "\n",
    "`https://www.yelp.com/search?find_desc=Restaurants&find_loc=London&start=0`\n",
    "\n",
    "If you change the value of `start` to 10, 20, 30, etc, you'll then go ahead and take yourself to the next page.\n",
    "\n",
    "This means you can easily take the sample code above and put it into a loop to go through as many pages as you need.  \n",
    "\n",
    "Here's an example:"
   ]
  },
  {
   "cell_type": "code",
   "execution_count": 15,
   "metadata": {},
   "outputs": [
    {
     "name": "stdout",
     "output_type": "stream",
     "text": [
      "Finished round for restaurants starting at: 0\n",
      "Finished round for restaurants starting at: 10\n",
      "Finished round for restaurants starting at: 20\n",
      "Finished round for restaurants starting at: 30\n",
      "Finished round for restaurants starting at: 40\n",
      "Finished round for restaurants starting at: 50\n",
      "Finished round for restaurants starting at: 60\n",
      "Finished round for restaurants starting at: 70\n",
      "Finished round for restaurants starting at: 80\n",
      "Finished round for restaurants starting at: 90\n"
     ]
    }
   ],
   "source": [
    "# where we'll store all of our lists\n",
    "all_titles = []\n",
    "\n",
    "# start at 0, go to 10, 20, 30, etc, all the way to 100\n",
    "for i in range(0, 100, 10):\n",
    "    # set the url with the appropriate version of i\n",
    "    url = f'https://www.yelp.com/search?find_desc=Restaurants&find_loc=London&start={i}'\n",
    "    # connect to the url\n",
    "    req = requests.get(url)\n",
    "    # load it into the scraper\n",
    "    scraper = BeautifulSoup(req.text)\n",
    "    # select the <a> tags with the associated class\n",
    "    links   = scraper.find_all('a', {'class': 'css-166la90'})\n",
    "    # grab the links that only have '/biz/' in the href attribute\n",
    "    titles  = [link.text for link in links if '/biz/' in link['href']]\n",
    "    # add these values to the master list\n",
    "    all_titles += titles\n",
    "    # NOTE:  slowing down the speed at which you connect to a website makes you less likely to appear as a bot!\n",
    "    print(f\"Finished round for restaurants starting at: {i}\")\n",
    "    time.sleep(3)"
   ]
  },
  {
   "cell_type": "code",
   "execution_count": 16,
   "metadata": {},
   "outputs": [
    {
     "data": {
      "text/plain": [
       "['The Mayfair Chippy',\n",
       " 'Restaurant Gordon Ramsay',\n",
       " 'The Fat Bear',\n",
       " 'Dishoom',\n",
       " 'Flat Iron',\n",
       " 'Padella',\n",
       " 'Ffiona’s Restaurant',\n",
       " 'The Queens Arms',\n",
       " 'Abeno',\n",
       " 'The Golden Chippy',\n",
       " 'Barrafina',\n",
       " 'Duck & Waffle',\n",
       " 'Hawksmoor Seven Dials',\n",
       " 'Mestizo',\n",
       " 'Savoir Faire',\n",
       " 'The Alchemist',\n",
       " 'The Alfred Tennyson Belgravia',\n",
       " 'Tito’s',\n",
       " 'Bibimbap',\n",
       " 'Sketch',\n",
       " 'Ngon Ngon',\n",
       " 'The Breakfast Club',\n",
       " 'HOOK',\n",
       " 'Circolo Popolare',\n",
       " 'Lanzhou Noodle Bar',\n",
       " 'Seoul Bakery',\n",
       " 'Mother Mash',\n",
       " 'The Roof Deck Restaurant and Bar, Selfridges',\n",
       " 'Da Mario Restaurant',\n",
       " 'Kennington Lane Cafe',\n",
       " 'Jinjuu',\n",
       " 'BAO - Soho',\n",
       " 'Kennington Lane Cafe',\n",
       " 'Regency Café',\n",
       " 'Honey & Co',\n",
       " 'Ye Olde Cheshire Cheese',\n",
       " 'NOPI',\n",
       " 'The Palomar Restaurant',\n",
       " 'Yauatcha',\n",
       " 'The Ivy',\n",
       " 'The Ivy',\n",
       " 'Gloria',\n",
       " 'The Victoria',\n",
       " 'The Barge House',\n",
       " 'Piccolino',\n",
       " 'The Ledbury',\n",
       " 'Naru',\n",
       " 'Tayyabs',\n",
       " 'Orsini',\n",
       " 'Duck & Waffle Local',\n",
       " 'The Pig and Butcher',\n",
       " 'Tokyo Sukiyaki-Tei',\n",
       " 'Wahaca',\n",
       " 'Shoryu Ramen',\n",
       " 'Nambu Tei',\n",
       " 'Cirilo Filipino Kainan',\n",
       " 'Barrafina',\n",
       " 'The Orangery',\n",
       " 'Silk Road',\n",
       " 'Kazu',\n",
       " 'Hide',\n",
       " 'Persepolis',\n",
       " 'Korean Bbq and Vegan Restaurant',\n",
       " 'Laksamania',\n",
       " 'The Wolseley',\n",
       " 'London House by Gordon Ramsay',\n",
       " 'Albertini Restaurant',\n",
       " 'Burger & Lobster',\n",
       " 'Where the Pancakes are',\n",
       " 'Burger & Lobster',\n",
       " 'The Rum Kitchen',\n",
       " 'The Wolseley',\n",
       " 'Union Viet',\n",
       " 'Kintan Japanese BBQ',\n",
       " 'Cecconi’s Mayfair',\n",
       " 'The Grazing Goat Marylebone',\n",
       " 'Santore',\n",
       " 'Burger & Lobster',\n",
       " 'Texas Joe’s',\n",
       " 'Honest Burgers Meard St - Soho',\n",
       " 'Misato',\n",
       " 'Domo 94',\n",
       " 'Scott’s',\n",
       " 'Cacio & Pepe',\n",
       " 'Kiln',\n",
       " 'The Oystermen Seafood Bar & Kitchen',\n",
       " 'Blacklock',\n",
       " 'Oka',\n",
       " 'The Shed',\n",
       " 'Banh Mi Town',\n",
       " 'The Ivy Kensington Brasserie',\n",
       " 'Scott’s',\n",
       " 'The Shed',\n",
       " 'The Oystermen Seafood Bar & Kitchen',\n",
       " 'Persian Nights',\n",
       " 'Maria Sabina',\n",
       " 'The Stoke House',\n",
       " 'German Gymnasium',\n",
       " 'Fuckoffee',\n",
       " 'Warisan Cafe']"
      ]
     },
     "execution_count": 16,
     "metadata": {},
     "output_type": "execute_result"
    }
   ],
   "source": [
    "# and here we go\n",
    "all_titles"
   ]
  }
 ],
 "metadata": {
  "kernelspec": {
   "display_name": "Python 3",
   "language": "python",
   "name": "python3"
  },
  "language_info": {
   "codemirror_mode": {
    "name": "ipython",
    "version": 3
   },
   "file_extension": ".py",
   "mimetype": "text/x-python",
   "name": "python",
   "nbconvert_exporter": "python",
   "pygments_lexer": "ipython3",
   "version": "3.8.5"
  }
 },
 "nbformat": 4,
 "nbformat_minor": 4
}
