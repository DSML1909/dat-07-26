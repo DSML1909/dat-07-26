{
 "cells": [
  {
   "cell_type": "code",
   "execution_count": 61,
   "id": "d1bb07cd",
   "metadata": {},
   "outputs": [],
   "source": [
    "import requests\n",
    "from bs4 import BeautifulSoup\n",
    "import time\n",
    "import csv\n",
    "\n",
    "filename = 'yelp_scrape_reviews.csv'\n",
    "f = open(filename, 'w')\n",
    "heads = 'Restaurant_Name,Food_Type,Price_Range,Average_Rating,Review_Count,Phone_Number,Address\\n'\n",
    "f.write(heads)\n",
    "\n",
    "for start in range(0, 31, 10):\n",
    "\n",
    "    # Sraping the URL\n",
    "    url = f'https://www.yelp.com/search?find_desc=Restaurants&find_loc=London%2C%20United%20Kingdom&ns=1&={start}'\n",
    "\n",
    "    headers = {'user-agent': 'Chrome/92.0.4515.131'}\n",
    "    html_req = requests.get(url, headers=headers)\n",
    "\n",
    "    time.sleep(10)\n",
    "\n",
    "    soup = BeautifulSoup(html_req.content, 'lxml')\n",
    "\n",
    "    names_lst = []\n",
    "    content = soup.select('[class*=Name]')\n",
    "    for item in content:\n",
    "        name = item.text[3:].replace(', ', '-').strip()\n",
    "        names_lst.append(name)\n",
    "\n",
    "    price_lst = []\n",
    "    cuisine_lst = []\n",
    "    cuisine_price = soup.select('[class*=priceCategory]')\n",
    "    for item in cuisine_price:\n",
    "        cp_lst = item.text.split('$')\n",
    "        price_lst.append(''.join(['$' for x in cp_lst if x == '']))\n",
    "        cuisine_lst.append(cp_lst[-1].replace(', ', '-'))\n",
    "\n",
    "    rating_lst = []\n",
    "    ratings = soup.select('[aria-label*=rating]')\n",
    "    for item in ratings:\n",
    "        stars = item['aria-label'].split(' ')[0]\n",
    "        rating_lst.append(f'{stars} stars')\n",
    "\n",
    "    rev_count_lst = []\n",
    "    rev_counts = soup.select('[class*=reviewCount]')\n",
    "    for item in rev_counts:\n",
    "        rev_count_lst.append(item.text)\n",
    "        \n",
    "    zipped_lst = [(a, b, c, d, e) for a, b, c, d, e in zip(names_lst,\n",
    "                                                                       cuisine_lst,\n",
    "                                                                       price_lst,\n",
    "                                                                       rating_lst,\n",
    "                                                                       rev_count_lst)]\n",
    "\n",
    "    for i in zipped_lst:\n",
    "        try:\n",
    "            f.write(i[0] + ',' + i[1] + ',' + i[2] + ',' + i[3] + ',' + i[4] + ',' + '\\n')\n",
    "        except UnicodeEncodeError:\n",
    "            pass\n",
    "\n",
    "f.close()"
   ]
  },
  {
   "cell_type": "code",
   "execution_count": 54,
   "id": "0c0dfdcc",
   "metadata": {},
   "outputs": [
    {
     "data": {
      "text/plain": [
       "['The Mayfair Chippy',\n",
       " 'Restaurant Gordon Ramsay',\n",
       " 'The Fat Bear',\n",
       " 'Dishoom',\n",
       " 'Flat Iron',\n",
       " 'Padella',\n",
       " 'Ffiona’s Restaurant',\n",
       " 'The Queens Arms',\n",
       " 'Abeno',\n",
       " 'The Golden Chippy']"
      ]
     },
     "execution_count": 54,
     "metadata": {},
     "output_type": "execute_result"
    }
   ],
   "source": [
    "names_lst"
   ]
  },
  {
   "cell_type": "code",
   "execution_count": 55,
   "id": "9960050e",
   "metadata": {},
   "outputs": [
    {
     "data": {
      "text/plain": [
       "['283', '206', '122', '1850', '381', '208', '266', '120', '102', '110']"
      ]
     },
     "execution_count": 55,
     "metadata": {},
     "output_type": "execute_result"
    }
   ],
   "source": [
    "rev_count_lst"
   ]
  },
  {
   "cell_type": "code",
   "execution_count": 56,
   "id": "5397e29d",
   "metadata": {},
   "outputs": [
    {
     "data": {
      "text/plain": [
       "['Fish & Chips££Mayfair',\n",
       " 'FrenchBritish££££Chelsea',\n",
       " 'American (Traditional)Soul FoodCajun/Creole££Blackfriars',\n",
       " 'Indian££Covent Garden',\n",
       " 'Steakhouses££Soho',\n",
       " 'Italian££London Bridge',\n",
       " 'British££Kensington',\n",
       " 'BritishPubsGastropubs££Victoria',\n",
       " 'Japanese££Bloomsbury',\n",
       " 'Fish & Chips££Deptford']"
      ]
     },
     "execution_count": 56,
     "metadata": {},
     "output_type": "execute_result"
    }
   ],
   "source": [
    "cuisine_lst"
   ]
  },
  {
   "cell_type": "code",
   "execution_count": 57,
   "id": "571529b1",
   "metadata": {},
   "outputs": [
    {
     "data": {
      "text/plain": [
       "[('The Mayfair Chippy', 'Fish & Chips££Mayfair', '', '4.5 stars', '283'),\n",
       " ('Restaurant Gordon Ramsay',\n",
       "  'FrenchBritish££££Chelsea',\n",
       "  '',\n",
       "  '4.5 stars',\n",
       "  '206'),\n",
       " ('The Fat Bear',\n",
       "  'American (Traditional)Soul FoodCajun/Creole££Blackfriars',\n",
       "  '',\n",
       "  '4.5 stars',\n",
       "  '122'),\n",
       " ('Dishoom', 'Indian££Covent Garden', '', '4.5 stars', '1850'),\n",
       " ('Flat Iron', 'Steakhouses££Soho', '', '4.5 stars', '381'),\n",
       " ('Padella', 'Italian££London Bridge', '', '4.5 stars', '208'),\n",
       " ('Ffiona’s Restaurant', 'British££Kensington', '', '4.5 stars', '266'),\n",
       " ('The Queens Arms',\n",
       "  'BritishPubsGastropubs££Victoria',\n",
       "  '',\n",
       "  '4.5 stars',\n",
       "  '120'),\n",
       " ('Abeno', 'Japanese££Bloomsbury', '', '4.5 stars', '102'),\n",
       " ('The Golden Chippy', 'Fish & Chips££Deptford', '', '5 stars', '110')]"
      ]
     },
     "execution_count": 57,
     "metadata": {},
     "output_type": "execute_result"
    }
   ],
   "source": [
    "zipped_lst"
   ]
  },
  {
   "cell_type": "code",
   "execution_count": 58,
   "id": "c8f49eff",
   "metadata": {},
   "outputs": [],
   "source": [
    "import pandas as pd\n",
    "df = pd.DataFrame(zipped_lst)"
   ]
  },
  {
   "cell_type": "code",
   "execution_count": 62,
   "id": "264d1cb6",
   "metadata": {},
   "outputs": [
    {
     "data": {
      "text/html": [
       "<div>\n",
       "<style scoped>\n",
       "    .dataframe tbody tr th:only-of-type {\n",
       "        vertical-align: middle;\n",
       "    }\n",
       "\n",
       "    .dataframe tbody tr th {\n",
       "        vertical-align: top;\n",
       "    }\n",
       "\n",
       "    .dataframe thead th {\n",
       "        text-align: right;\n",
       "    }\n",
       "</style>\n",
       "<table border=\"1\" class=\"dataframe\">\n",
       "  <thead>\n",
       "    <tr style=\"text-align: right;\">\n",
       "      <th></th>\n",
       "      <th>0</th>\n",
       "      <th>1</th>\n",
       "      <th>2</th>\n",
       "      <th>3</th>\n",
       "      <th>4</th>\n",
       "    </tr>\n",
       "  </thead>\n",
       "  <tbody>\n",
       "    <tr>\n",
       "      <th>0</th>\n",
       "      <td>The Mayfair Chippy</td>\n",
       "      <td>Fish &amp; Chips££Mayfair</td>\n",
       "      <td></td>\n",
       "      <td>4.5 stars</td>\n",
       "      <td>283</td>\n",
       "    </tr>\n",
       "    <tr>\n",
       "      <th>1</th>\n",
       "      <td>Restaurant Gordon Ramsay</td>\n",
       "      <td>FrenchBritish££££Chelsea</td>\n",
       "      <td></td>\n",
       "      <td>4.5 stars</td>\n",
       "      <td>206</td>\n",
       "    </tr>\n",
       "    <tr>\n",
       "      <th>2</th>\n",
       "      <td>The Fat Bear</td>\n",
       "      <td>American (Traditional)Soul FoodCajun/Creole££B...</td>\n",
       "      <td></td>\n",
       "      <td>4.5 stars</td>\n",
       "      <td>122</td>\n",
       "    </tr>\n",
       "    <tr>\n",
       "      <th>3</th>\n",
       "      <td>Dishoom</td>\n",
       "      <td>Indian££Covent Garden</td>\n",
       "      <td></td>\n",
       "      <td>4.5 stars</td>\n",
       "      <td>1850</td>\n",
       "    </tr>\n",
       "    <tr>\n",
       "      <th>4</th>\n",
       "      <td>Flat Iron</td>\n",
       "      <td>Steakhouses££Soho</td>\n",
       "      <td></td>\n",
       "      <td>4.5 stars</td>\n",
       "      <td>381</td>\n",
       "    </tr>\n",
       "    <tr>\n",
       "      <th>5</th>\n",
       "      <td>Padella</td>\n",
       "      <td>Italian££London Bridge</td>\n",
       "      <td></td>\n",
       "      <td>4.5 stars</td>\n",
       "      <td>208</td>\n",
       "    </tr>\n",
       "    <tr>\n",
       "      <th>6</th>\n",
       "      <td>Ffiona’s Restaurant</td>\n",
       "      <td>British££Kensington</td>\n",
       "      <td></td>\n",
       "      <td>4.5 stars</td>\n",
       "      <td>266</td>\n",
       "    </tr>\n",
       "    <tr>\n",
       "      <th>7</th>\n",
       "      <td>The Queens Arms</td>\n",
       "      <td>BritishPubsGastropubs££Victoria</td>\n",
       "      <td></td>\n",
       "      <td>4.5 stars</td>\n",
       "      <td>120</td>\n",
       "    </tr>\n",
       "    <tr>\n",
       "      <th>8</th>\n",
       "      <td>Abeno</td>\n",
       "      <td>Japanese££Bloomsbury</td>\n",
       "      <td></td>\n",
       "      <td>4.5 stars</td>\n",
       "      <td>102</td>\n",
       "    </tr>\n",
       "    <tr>\n",
       "      <th>9</th>\n",
       "      <td>The Golden Chippy</td>\n",
       "      <td>Fish &amp; Chips££Deptford</td>\n",
       "      <td></td>\n",
       "      <td>5 stars</td>\n",
       "      <td>110</td>\n",
       "    </tr>\n",
       "  </tbody>\n",
       "</table>\n",
       "</div>"
      ],
      "text/plain": [
       "                          0  \\\n",
       "0        The Mayfair Chippy   \n",
       "1  Restaurant Gordon Ramsay   \n",
       "2              The Fat Bear   \n",
       "3                   Dishoom   \n",
       "4                 Flat Iron   \n",
       "5                   Padella   \n",
       "6       Ffiona’s Restaurant   \n",
       "7           The Queens Arms   \n",
       "8                     Abeno   \n",
       "9         The Golden Chippy   \n",
       "\n",
       "                                                   1 2          3     4  \n",
       "0                              Fish & Chips££Mayfair    4.5 stars   283  \n",
       "1                           FrenchBritish££££Chelsea    4.5 stars   206  \n",
       "2  American (Traditional)Soul FoodCajun/Creole££B...    4.5 stars   122  \n",
       "3                              Indian££Covent Garden    4.5 stars  1850  \n",
       "4                                  Steakhouses££Soho    4.5 stars   381  \n",
       "5                             Italian££London Bridge    4.5 stars   208  \n",
       "6                                British££Kensington    4.5 stars   266  \n",
       "7                    BritishPubsGastropubs££Victoria    4.5 stars   120  \n",
       "8                               Japanese££Bloomsbury    4.5 stars   102  \n",
       "9                             Fish & Chips££Deptford      5 stars   110  "
      ]
     },
     "execution_count": 62,
     "metadata": {},
     "output_type": "execute_result"
    }
   ],
   "source": [
    "df"
   ]
  },
  {
   "cell_type": "code",
   "execution_count": null,
   "id": "23daaca2",
   "metadata": {},
   "outputs": [],
   "source": [
    "df.to_csv(\"Output.csv\", columns = header)"
   ]
  }
 ],
 "metadata": {
  "kernelspec": {
   "display_name": "Python 3",
   "language": "python",
   "name": "python3"
  },
  "language_info": {
   "codemirror_mode": {
    "name": "ipython",
    "version": 3
   },
   "file_extension": ".py",
   "mimetype": "text/x-python",
   "name": "python",
   "nbconvert_exporter": "python",
   "pygments_lexer": "ipython3",
   "version": "3.8.8"
  }
 },
 "nbformat": 4,
 "nbformat_minor": 5
}
