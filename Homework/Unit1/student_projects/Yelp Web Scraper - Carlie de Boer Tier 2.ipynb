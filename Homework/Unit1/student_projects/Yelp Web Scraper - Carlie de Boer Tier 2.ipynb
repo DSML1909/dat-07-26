{
 "cells": [
  {
   "cell_type": "code",
   "execution_count": 1,
   "metadata": {},
   "outputs": [],
   "source": [
    "import pandas as pd\n",
    "from bs4 import BeautifulSoup\n",
    "import requests\n",
    "import time"
   ]
  },
  {
   "cell_type": "code",
   "execution_count": 2,
   "metadata": {},
   "outputs": [
    {
     "name": "stdout",
     "output_type": "stream",
     "text": [
      "Finished round for restaurants starting at: 0\n",
      "Finished round for restaurants starting at: 10\n",
      "Finished round for restaurants starting at: 20\n",
      "Finished round for restaurants starting at: 30\n",
      "Finished round for restaurants starting at: 40\n",
      "Finished round for restaurants starting at: 50\n",
      "Finished round for restaurants starting at: 60\n",
      "Finished round for restaurants starting at: 70\n",
      "Finished round for restaurants starting at: 80\n",
      "Finished round for restaurants starting at: 90\n"
     ]
    }
   ],
   "source": [
    "# Tier 2: 3 columns x 100 rows\n",
    "# Titles, Review Count, Top Review\n",
    "\n",
    "# Titles\n",
    "# a tag / link\n",
    "all_titles = []\n",
    "for i in range(0, 100, 10):\n",
    "    url = f'https://www.yelp.com/search?find_desc=Restaurants&find_loc=London&start={i}'\n",
    "    req = requests.get(url)\n",
    "    scraper = BeautifulSoup(req.text)\n",
    "    links   = scraper.find_all('a', {'class': 'css-166la90'})\n",
    "    titles  = [link.text for link in links if '/biz/' in link['href']]\n",
    "    all_titles += titles\n",
    "    print(f\"Finished round for restaurants starting at: {i}\")\n",
    "    time.sleep(3) "
   ]
  },
  {
   "cell_type": "code",
   "execution_count": 6,
   "metadata": {},
   "outputs": [
    {
     "name": "stdout",
     "output_type": "stream",
     "text": [
      "Finished round for review count starting at: 0\n",
      "Finished round for review count starting at: 10\n",
      "Finished round for review count starting at: 20\n",
      "Finished round for review count starting at: 30\n",
      "Finished round for review count starting at: 40\n",
      "Finished round for review count starting at: 50\n",
      "Finished round for review count starting at: 60\n",
      "Finished round for review count starting at: 70\n",
      "Finished round for review count starting at: 80\n",
      "Finished round for review count starting at: 90\n"
     ]
    }
   ],
   "source": [
    "# Review Count\n",
    "# span tag\n",
    "all_reviewcount = []\n",
    "for i in range(0, 100, 10):\n",
    "    url = f'https://www.yelp.com/search?find_desc=Restaurants&find_loc=London&start={i}'\n",
    "    req = requests.get(url)\n",
    "    scraper = BeautifulSoup(req.text)\n",
    "    span_class = 'reviewCount__09f24__3GsGY css-e81eai'\n",
    "    spans = scraper.find_all('span', {'class': span_class})\n",
    "    reviewcount = [span.text for span in spans]\n",
    "    all_reviewcount += reviewcount\n",
    "    print(f\"Finished round for review count starting at: {i}\")\n",
    "    time.sleep(3) "
   ]
  },
  {
   "cell_type": "code",
   "execution_count": 7,
   "metadata": {},
   "outputs": [
    {
     "name": "stdout",
     "output_type": "stream",
     "text": [
      "Finished round for top review starting at: 0\n",
      "Finished round for top review starting at: 10\n",
      "Finished round for top review starting at: 20\n",
      "Finished round for top review starting at: 30\n",
      "Finished round for top review starting at: 40\n",
      "Finished round for top review starting at: 50\n",
      "Finished round for top review starting at: 60\n",
      "Finished round for top review starting at: 70\n",
      "Finished round for top review starting at: 80\n",
      "Finished round for top review starting at: 90\n"
     ]
    }
   ],
   "source": [
    "# Top Review\n",
    "# p tag\n",
    "all_topreview = []\n",
    "for i in range(0, 100, 10):\n",
    "    url = f'https://www.yelp.com/search?find_desc=Restaurants&find_loc=London&start={i}'\n",
    "    req = requests.get(url)\n",
    "    scraper = BeautifulSoup(req.text)\n",
    "    paragraphs = scraper.find_all('p', {'class': 'css-e81eai'})\n",
    "    topreview = [paragraph.text for paragraph in paragraphs]\n",
    "    all_topreview += topreview\n",
    "    print(f\"Finished round for top review starting at: {i}\")\n",
    "    time.sleep(3) "
   ]
  },
  {
   "cell_type": "code",
   "execution_count": 8,
   "metadata": {},
   "outputs": [],
   "source": [
    "#remove elements not needed\n",
    "for item in all_topreview:\n",
    "    if item == 'Got search feedback? Help us improve.':\n",
    "        all_topreview.remove(item)"
   ]
  },
  {
   "cell_type": "code",
   "execution_count": 9,
   "metadata": {},
   "outputs": [
    {
     "data": {
      "text/html": [
       "<div>\n",
       "<style scoped>\n",
       "    .dataframe tbody tr th:only-of-type {\n",
       "        vertical-align: middle;\n",
       "    }\n",
       "\n",
       "    .dataframe tbody tr th {\n",
       "        vertical-align: top;\n",
       "    }\n",
       "\n",
       "    .dataframe thead th {\n",
       "        text-align: right;\n",
       "    }\n",
       "</style>\n",
       "<table border=\"1\" class=\"dataframe\">\n",
       "  <thead>\n",
       "    <tr style=\"text-align: right;\">\n",
       "      <th></th>\n",
       "      <th>name</th>\n",
       "      <th>review count</th>\n",
       "      <th>top review</th>\n",
       "    </tr>\n",
       "  </thead>\n",
       "  <tbody>\n",
       "    <tr>\n",
       "      <th>0</th>\n",
       "      <td>The Mayfair Chippy</td>\n",
       "      <td>282</td>\n",
       "      <td>“A chippy befitting of it's neighborhood.\\n\\nC...</td>\n",
       "    </tr>\n",
       "    <tr>\n",
       "      <th>1</th>\n",
       "      <td>Restaurant Gordon Ramsay</td>\n",
       "      <td>207</td>\n",
       "      <td>“This wasn't the best meal that I've had, but ...</td>\n",
       "    </tr>\n",
       "    <tr>\n",
       "      <th>2</th>\n",
       "      <td>The Fat Bear</td>\n",
       "      <td>122</td>\n",
       "      <td>“WOW, this place is delicious!\\n\\nOur family s...</td>\n",
       "    </tr>\n",
       "    <tr>\n",
       "      <th>3</th>\n",
       "      <td>Flat Iron</td>\n",
       "      <td>1852</td>\n",
       "      <td>“Average food poorly presented \\nWaste of time...</td>\n",
       "    </tr>\n",
       "    <tr>\n",
       "      <th>4</th>\n",
       "      <td>Ffiona’s Restaurant</td>\n",
       "      <td>381</td>\n",
       "      <td>“I really hate to say OMG because I'm really t...</td>\n",
       "    </tr>\n",
       "    <tr>\n",
       "      <th>...</th>\n",
       "      <td>...</td>\n",
       "      <td>...</td>\n",
       "      <td>...</td>\n",
       "    </tr>\n",
       "    <tr>\n",
       "      <th>95</th>\n",
       "      <td>The Stoke House</td>\n",
       "      <td>23</td>\n",
       "      <td>“Best fish &amp; chips I've ever had. All four of ...</td>\n",
       "    </tr>\n",
       "    <tr>\n",
       "      <th>96</th>\n",
       "      <td>Maria Sabina</td>\n",
       "      <td>2</td>\n",
       "      <td>“Not too much to say about this restaurant oth...</td>\n",
       "    </tr>\n",
       "    <tr>\n",
       "      <th>97</th>\n",
       "      <td>Warisan Cafe</td>\n",
       "      <td>97</td>\n",
       "      <td>“Another Gordon Ramsay that we just had to try...</td>\n",
       "    </tr>\n",
       "    <tr>\n",
       "      <th>98</th>\n",
       "      <td>Goodman</td>\n",
       "      <td>114</td>\n",
       "      <td>“Absolutely incredible quality of fish at this...</td>\n",
       "    </tr>\n",
       "    <tr>\n",
       "      <th>99</th>\n",
       "      <td>The Port House</td>\n",
       "      <td>84</td>\n",
       "      <td>“Amazing place. Always great, delicious, and f...</td>\n",
       "    </tr>\n",
       "  </tbody>\n",
       "</table>\n",
       "<p>100 rows × 3 columns</p>\n",
       "</div>"
      ],
      "text/plain": [
       "                        name review count  \\\n",
       "0         The Mayfair Chippy          282   \n",
       "1   Restaurant Gordon Ramsay          207   \n",
       "2               The Fat Bear          122   \n",
       "3                  Flat Iron         1852   \n",
       "4        Ffiona’s Restaurant          381   \n",
       "..                       ...          ...   \n",
       "95           The Stoke House           23   \n",
       "96              Maria Sabina            2   \n",
       "97              Warisan Cafe           97   \n",
       "98                   Goodman          114   \n",
       "99            The Port House           84   \n",
       "\n",
       "                                           top review  \n",
       "0   “A chippy befitting of it's neighborhood.\\n\\nC...  \n",
       "1   “This wasn't the best meal that I've had, but ...  \n",
       "2   “WOW, this place is delicious!\\n\\nOur family s...  \n",
       "3   “Average food poorly presented \\nWaste of time...  \n",
       "4   “I really hate to say OMG because I'm really t...  \n",
       "..                                                ...  \n",
       "95  “Best fish & chips I've ever had. All four of ...  \n",
       "96  “Not too much to say about this restaurant oth...  \n",
       "97  “Another Gordon Ramsay that we just had to try...  \n",
       "98  “Absolutely incredible quality of fish at this...  \n",
       "99  “Amazing place. Always great, delicious, and f...  \n",
       "\n",
       "[100 rows x 3 columns]"
      ]
     },
     "execution_count": 9,
     "metadata": {},
     "output_type": "execute_result"
    }
   ],
   "source": [
    "# TADA! \n",
    "\n",
    "yelp_tier2 = {'name': all_titles,\n",
    "              'review count': all_reviewcount, \n",
    "              'top review': all_topreview}\n",
    "\n",
    "pd.DataFrame(yelp_tier2)"
   ]
  },
  {
   "cell_type": "code",
   "execution_count": null,
   "metadata": {},
   "outputs": [],
   "source": []
  }
 ],
 "metadata": {
  "kernelspec": {
   "display_name": "Python 3",
   "language": "python",
   "name": "python3"
  },
  "language_info": {
   "codemirror_mode": {
    "name": "ipython",
    "version": 3
   },
   "file_extension": ".py",
   "mimetype": "text/x-python",
   "name": "python",
   "nbconvert_exporter": "python",
   "pygments_lexer": "ipython3",
   "version": "3.8.5"
  }
 },
 "nbformat": 4,
 "nbformat_minor": 5
}
