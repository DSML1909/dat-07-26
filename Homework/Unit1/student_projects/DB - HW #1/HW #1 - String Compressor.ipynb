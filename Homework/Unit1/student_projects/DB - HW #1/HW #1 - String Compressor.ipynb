{
 "cells": [
  {
   "cell_type": "code",
   "execution_count": 1,
   "metadata": {},
   "outputs": [],
   "source": [
    "string = 'aaabbBBccaaa'\n",
    "current_letter = ''\n",
    "count = 0\n",
    "output = ''\n",
    "for i in range(len(string)):\n",
    "    if i == 0:\n",
    "        count = 1\n",
    "        current_letter = string[i]\n",
    "        continue\n",
    "    elif i == len(string) - 1:\n",
    "        if string[i] == string[i - 1]:\n",
    "            count += 1\n",
    "            output += current_letter + str(count)\n",
    "            break\n",
    "        else:\n",
    "            current_letter = string[i]\n",
    "            count = 1\n",
    "            output += current_letter + str(count)\n",
    "    if string[i] == string[i -1]:\n",
    "        count += 1\n",
    "    else:\n",
    "        output += current_letter + str(count)\n",
    "        current_letter = string[i]\n",
    "        count = 1"
   ]
  },
  {
   "cell_type": "code",
   "execution_count": 2,
   "metadata": {},
   "outputs": [
    {
     "name": "stdout",
     "output_type": "stream",
     "text": [
      "a3b2B2c2a3\n"
     ]
    }
   ],
   "source": [
    "print(output)"
   ]
  },
  {
   "cell_type": "code",
   "execution_count": 4,
   "metadata": {},
   "outputs": [],
   "source": [
    "#The solution is case sensative after testing. In order to make it insensative, I would add another element to \n",
    "#the code where I would make every section either .upper or .lower, so it would not matter if the string was\n",
    "#upper or lower. First I need to say whatv would happen for the first and last letter of the string. If 1\n",
    "#then continue, if not, I continune through the string and take the first letter fiollowed by a count of\n",
    "#the number of letter. The i finish the output in 'oupyt' for th final result."
   ]
  },
  {
   "cell_type": "code",
   "execution_count": null,
   "metadata": {
    "scrolled": false
   },
   "outputs": [],
   "source": []
  },
  {
   "cell_type": "code",
   "execution_count": null,
   "metadata": {},
   "outputs": [],
   "source": []
  }
 ],
 "metadata": {
  "kernelspec": {
   "display_name": "Python 3",
   "language": "python",
   "name": "python3"
  },
  "language_info": {
   "codemirror_mode": {
    "name": "ipython",
    "version": 3
   },
   "file_extension": ".py",
   "mimetype": "text/x-python",
   "name": "python",
   "nbconvert_exporter": "python",
   "pygments_lexer": "ipython3",
   "version": "3.8.5"
  }
 },
 "nbformat": 4,
 "nbformat_minor": 5
}
