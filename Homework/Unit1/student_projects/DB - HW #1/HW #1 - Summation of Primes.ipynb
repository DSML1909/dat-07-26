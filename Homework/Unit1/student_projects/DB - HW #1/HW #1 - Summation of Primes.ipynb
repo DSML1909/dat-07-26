{
 "cells": [
  {
   "cell_type": "code",
   "execution_count": 3,
   "id": "c71e5e85",
   "metadata": {},
   "outputs": [],
   "source": [
    "prime_sum = 0\n",
    "\n",
    "for num in range(3, 2000):\n",
    "    for i in range(2, num):\n",
    "        if (num % i) == 0:\n",
    "            continue    \n",
    "    prime_sum += num\n",
    "                \n",
    "            \n",
    "               \n",
    "       "
   ]
  },
  {
   "cell_type": "code",
   "execution_count": 4,
   "id": "1c010fb3",
   "metadata": {},
   "outputs": [
    {
     "name": "stdout",
     "output_type": "stream",
     "text": [
      "1998997\n"
     ]
    }
   ],
   "source": [
    "print(prime_sum)"
   ]
  },
  {
   "cell_type": "code",
   "execution_count": null,
   "id": "0c3658fe",
   "metadata": {},
   "outputs": [],
   "source": [
    "#I take all numbers under 2000 in a range and iterate using a for loop. The definition of a non prime number\n",
    "#is that it is divisable by a number other than 1 and itself. Therefore, all other numbers are prime. I finally\n",
    "#all prime numbers to prime_sum (which I start at 0)"
   ]
  }
 ],
 "metadata": {
  "kernelspec": {
   "display_name": "Python 3",
   "language": "python",
   "name": "python3"
  },
  "language_info": {
   "codemirror_mode": {
    "name": "ipython",
    "version": 3
   },
   "file_extension": ".py",
   "mimetype": "text/x-python",
   "name": "python",
   "nbconvert_exporter": "python",
   "pygments_lexer": "ipython3",
   "version": "3.8.8"
  }
 },
 "nbformat": 4,
 "nbformat_minor": 5
}
