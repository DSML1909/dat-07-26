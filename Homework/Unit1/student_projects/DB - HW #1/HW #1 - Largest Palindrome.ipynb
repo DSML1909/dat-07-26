{
 "cells": [
  {
   "cell_type": "code",
   "execution_count": 1,
   "metadata": {},
   "outputs": [
    {
     "name": "stdout",
     "output_type": "stream",
     "text": [
      "906609\n"
     ]
    }
   ],
   "source": [
    "pal_list = []\n",
    "for x in range(100, 1000): \n",
    "    for y in range(100, 1000):\n",
    "        total = str(x * y)\n",
    "        reversed_total = str(total[::-1])\n",
    "        if total == reversed_total:\n",
    "            pal_list.append(int(total))\n",
    "print(max(pal_list))"
   ]
  },
  {
   "cell_type": "code",
   "execution_count": 1,
   "metadata": {},
   "outputs": [],
   "source": [
    "#I iterate in a for loop twice for x and y for three digit numbers. I then multiple x and y. I make it a string, \n",
    "#so I can define a palindrome as equal front and backwards. If this is true, then I add to the empty list. I make it\n",
    "# a list, so I can take the maximum value of the list. Total needs to be converted prior to integer, so I take the \n",
    "# maximum value of a integer (and not a string)"
   ]
  },
  {
   "cell_type": "code",
   "execution_count": 55,
   "metadata": {},
   "outputs": [],
   "source": [
    "\n",
    "       "
   ]
  },
  {
   "cell_type": "code",
   "execution_count": null,
   "metadata": {},
   "outputs": [],
   "source": []
  },
  {
   "cell_type": "code",
   "execution_count": null,
   "metadata": {},
   "outputs": [],
   "source": []
  }
 ],
 "metadata": {
  "kernelspec": {
   "display_name": "Python 3",
   "language": "python",
   "name": "python3"
  },
  "language_info": {
   "codemirror_mode": {
    "name": "ipython",
    "version": 3
   },
   "file_extension": ".py",
   "mimetype": "text/x-python",
   "name": "python",
   "nbconvert_exporter": "python",
   "pygments_lexer": "ipython3",
   "version": "3.8.5"
  }
 },
 "nbformat": 4,
 "nbformat_minor": 5
}
