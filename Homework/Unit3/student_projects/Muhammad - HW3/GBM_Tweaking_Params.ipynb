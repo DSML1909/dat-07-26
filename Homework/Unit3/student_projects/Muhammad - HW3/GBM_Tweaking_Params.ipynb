{
 "cells": [
  {
   "cell_type": "code",
   "execution_count": 1,
   "metadata": {},
   "outputs": [],
   "source": [
    "import pandas as pd\n",
    "import matplotlib.pyplot as plt\n",
    "import numpy as np\n",
    "from sklearn.ensemble import GradientBoostingRegressor\n",
    "import category_encoders as ce\n",
    "from sklearn.tree import plot_tree\n",
    "from sklearn.tree import DecisionTreeRegressor\n",
    "from sklearn.model_selection import train_test_split\n",
    "from sklearn.preprocessing import LabelEncoder\n",
    "import plotly.express as px\n",
    "import plotly.graph_objects as go\n",
    "from sklearn.pipeline import make_pipeline"
   ]
  },
  {
   "cell_type": "code",
   "execution_count": 2,
   "metadata": {},
   "outputs": [],
   "source": [
    "df = pd.read_csv(r\"C:\\Users\\Jonat\\dat-07-26\\Homework\\Unit3\\data\\insurance_premiums.csv\")\n",
    "#df.head(20)"
   ]
  },
  {
   "cell_type": "code",
   "execution_count": 5,
   "metadata": {},
   "outputs": [
    {
     "name": "stdout",
     "output_type": "stream",
     "text": [
      "OneHotEncoder(cols=['region', 'sex'], verbose=1)\n",
      "TargetEncoder(cols=['smoker'])\n",
      "Pipeline(steps=[('labelencoder', LabelEncoder()),\n",
      "                ('gradientboostingregressor',\n",
      "                 GradientBoostingRegressor(verbose=1))])\n",
      "LabelEncoder()\n"
     ]
    },
    {
     "data": {
      "text/html": [
       "<div>\n",
       "<style scoped>\n",
       "    .dataframe tbody tr th:only-of-type {\n",
       "        vertical-align: middle;\n",
       "    }\n",
       "\n",
       "    .dataframe tbody tr th {\n",
       "        vertical-align: top;\n",
       "    }\n",
       "\n",
       "    .dataframe thead th {\n",
       "        text-align: right;\n",
       "    }\n",
       "</style>\n",
       "<table border=\"1\" class=\"dataframe\">\n",
       "  <thead>\n",
       "    <tr style=\"text-align: right;\">\n",
       "      <th></th>\n",
       "      <th>age</th>\n",
       "      <th>sex</th>\n",
       "      <th>bmi</th>\n",
       "      <th>children</th>\n",
       "      <th>smoker</th>\n",
       "      <th>region</th>\n",
       "      <th>charges</th>\n",
       "    </tr>\n",
       "  </thead>\n",
       "  <tbody>\n",
       "    <tr>\n",
       "      <th>0</th>\n",
       "      <td>19</td>\n",
       "      <td>0</td>\n",
       "      <td>27.900</td>\n",
       "      <td>0</td>\n",
       "      <td>1</td>\n",
       "      <td>3</td>\n",
       "      <td>16884.92400</td>\n",
       "    </tr>\n",
       "    <tr>\n",
       "      <th>1</th>\n",
       "      <td>18</td>\n",
       "      <td>1</td>\n",
       "      <td>33.770</td>\n",
       "      <td>1</td>\n",
       "      <td>0</td>\n",
       "      <td>2</td>\n",
       "      <td>1725.55230</td>\n",
       "    </tr>\n",
       "    <tr>\n",
       "      <th>2</th>\n",
       "      <td>28</td>\n",
       "      <td>1</td>\n",
       "      <td>33.000</td>\n",
       "      <td>3</td>\n",
       "      <td>0</td>\n",
       "      <td>2</td>\n",
       "      <td>4449.46200</td>\n",
       "    </tr>\n",
       "    <tr>\n",
       "      <th>3</th>\n",
       "      <td>33</td>\n",
       "      <td>1</td>\n",
       "      <td>22.705</td>\n",
       "      <td>0</td>\n",
       "      <td>0</td>\n",
       "      <td>1</td>\n",
       "      <td>21984.47061</td>\n",
       "    </tr>\n",
       "    <tr>\n",
       "      <th>4</th>\n",
       "      <td>32</td>\n",
       "      <td>1</td>\n",
       "      <td>28.880</td>\n",
       "      <td>0</td>\n",
       "      <td>0</td>\n",
       "      <td>1</td>\n",
       "      <td>3866.85520</td>\n",
       "    </tr>\n",
       "    <tr>\n",
       "      <th>5</th>\n",
       "      <td>31</td>\n",
       "      <td>0</td>\n",
       "      <td>25.740</td>\n",
       "      <td>0</td>\n",
       "      <td>0</td>\n",
       "      <td>2</td>\n",
       "      <td>3756.62160</td>\n",
       "    </tr>\n",
       "    <tr>\n",
       "      <th>6</th>\n",
       "      <td>46</td>\n",
       "      <td>0</td>\n",
       "      <td>33.440</td>\n",
       "      <td>1</td>\n",
       "      <td>0</td>\n",
       "      <td>2</td>\n",
       "      <td>8240.58960</td>\n",
       "    </tr>\n",
       "    <tr>\n",
       "      <th>7</th>\n",
       "      <td>37</td>\n",
       "      <td>0</td>\n",
       "      <td>27.740</td>\n",
       "      <td>3</td>\n",
       "      <td>0</td>\n",
       "      <td>1</td>\n",
       "      <td>7281.50560</td>\n",
       "    </tr>\n",
       "    <tr>\n",
       "      <th>8</th>\n",
       "      <td>37</td>\n",
       "      <td>1</td>\n",
       "      <td>29.830</td>\n",
       "      <td>2</td>\n",
       "      <td>0</td>\n",
       "      <td>0</td>\n",
       "      <td>6406.41070</td>\n",
       "    </tr>\n",
       "    <tr>\n",
       "      <th>9</th>\n",
       "      <td>60</td>\n",
       "      <td>0</td>\n",
       "      <td>25.840</td>\n",
       "      <td>0</td>\n",
       "      <td>0</td>\n",
       "      <td>1</td>\n",
       "      <td>28923.13692</td>\n",
       "    </tr>\n",
       "  </tbody>\n",
       "</table>\n",
       "</div>"
      ],
      "text/plain": [
       "   age  sex     bmi  children  smoker  region      charges\n",
       "0   19    0  27.900         0       1       3  16884.92400\n",
       "1   18    1  33.770         1       0       2   1725.55230\n",
       "2   28    1  33.000         3       0       2   4449.46200\n",
       "3   33    1  22.705         0       0       1  21984.47061\n",
       "4   32    1  28.880         0       0       1   3866.85520\n",
       "5   31    0  25.740         0       0       2   3756.62160\n",
       "6   46    0  33.440         1       0       2   8240.58960\n",
       "7   37    0  27.740         3       0       1   7281.50560\n",
       "8   37    1  29.830         2       0       0   6406.41070\n",
       "9   60    0  25.840         0       0       1  28923.13692"
      ]
     },
     "execution_count": 5,
     "metadata": {},
     "output_type": "execute_result"
    }
   ],
   "source": [
    "te = ce.TargetEncoder(cols=['smoker'])\n",
    "ohe = ce.OneHotEncoder(cols=['region', 'sex'], verbose=1)\n",
    "\n",
    "#Debugging encoder\n",
    "le = LabelEncoder()        #label encoder\n",
    "# Transform the sex column\n",
    "df['sex'] = le.fit_transform(df['sex'])\n",
    "df['smoker'] = le.fit_transform(df['smoker'])\n",
    "df['region'] = le.fit_transform(df['region'])\n",
    "gbm = GradientBoostingRegressor(verbose=1)  \n",
    "\n",
    "pipe = make_pipeline(le, gbm)\n",
    "#pipe = make_pipeline(te, ohe, gbm)            #pipe 2 uses Gradient boosting\n",
    "print(ohe)\n",
    "print(te)\n",
    "print(pipe)\n",
    "\n",
    "print(le)\n",
    "df.head(10)"
   ]
  },
  {
   "cell_type": "code",
   "execution_count": 4,
   "metadata": {},
   "outputs": [
    {
     "data": {
      "text/plain": [
       "\"\\ntest = df.groupby('age').apply(lambda x: x.iloc[-30:])\\ntrain = df.groupby('age').apply(lambda x: x.iloc[:-30])  #iloc --> everything from start except last 30\\n\""
      ]
     },
     "execution_count": 4,
     "metadata": {},
     "output_type": "execute_result"
    }
   ],
   "source": [
    "'''\n",
    "test = df.groupby('age').apply(lambda x: x.iloc[-30:])\n",
    "train = df.groupby('age').apply(lambda x: x.iloc[:-30])  #iloc --> everything from start except last 30\n",
    "'''"
   ]
  },
  {
   "cell_type": "code",
   "execution_count": 5,
   "metadata": {},
   "outputs": [],
   "source": [
    "#train.reset_index(drop=True, inplace=True)"
   ]
  },
  {
   "cell_type": "code",
   "execution_count": 6,
   "metadata": {},
   "outputs": [
    {
     "data": {
      "text/plain": [
       "\"\\nval = train.groupby('age').apply(lambda x: x.iloc[-30:])     #validation set\\n#val.reset_index(drop=True, inplace=True)\\ntrain = train.groupby('age').apply(lambda x : x.iloc[:-30])  #stop from leaking data\\n\""
      ]
     },
     "execution_count": 6,
     "metadata": {},
     "output_type": "execute_result"
    }
   ],
   "source": [
    "'''\n",
    "val = train.groupby('age').apply(lambda x: x.iloc[-30:])     #validation set\n",
    "#val.reset_index(drop=True, inplace=True)\n",
    "train = train.groupby('age').apply(lambda x : x.iloc[:-30])  #stop from leaking data\n",
    "'''"
   ]
  },
  {
   "cell_type": "code",
   "execution_count": 7,
   "metadata": {},
   "outputs": [],
   "source": [
    "'''\n",
    "# FUNCTION USED FROM LAB FROM CLASS\n",
    "#USE FOR RESTAURANTS DATASET OR SIMILAR DATASETS\n",
    "# define some functions that we can reuse\n",
    "\n",
    "#parameter: df -->insurance data\n",
    "#           val_units --> value used to exclude from train n valdiation data\n",
    "#           return_val --> bool value if false func return train and test data else returns train, test n validation data\n",
    "\n",
    "def create_val_splits(df, val_units=30, return_val=False):\n",
    "    \"\"\"Function that will take in a dataset and split it up into training, validation, and test sets\"\"\"\n",
    "    # split into training, validation, and test sets\n",
    "    #df = df.drop('charges', axis=1)\n",
    "    train = df.groupby('age').apply(lambda x: x.iloc[:-val_units]).reset_index(drop=True)\n",
    "    test  = df.groupby('age').apply(lambda x: x.iloc[-val_units:]).reset_index(drop=True)\n",
    "    \n",
    "    if return_val:\n",
    "        val   = train.groupby('age').apply(lambda x: x.iloc[-val_units:]).reset_index(drop=True)\n",
    "        train = train.groupby('age').apply(lambda x: x.iloc[:-val_units]).reset_index(drop=True)\n",
    "        return train, val, test\n",
    "    else:\n",
    "        return train, test\n",
    "'''\n",
    "\n",
    "def split_dataset(df, split_frac=0.2, return_val = True, return_test = False, random_state = 7):\n",
    "    X = df.drop('charges', axis=1)\n",
    "    y = df['charges']\n",
    "    \n",
    "    X_train, X_test, y_train, y_test = train_test_split(X, y, test_size = split_frac, random_state = random_state)\n",
    "    #pipe_line[0].fit_transform(X_train, y_train)\n",
    "    #pipe_line[1].fit_transform(X_train, y_train)\n",
    "    \n",
    "    #pipe_line[0].fit_transform(X_test, y_test)\n",
    "    #pipe_line[1].fit_transform(X_test, y_test)\n",
    "    \n",
    "    \n",
    "    if return_val:\n",
    "        X_train, X_val, y_train, y_val = train_test_split(X_train, y_train, test_size = split_frac, random_state = random_state)\n",
    "        #pipe_line[0].fit_transform(X_val, y_val)\n",
    "        #pipe_line[1].fit_transform(X_val, y_val)\n",
    "\n",
    "    if return_val and return_test:\n",
    "        return X_train, y_train, X_val, y_val, X_test, y_test\n",
    "    \n",
    "    if return_val:\n",
    "        return X_train, y_train, X_val, y_val\n"
   ]
  },
  {
   "cell_type": "code",
   "execution_count": 8,
   "metadata": {},
   "outputs": [],
   "source": [
    "#train, val, test = create_val_splits(df, return_val=True)\n",
    "X_train, y_train, X_val, y_val, X_test, y_test = split_dataset(df, split_frac=0.15, return_val=True, return_test=True)\n",
    "#pipe[0].fit_transform(X_val, y_val)"
   ]
  },
  {
   "cell_type": "code",
   "execution_count": 9,
   "metadata": {},
   "outputs": [
    {
     "data": {
      "text/html": [
       "<div>\n",
       "<style scoped>\n",
       "    .dataframe tbody tr th:only-of-type {\n",
       "        vertical-align: middle;\n",
       "    }\n",
       "\n",
       "    .dataframe tbody tr th {\n",
       "        vertical-align: top;\n",
       "    }\n",
       "\n",
       "    .dataframe thead th {\n",
       "        text-align: right;\n",
       "    }\n",
       "</style>\n",
       "<table border=\"1\" class=\"dataframe\">\n",
       "  <thead>\n",
       "    <tr style=\"text-align: right;\">\n",
       "      <th></th>\n",
       "      <th>age</th>\n",
       "      <th>sex</th>\n",
       "      <th>bmi</th>\n",
       "      <th>children</th>\n",
       "      <th>smoker</th>\n",
       "      <th>region</th>\n",
       "    </tr>\n",
       "  </thead>\n",
       "  <tbody>\n",
       "    <tr>\n",
       "      <th>1268</th>\n",
       "      <td>20</td>\n",
       "      <td>0</td>\n",
       "      <td>33.30</td>\n",
       "      <td>0</td>\n",
       "      <td>0</td>\n",
       "      <td>3</td>\n",
       "    </tr>\n",
       "    <tr>\n",
       "      <th>735</th>\n",
       "      <td>49</td>\n",
       "      <td>0</td>\n",
       "      <td>34.77</td>\n",
       "      <td>1</td>\n",
       "      <td>0</td>\n",
       "      <td>1</td>\n",
       "    </tr>\n",
       "    <tr>\n",
       "      <th>214</th>\n",
       "      <td>45</td>\n",
       "      <td>0</td>\n",
       "      <td>30.90</td>\n",
       "      <td>2</td>\n",
       "      <td>0</td>\n",
       "      <td>3</td>\n",
       "    </tr>\n",
       "    <tr>\n",
       "      <th>145</th>\n",
       "      <td>29</td>\n",
       "      <td>0</td>\n",
       "      <td>38.83</td>\n",
       "      <td>3</td>\n",
       "      <td>0</td>\n",
       "      <td>2</td>\n",
       "    </tr>\n",
       "    <tr>\n",
       "      <th>841</th>\n",
       "      <td>59</td>\n",
       "      <td>1</td>\n",
       "      <td>24.70</td>\n",
       "      <td>0</td>\n",
       "      <td>0</td>\n",
       "      <td>0</td>\n",
       "    </tr>\n",
       "    <tr>\n",
       "      <th>...</th>\n",
       "      <td>...</td>\n",
       "      <td>...</td>\n",
       "      <td>...</td>\n",
       "      <td>...</td>\n",
       "      <td>...</td>\n",
       "      <td>...</td>\n",
       "    </tr>\n",
       "    <tr>\n",
       "      <th>1076</th>\n",
       "      <td>47</td>\n",
       "      <td>0</td>\n",
       "      <td>32.00</td>\n",
       "      <td>1</td>\n",
       "      <td>0</td>\n",
       "      <td>3</td>\n",
       "    </tr>\n",
       "    <tr>\n",
       "      <th>953</th>\n",
       "      <td>44</td>\n",
       "      <td>1</td>\n",
       "      <td>30.20</td>\n",
       "      <td>2</td>\n",
       "      <td>1</td>\n",
       "      <td>3</td>\n",
       "    </tr>\n",
       "    <tr>\n",
       "      <th>951</th>\n",
       "      <td>51</td>\n",
       "      <td>1</td>\n",
       "      <td>42.90</td>\n",
       "      <td>2</td>\n",
       "      <td>1</td>\n",
       "      <td>2</td>\n",
       "    </tr>\n",
       "    <tr>\n",
       "      <th>803</th>\n",
       "      <td>18</td>\n",
       "      <td>0</td>\n",
       "      <td>42.24</td>\n",
       "      <td>0</td>\n",
       "      <td>1</td>\n",
       "      <td>2</td>\n",
       "    </tr>\n",
       "    <tr>\n",
       "      <th>15</th>\n",
       "      <td>19</td>\n",
       "      <td>1</td>\n",
       "      <td>24.60</td>\n",
       "      <td>1</td>\n",
       "      <td>0</td>\n",
       "      <td>3</td>\n",
       "    </tr>\n",
       "  </tbody>\n",
       "</table>\n",
       "<p>171 rows × 6 columns</p>\n",
       "</div>"
      ],
      "text/plain": [
       "      age  sex    bmi  children  smoker  region\n",
       "1268   20    0  33.30         0       0       3\n",
       "735    49    0  34.77         1       0       1\n",
       "214    45    0  30.90         2       0       3\n",
       "145    29    0  38.83         3       0       2\n",
       "841    59    1  24.70         0       0       0\n",
       "...   ...  ...    ...       ...     ...     ...\n",
       "1076   47    0  32.00         1       0       3\n",
       "953    44    1  30.20         2       1       3\n",
       "951    51    1  42.90         2       1       2\n",
       "803    18    0  42.24         0       1       2\n",
       "15     19    1  24.60         1       0       3\n",
       "\n",
       "[171 rows x 6 columns]"
      ]
     },
     "execution_count": 9,
     "metadata": {},
     "output_type": "execute_result"
    }
   ],
   "source": [
    "X_val\n",
    "#X_train , y_train = train.drop('charges', axis=1), train['charges']         \n",
    "#X_val, y_val = val.drop('charges', axis=1), val['charges']"
   ]
  },
  {
   "cell_type": "code",
   "execution_count": 11,
   "metadata": {},
   "outputs": [
    {
     "data": {
      "text/plain": [
       "Pipeline(steps=[('labelencoder', LabelEncoder()),\n",
       "                ('gradientboostingregressor',\n",
       "                 GradientBoostingRegressor(verbose=1))])"
      ]
     },
     "execution_count": 11,
     "metadata": {},
     "output_type": "execute_result"
    }
   ],
   "source": [
    "pipe"
   ]
  },
  {
   "cell_type": "code",
   "execution_count": 12,
   "metadata": {},
   "outputs": [
    {
     "ename": "TypeError",
     "evalue": "fit_transform() takes 2 positional arguments but 3 were given",
     "output_type": "error",
     "traceback": [
      "\u001b[1;31m---------------------------------------------------------------------------\u001b[0m",
      "\u001b[1;31mTypeError\u001b[0m                                 Traceback (most recent call last)",
      "\u001b[1;32m<ipython-input-12-62f05099a2d9>\u001b[0m in \u001b[0;36m<module>\u001b[1;34m\u001b[0m\n\u001b[1;32m----> 1\u001b[1;33m \u001b[0mpipe\u001b[0m\u001b[1;33m.\u001b[0m\u001b[0mfit\u001b[0m\u001b[1;33m(\u001b[0m\u001b[0mX_train\u001b[0m\u001b[1;33m,\u001b[0m \u001b[0my_train\u001b[0m\u001b[1;33m)\u001b[0m\u001b[1;33m\u001b[0m\u001b[1;33m\u001b[0m\u001b[0m\n\u001b[0m",
      "\u001b[1;32m~\\anaconda3\\lib\\site-packages\\sklearn\\pipeline.py\u001b[0m in \u001b[0;36mfit\u001b[1;34m(self, X, y, **fit_params)\u001b[0m\n\u001b[0;32m    339\u001b[0m         \"\"\"\n\u001b[0;32m    340\u001b[0m         \u001b[0mfit_params_steps\u001b[0m \u001b[1;33m=\u001b[0m \u001b[0mself\u001b[0m\u001b[1;33m.\u001b[0m\u001b[0m_check_fit_params\u001b[0m\u001b[1;33m(\u001b[0m\u001b[1;33m**\u001b[0m\u001b[0mfit_params\u001b[0m\u001b[1;33m)\u001b[0m\u001b[1;33m\u001b[0m\u001b[1;33m\u001b[0m\u001b[0m\n\u001b[1;32m--> 341\u001b[1;33m         \u001b[0mXt\u001b[0m \u001b[1;33m=\u001b[0m \u001b[0mself\u001b[0m\u001b[1;33m.\u001b[0m\u001b[0m_fit\u001b[0m\u001b[1;33m(\u001b[0m\u001b[0mX\u001b[0m\u001b[1;33m,\u001b[0m \u001b[0my\u001b[0m\u001b[1;33m,\u001b[0m \u001b[1;33m**\u001b[0m\u001b[0mfit_params_steps\u001b[0m\u001b[1;33m)\u001b[0m\u001b[1;33m\u001b[0m\u001b[1;33m\u001b[0m\u001b[0m\n\u001b[0m\u001b[0;32m    342\u001b[0m         with _print_elapsed_time('Pipeline',\n\u001b[0;32m    343\u001b[0m                                  self._log_message(len(self.steps) - 1)):\n",
      "\u001b[1;32m~\\anaconda3\\lib\\site-packages\\sklearn\\pipeline.py\u001b[0m in \u001b[0;36m_fit\u001b[1;34m(self, X, y, **fit_params_steps)\u001b[0m\n\u001b[0;32m    301\u001b[0m                 \u001b[0mcloned_transformer\u001b[0m \u001b[1;33m=\u001b[0m \u001b[0mclone\u001b[0m\u001b[1;33m(\u001b[0m\u001b[0mtransformer\u001b[0m\u001b[1;33m)\u001b[0m\u001b[1;33m\u001b[0m\u001b[1;33m\u001b[0m\u001b[0m\n\u001b[0;32m    302\u001b[0m             \u001b[1;31m# Fit or load from cache the current transformer\u001b[0m\u001b[1;33m\u001b[0m\u001b[1;33m\u001b[0m\u001b[1;33m\u001b[0m\u001b[0m\n\u001b[1;32m--> 303\u001b[1;33m             X, fitted_transformer = fit_transform_one_cached(\n\u001b[0m\u001b[0;32m    304\u001b[0m                 \u001b[0mcloned_transformer\u001b[0m\u001b[1;33m,\u001b[0m \u001b[0mX\u001b[0m\u001b[1;33m,\u001b[0m \u001b[0my\u001b[0m\u001b[1;33m,\u001b[0m \u001b[1;32mNone\u001b[0m\u001b[1;33m,\u001b[0m\u001b[1;33m\u001b[0m\u001b[1;33m\u001b[0m\u001b[0m\n\u001b[0;32m    305\u001b[0m                 \u001b[0mmessage_clsname\u001b[0m\u001b[1;33m=\u001b[0m\u001b[1;34m'Pipeline'\u001b[0m\u001b[1;33m,\u001b[0m\u001b[1;33m\u001b[0m\u001b[1;33m\u001b[0m\u001b[0m\n",
      "\u001b[1;32m~\\anaconda3\\lib\\site-packages\\joblib\\memory.py\u001b[0m in \u001b[0;36m__call__\u001b[1;34m(self, *args, **kwargs)\u001b[0m\n\u001b[0;32m    350\u001b[0m \u001b[1;33m\u001b[0m\u001b[0m\n\u001b[0;32m    351\u001b[0m     \u001b[1;32mdef\u001b[0m \u001b[0m__call__\u001b[0m\u001b[1;33m(\u001b[0m\u001b[0mself\u001b[0m\u001b[1;33m,\u001b[0m \u001b[1;33m*\u001b[0m\u001b[0margs\u001b[0m\u001b[1;33m,\u001b[0m \u001b[1;33m**\u001b[0m\u001b[0mkwargs\u001b[0m\u001b[1;33m)\u001b[0m\u001b[1;33m:\u001b[0m\u001b[1;33m\u001b[0m\u001b[1;33m\u001b[0m\u001b[0m\n\u001b[1;32m--> 352\u001b[1;33m         \u001b[1;32mreturn\u001b[0m \u001b[0mself\u001b[0m\u001b[1;33m.\u001b[0m\u001b[0mfunc\u001b[0m\u001b[1;33m(\u001b[0m\u001b[1;33m*\u001b[0m\u001b[0margs\u001b[0m\u001b[1;33m,\u001b[0m \u001b[1;33m**\u001b[0m\u001b[0mkwargs\u001b[0m\u001b[1;33m)\u001b[0m\u001b[1;33m\u001b[0m\u001b[1;33m\u001b[0m\u001b[0m\n\u001b[0m\u001b[0;32m    353\u001b[0m \u001b[1;33m\u001b[0m\u001b[0m\n\u001b[0;32m    354\u001b[0m     \u001b[1;32mdef\u001b[0m \u001b[0mcall_and_shelve\u001b[0m\u001b[1;33m(\u001b[0m\u001b[0mself\u001b[0m\u001b[1;33m,\u001b[0m \u001b[1;33m*\u001b[0m\u001b[0margs\u001b[0m\u001b[1;33m,\u001b[0m \u001b[1;33m**\u001b[0m\u001b[0mkwargs\u001b[0m\u001b[1;33m)\u001b[0m\u001b[1;33m:\u001b[0m\u001b[1;33m\u001b[0m\u001b[1;33m\u001b[0m\u001b[0m\n",
      "\u001b[1;32m~\\anaconda3\\lib\\site-packages\\sklearn\\pipeline.py\u001b[0m in \u001b[0;36m_fit_transform_one\u001b[1;34m(transformer, X, y, weight, message_clsname, message, **fit_params)\u001b[0m\n\u001b[0;32m    752\u001b[0m     \u001b[1;32mwith\u001b[0m \u001b[0m_print_elapsed_time\u001b[0m\u001b[1;33m(\u001b[0m\u001b[0mmessage_clsname\u001b[0m\u001b[1;33m,\u001b[0m \u001b[0mmessage\u001b[0m\u001b[1;33m)\u001b[0m\u001b[1;33m:\u001b[0m\u001b[1;33m\u001b[0m\u001b[1;33m\u001b[0m\u001b[0m\n\u001b[0;32m    753\u001b[0m         \u001b[1;32mif\u001b[0m \u001b[0mhasattr\u001b[0m\u001b[1;33m(\u001b[0m\u001b[0mtransformer\u001b[0m\u001b[1;33m,\u001b[0m \u001b[1;34m'fit_transform'\u001b[0m\u001b[1;33m)\u001b[0m\u001b[1;33m:\u001b[0m\u001b[1;33m\u001b[0m\u001b[1;33m\u001b[0m\u001b[0m\n\u001b[1;32m--> 754\u001b[1;33m             \u001b[0mres\u001b[0m \u001b[1;33m=\u001b[0m \u001b[0mtransformer\u001b[0m\u001b[1;33m.\u001b[0m\u001b[0mfit_transform\u001b[0m\u001b[1;33m(\u001b[0m\u001b[0mX\u001b[0m\u001b[1;33m,\u001b[0m \u001b[0my\u001b[0m\u001b[1;33m,\u001b[0m \u001b[1;33m**\u001b[0m\u001b[0mfit_params\u001b[0m\u001b[1;33m)\u001b[0m\u001b[1;33m\u001b[0m\u001b[1;33m\u001b[0m\u001b[0m\n\u001b[0m\u001b[0;32m    755\u001b[0m         \u001b[1;32melse\u001b[0m\u001b[1;33m:\u001b[0m\u001b[1;33m\u001b[0m\u001b[1;33m\u001b[0m\u001b[0m\n\u001b[0;32m    756\u001b[0m             \u001b[0mres\u001b[0m \u001b[1;33m=\u001b[0m \u001b[0mtransformer\u001b[0m\u001b[1;33m.\u001b[0m\u001b[0mfit\u001b[0m\u001b[1;33m(\u001b[0m\u001b[0mX\u001b[0m\u001b[1;33m,\u001b[0m \u001b[0my\u001b[0m\u001b[1;33m,\u001b[0m \u001b[1;33m**\u001b[0m\u001b[0mfit_params\u001b[0m\u001b[1;33m)\u001b[0m\u001b[1;33m.\u001b[0m\u001b[0mtransform\u001b[0m\u001b[1;33m(\u001b[0m\u001b[0mX\u001b[0m\u001b[1;33m)\u001b[0m\u001b[1;33m\u001b[0m\u001b[1;33m\u001b[0m\u001b[0m\n",
      "\u001b[1;31mTypeError\u001b[0m: fit_transform() takes 2 positional arguments but 3 were given"
     ]
    }
   ],
   "source": [
    "pipe.fit(X_train, y_train)"
   ]
  },
  {
   "cell_type": "code",
   "execution_count": 103,
   "metadata": {},
   "outputs": [
    {
     "ename": "ValueError",
     "evalue": "y should be a 1d array, got an array of shape (171, 6) instead.",
     "output_type": "error",
     "traceback": [
      "\u001b[1;31m---------------------------------------------------------------------------\u001b[0m",
      "\u001b[1;31mValueError\u001b[0m                                Traceback (most recent call last)",
      "\u001b[1;32m<ipython-input-103-cba250cff447>\u001b[0m in \u001b[0;36m<module>\u001b[1;34m\u001b[0m\n\u001b[1;32m----> 1\u001b[1;33m \u001b[0mpipe\u001b[0m\u001b[1;33m.\u001b[0m\u001b[0mpredict\u001b[0m\u001b[1;33m(\u001b[0m\u001b[0mX_val\u001b[0m\u001b[1;33m)\u001b[0m\u001b[1;33m\u001b[0m\u001b[1;33m\u001b[0m\u001b[0m\n\u001b[0m",
      "\u001b[1;32mF:\\ANACONDA\\lib\\site-packages\\sklearn\\utils\\metaestimators.py\u001b[0m in \u001b[0;36m<lambda>\u001b[1;34m(*args, **kwargs)\u001b[0m\n\u001b[0;32m    118\u001b[0m \u001b[1;33m\u001b[0m\u001b[0m\n\u001b[0;32m    119\u001b[0m         \u001b[1;31m# lambda, but not partial, allows help() to work with update_wrapper\u001b[0m\u001b[1;33m\u001b[0m\u001b[1;33m\u001b[0m\u001b[1;33m\u001b[0m\u001b[0m\n\u001b[1;32m--> 120\u001b[1;33m         \u001b[0mout\u001b[0m \u001b[1;33m=\u001b[0m \u001b[1;32mlambda\u001b[0m \u001b[1;33m*\u001b[0m\u001b[0margs\u001b[0m\u001b[1;33m,\u001b[0m \u001b[1;33m**\u001b[0m\u001b[0mkwargs\u001b[0m\u001b[1;33m:\u001b[0m \u001b[0mself\u001b[0m\u001b[1;33m.\u001b[0m\u001b[0mfn\u001b[0m\u001b[1;33m(\u001b[0m\u001b[0mobj\u001b[0m\u001b[1;33m,\u001b[0m \u001b[1;33m*\u001b[0m\u001b[0margs\u001b[0m\u001b[1;33m,\u001b[0m \u001b[1;33m**\u001b[0m\u001b[0mkwargs\u001b[0m\u001b[1;33m)\u001b[0m\u001b[1;33m\u001b[0m\u001b[1;33m\u001b[0m\u001b[0m\n\u001b[0m\u001b[0;32m    121\u001b[0m         \u001b[1;31m# update the docstring of the returned function\u001b[0m\u001b[1;33m\u001b[0m\u001b[1;33m\u001b[0m\u001b[1;33m\u001b[0m\u001b[0m\n\u001b[0;32m    122\u001b[0m         \u001b[0mupdate_wrapper\u001b[0m\u001b[1;33m(\u001b[0m\u001b[0mout\u001b[0m\u001b[1;33m,\u001b[0m \u001b[0mself\u001b[0m\u001b[1;33m.\u001b[0m\u001b[0mfn\u001b[0m\u001b[1;33m)\u001b[0m\u001b[1;33m\u001b[0m\u001b[1;33m\u001b[0m\u001b[0m\n",
      "\u001b[1;32mF:\\ANACONDA\\lib\\site-packages\\sklearn\\pipeline.py\u001b[0m in \u001b[0;36mpredict\u001b[1;34m(self, X, **predict_params)\u001b[0m\n\u001b[0;32m    416\u001b[0m         \u001b[0mXt\u001b[0m \u001b[1;33m=\u001b[0m \u001b[0mX\u001b[0m\u001b[1;33m\u001b[0m\u001b[1;33m\u001b[0m\u001b[0m\n\u001b[0;32m    417\u001b[0m         \u001b[1;32mfor\u001b[0m \u001b[0m_\u001b[0m\u001b[1;33m,\u001b[0m \u001b[0mname\u001b[0m\u001b[1;33m,\u001b[0m \u001b[0mtransform\u001b[0m \u001b[1;32min\u001b[0m \u001b[0mself\u001b[0m\u001b[1;33m.\u001b[0m\u001b[0m_iter\u001b[0m\u001b[1;33m(\u001b[0m\u001b[0mwith_final\u001b[0m\u001b[1;33m=\u001b[0m\u001b[1;32mFalse\u001b[0m\u001b[1;33m)\u001b[0m\u001b[1;33m:\u001b[0m\u001b[1;33m\u001b[0m\u001b[1;33m\u001b[0m\u001b[0m\n\u001b[1;32m--> 418\u001b[1;33m             \u001b[0mXt\u001b[0m \u001b[1;33m=\u001b[0m \u001b[0mtransform\u001b[0m\u001b[1;33m.\u001b[0m\u001b[0mtransform\u001b[0m\u001b[1;33m(\u001b[0m\u001b[0mXt\u001b[0m\u001b[1;33m)\u001b[0m\u001b[1;33m\u001b[0m\u001b[1;33m\u001b[0m\u001b[0m\n\u001b[0m\u001b[0;32m    419\u001b[0m         \u001b[1;32mreturn\u001b[0m \u001b[0mself\u001b[0m\u001b[1;33m.\u001b[0m\u001b[0msteps\u001b[0m\u001b[1;33m[\u001b[0m\u001b[1;33m-\u001b[0m\u001b[1;36m1\u001b[0m\u001b[1;33m]\u001b[0m\u001b[1;33m[\u001b[0m\u001b[1;33m-\u001b[0m\u001b[1;36m1\u001b[0m\u001b[1;33m]\u001b[0m\u001b[1;33m.\u001b[0m\u001b[0mpredict\u001b[0m\u001b[1;33m(\u001b[0m\u001b[0mXt\u001b[0m\u001b[1;33m,\u001b[0m \u001b[1;33m**\u001b[0m\u001b[0mpredict_params\u001b[0m\u001b[1;33m)\u001b[0m\u001b[1;33m\u001b[0m\u001b[1;33m\u001b[0m\u001b[0m\n\u001b[0;32m    420\u001b[0m \u001b[1;33m\u001b[0m\u001b[0m\n",
      "\u001b[1;32mF:\\ANACONDA\\lib\\site-packages\\sklearn\\preprocessing\\_label.py\u001b[0m in \u001b[0;36mtransform\u001b[1;34m(self, y)\u001b[0m\n\u001b[0;32m    131\u001b[0m         \"\"\"\n\u001b[0;32m    132\u001b[0m         \u001b[0mcheck_is_fitted\u001b[0m\u001b[1;33m(\u001b[0m\u001b[0mself\u001b[0m\u001b[1;33m)\u001b[0m\u001b[1;33m\u001b[0m\u001b[1;33m\u001b[0m\u001b[0m\n\u001b[1;32m--> 133\u001b[1;33m         \u001b[0my\u001b[0m \u001b[1;33m=\u001b[0m \u001b[0mcolumn_or_1d\u001b[0m\u001b[1;33m(\u001b[0m\u001b[0my\u001b[0m\u001b[1;33m,\u001b[0m \u001b[0mwarn\u001b[0m\u001b[1;33m=\u001b[0m\u001b[1;32mTrue\u001b[0m\u001b[1;33m)\u001b[0m\u001b[1;33m\u001b[0m\u001b[1;33m\u001b[0m\u001b[0m\n\u001b[0m\u001b[0;32m    134\u001b[0m         \u001b[1;31m# transform of empty array is empty array\u001b[0m\u001b[1;33m\u001b[0m\u001b[1;33m\u001b[0m\u001b[1;33m\u001b[0m\u001b[0m\n\u001b[0;32m    135\u001b[0m         \u001b[1;32mif\u001b[0m \u001b[0m_num_samples\u001b[0m\u001b[1;33m(\u001b[0m\u001b[0my\u001b[0m\u001b[1;33m)\u001b[0m \u001b[1;33m==\u001b[0m \u001b[1;36m0\u001b[0m\u001b[1;33m:\u001b[0m\u001b[1;33m\u001b[0m\u001b[1;33m\u001b[0m\u001b[0m\n",
      "\u001b[1;32mF:\\ANACONDA\\lib\\site-packages\\sklearn\\utils\\validation.py\u001b[0m in \u001b[0;36minner_f\u001b[1;34m(*args, **kwargs)\u001b[0m\n\u001b[0;32m     61\u001b[0m             \u001b[0mextra_args\u001b[0m \u001b[1;33m=\u001b[0m \u001b[0mlen\u001b[0m\u001b[1;33m(\u001b[0m\u001b[0margs\u001b[0m\u001b[1;33m)\u001b[0m \u001b[1;33m-\u001b[0m \u001b[0mlen\u001b[0m\u001b[1;33m(\u001b[0m\u001b[0mall_args\u001b[0m\u001b[1;33m)\u001b[0m\u001b[1;33m\u001b[0m\u001b[1;33m\u001b[0m\u001b[0m\n\u001b[0;32m     62\u001b[0m             \u001b[1;32mif\u001b[0m \u001b[0mextra_args\u001b[0m \u001b[1;33m<=\u001b[0m \u001b[1;36m0\u001b[0m\u001b[1;33m:\u001b[0m\u001b[1;33m\u001b[0m\u001b[1;33m\u001b[0m\u001b[0m\n\u001b[1;32m---> 63\u001b[1;33m                 \u001b[1;32mreturn\u001b[0m \u001b[0mf\u001b[0m\u001b[1;33m(\u001b[0m\u001b[1;33m*\u001b[0m\u001b[0margs\u001b[0m\u001b[1;33m,\u001b[0m \u001b[1;33m**\u001b[0m\u001b[0mkwargs\u001b[0m\u001b[1;33m)\u001b[0m\u001b[1;33m\u001b[0m\u001b[1;33m\u001b[0m\u001b[0m\n\u001b[0m\u001b[0;32m     64\u001b[0m \u001b[1;33m\u001b[0m\u001b[0m\n\u001b[0;32m     65\u001b[0m             \u001b[1;31m# extra_args > 0\u001b[0m\u001b[1;33m\u001b[0m\u001b[1;33m\u001b[0m\u001b[1;33m\u001b[0m\u001b[0m\n",
      "\u001b[1;32mF:\\ANACONDA\\lib\\site-packages\\sklearn\\utils\\validation.py\u001b[0m in \u001b[0;36mcolumn_or_1d\u001b[1;34m(y, warn)\u001b[0m\n\u001b[0;32m    862\u001b[0m         \u001b[1;32mreturn\u001b[0m \u001b[0mnp\u001b[0m\u001b[1;33m.\u001b[0m\u001b[0mravel\u001b[0m\u001b[1;33m(\u001b[0m\u001b[0my\u001b[0m\u001b[1;33m)\u001b[0m\u001b[1;33m\u001b[0m\u001b[1;33m\u001b[0m\u001b[0m\n\u001b[0;32m    863\u001b[0m \u001b[1;33m\u001b[0m\u001b[0m\n\u001b[1;32m--> 864\u001b[1;33m     raise ValueError(\n\u001b[0m\u001b[0;32m    865\u001b[0m         \u001b[1;34m\"y should be a 1d array, \"\u001b[0m\u001b[1;33m\u001b[0m\u001b[1;33m\u001b[0m\u001b[0m\n\u001b[0;32m    866\u001b[0m         \"got an array of shape {} instead.\".format(shape))\n",
      "\u001b[1;31mValueError\u001b[0m: y should be a 1d array, got an array of shape (171, 6) instead."
     ]
    }
   ],
   "source": [
    "pipe.predict(X_val)"
   ]
  },
  {
   "cell_type": "code",
   "execution_count": 85,
   "metadata": {},
   "outputs": [
    {
     "data": {
      "text/plain": [
       "0.8651976600091671"
      ]
     },
     "execution_count": 85,
     "metadata": {},
     "output_type": "execute_result"
    }
   ],
   "source": [
    "pipe.score(X_val, y_val)"
   ]
  },
  {
   "cell_type": "code",
   "execution_count": 86,
   "metadata": {},
   "outputs": [
    {
     "data": {
      "text/plain": [
       "GradientBoostingRegressor(criterion='mae', verbose=1)"
      ]
     },
     "execution_count": 86,
     "metadata": {},
     "output_type": "execute_result"
    }
   ],
   "source": [
    "pipe[-1].set_params(criterion='mae', max_depth=3)"
   ]
  },
  {
   "cell_type": "code",
   "execution_count": 132,
   "metadata": {},
   "outputs": [],
   "source": [
    "def scores(criteria, loss_function, tree_depth, boosting_rounds):\n",
    "    scores_for_criteria = []\n",
    "    i = 0.01             # i --> learning rate\n",
    "    while i <= 0.1:\n",
    "        gbm = GradientBoostingRegressor(criterion=criteria, loss=loss_function, max_depth=tree_depth, learning_rate=i, n_estimators=boosting_rounds)\n",
    "        gbm.fit(X_train, y_train)\n",
    "        scores_for_criteria.append( (criteria, loss_function, tree_depth, boosting_rounds, i, gbm.score(X_val, y_val))) \n",
    "        i += 0.01\n",
    "    return scores_for_criteria"
   ]
  },
  {
   "cell_type": "code",
   "execution_count": null,
   "metadata": {},
   "outputs": [
    {
     "name": "stdout",
     "output_type": "stream",
     "text": [
      "Criteria:friedman_mse\tLoss Func: ls\tTree Depth: 1\tBoosting round: 100\n",
      "Criteria:friedman_mse\tLoss Func: ls\tTree Depth: 1\tBoosting round: 250\n",
      "Criteria:friedman_mse\tLoss Func: ls\tTree Depth: 1\tBoosting round: 400\n",
      "Criteria:friedman_mse\tLoss Func: ls\tTree Depth: 1\tBoosting round: 550\n",
      "Criteria:friedman_mse\tLoss Func: ls\tTree Depth: 1\tBoosting round: 700\n",
      "Criteria:friedman_mse\tLoss Func: ls\tTree Depth: 1\tBoosting round: 850\n",
      "Criteria:friedman_mse\tLoss Func: ls\tTree Depth: 2\tBoosting round: 100\n",
      "Criteria:friedman_mse\tLoss Func: ls\tTree Depth: 2\tBoosting round: 250\n",
      "Criteria:friedman_mse\tLoss Func: ls\tTree Depth: 2\tBoosting round: 400\n",
      "Criteria:friedman_mse\tLoss Func: ls\tTree Depth: 2\tBoosting round: 550\n",
      "Criteria:friedman_mse\tLoss Func: ls\tTree Depth: 2\tBoosting round: 700\n",
      "Criteria:friedman_mse\tLoss Func: ls\tTree Depth: 2\tBoosting round: 850\n",
      "Criteria:friedman_mse\tLoss Func: ls\tTree Depth: 3\tBoosting round: 100\n",
      "Criteria:friedman_mse\tLoss Func: ls\tTree Depth: 3\tBoosting round: 250\n",
      "Criteria:friedman_mse\tLoss Func: ls\tTree Depth: 3\tBoosting round: 400\n",
      "Criteria:friedman_mse\tLoss Func: ls\tTree Depth: 3\tBoosting round: 550\n",
      "Criteria:friedman_mse\tLoss Func: ls\tTree Depth: 3\tBoosting round: 700\n",
      "Criteria:friedman_mse\tLoss Func: ls\tTree Depth: 3\tBoosting round: 850\n",
      "Criteria:friedman_mse\tLoss Func: ls\tTree Depth: 4\tBoosting round: 100\n",
      "Criteria:friedman_mse\tLoss Func: ls\tTree Depth: 4\tBoosting round: 250\n",
      "Criteria:friedman_mse\tLoss Func: ls\tTree Depth: 4\tBoosting round: 400\n",
      "Criteria:friedman_mse\tLoss Func: ls\tTree Depth: 4\tBoosting round: 550\n",
      "Criteria:friedman_mse\tLoss Func: ls\tTree Depth: 4\tBoosting round: 700\n",
      "Criteria:friedman_mse\tLoss Func: ls\tTree Depth: 4\tBoosting round: 850\n",
      "Criteria:friedman_mse\tLoss Func: lad\tTree Depth: 1\tBoosting round: 100\n",
      "Criteria:friedman_mse\tLoss Func: lad\tTree Depth: 1\tBoosting round: 250\n",
      "Criteria:friedman_mse\tLoss Func: lad\tTree Depth: 1\tBoosting round: 400\n",
      "Criteria:friedman_mse\tLoss Func: lad\tTree Depth: 1\tBoosting round: 550\n",
      "Criteria:friedman_mse\tLoss Func: lad\tTree Depth: 1\tBoosting round: 700\n",
      "Criteria:friedman_mse\tLoss Func: lad\tTree Depth: 1\tBoosting round: 850\n",
      "Criteria:friedman_mse\tLoss Func: lad\tTree Depth: 2\tBoosting round: 100\n",
      "Criteria:friedman_mse\tLoss Func: lad\tTree Depth: 2\tBoosting round: 250\n",
      "Criteria:friedman_mse\tLoss Func: lad\tTree Depth: 2\tBoosting round: 400\n",
      "Criteria:friedman_mse\tLoss Func: lad\tTree Depth: 2\tBoosting round: 550\n",
      "Criteria:friedman_mse\tLoss Func: lad\tTree Depth: 2\tBoosting round: 700\n",
      "Criteria:friedman_mse\tLoss Func: lad\tTree Depth: 2\tBoosting round: 850\n",
      "Criteria:friedman_mse\tLoss Func: lad\tTree Depth: 3\tBoosting round: 100\n",
      "Criteria:friedman_mse\tLoss Func: lad\tTree Depth: 3\tBoosting round: 250\n",
      "Criteria:friedman_mse\tLoss Func: lad\tTree Depth: 3\tBoosting round: 400\n",
      "Criteria:friedman_mse\tLoss Func: lad\tTree Depth: 3\tBoosting round: 550\n",
      "Criteria:friedman_mse\tLoss Func: lad\tTree Depth: 3\tBoosting round: 700\n",
      "Criteria:friedman_mse\tLoss Func: lad\tTree Depth: 3\tBoosting round: 850\n",
      "Criteria:friedman_mse\tLoss Func: lad\tTree Depth: 4\tBoosting round: 100\n",
      "Criteria:friedman_mse\tLoss Func: lad\tTree Depth: 4\tBoosting round: 250\n",
      "Criteria:friedman_mse\tLoss Func: lad\tTree Depth: 4\tBoosting round: 400\n",
      "Criteria:friedman_mse\tLoss Func: lad\tTree Depth: 4\tBoosting round: 550\n",
      "Criteria:friedman_mse\tLoss Func: lad\tTree Depth: 4\tBoosting round: 700\n",
      "Criteria:friedman_mse\tLoss Func: lad\tTree Depth: 4\tBoosting round: 850\n",
      "Criteria:friedman_mse\tLoss Func: huber\tTree Depth: 1\tBoosting round: 100\n",
      "Criteria:friedman_mse\tLoss Func: huber\tTree Depth: 1\tBoosting round: 250\n",
      "Criteria:friedman_mse\tLoss Func: huber\tTree Depth: 1\tBoosting round: 400\n",
      "Criteria:friedman_mse\tLoss Func: huber\tTree Depth: 1\tBoosting round: 550\n",
      "Criteria:friedman_mse\tLoss Func: huber\tTree Depth: 1\tBoosting round: 700\n",
      "Criteria:friedman_mse\tLoss Func: huber\tTree Depth: 1\tBoosting round: 850\n",
      "Criteria:friedman_mse\tLoss Func: huber\tTree Depth: 2\tBoosting round: 100\n",
      "Criteria:friedman_mse\tLoss Func: huber\tTree Depth: 2\tBoosting round: 250\n",
      "Criteria:friedman_mse\tLoss Func: huber\tTree Depth: 2\tBoosting round: 400\n",
      "Criteria:friedman_mse\tLoss Func: huber\tTree Depth: 2\tBoosting round: 550\n",
      "Criteria:friedman_mse\tLoss Func: huber\tTree Depth: 2\tBoosting round: 700\n",
      "Criteria:friedman_mse\tLoss Func: huber\tTree Depth: 2\tBoosting round: 850\n",
      "Criteria:friedman_mse\tLoss Func: huber\tTree Depth: 3\tBoosting round: 100\n",
      "Criteria:friedman_mse\tLoss Func: huber\tTree Depth: 3\tBoosting round: 250\n",
      "Criteria:friedman_mse\tLoss Func: huber\tTree Depth: 3\tBoosting round: 400\n",
      "Criteria:friedman_mse\tLoss Func: huber\tTree Depth: 3\tBoosting round: 550\n",
      "Criteria:friedman_mse\tLoss Func: huber\tTree Depth: 3\tBoosting round: 700\n",
      "Criteria:friedman_mse\tLoss Func: huber\tTree Depth: 3\tBoosting round: 850\n",
      "Criteria:friedman_mse\tLoss Func: huber\tTree Depth: 4\tBoosting round: 100\n",
      "Criteria:friedman_mse\tLoss Func: huber\tTree Depth: 4\tBoosting round: 250\n",
      "Criteria:friedman_mse\tLoss Func: huber\tTree Depth: 4\tBoosting round: 400\n",
      "Criteria:friedman_mse\tLoss Func: huber\tTree Depth: 4\tBoosting round: 550\n",
      "Criteria:friedman_mse\tLoss Func: huber\tTree Depth: 4\tBoosting round: 700\n",
      "Criteria:friedman_mse\tLoss Func: huber\tTree Depth: 4\tBoosting round: 850\n",
      "Criteria:friedman_mse\tLoss Func: quantile\tTree Depth: 1\tBoosting round: 100\n",
      "Criteria:friedman_mse\tLoss Func: quantile\tTree Depth: 1\tBoosting round: 250\n",
      "Criteria:friedman_mse\tLoss Func: quantile\tTree Depth: 1\tBoosting round: 400\n",
      "Criteria:friedman_mse\tLoss Func: quantile\tTree Depth: 1\tBoosting round: 550\n",
      "Criteria:friedman_mse\tLoss Func: quantile\tTree Depth: 1\tBoosting round: 700\n",
      "Criteria:friedman_mse\tLoss Func: quantile\tTree Depth: 1\tBoosting round: 850\n",
      "Criteria:friedman_mse\tLoss Func: quantile\tTree Depth: 2\tBoosting round: 100\n",
      "Criteria:friedman_mse\tLoss Func: quantile\tTree Depth: 2\tBoosting round: 250\n",
      "Criteria:friedman_mse\tLoss Func: quantile\tTree Depth: 2\tBoosting round: 400\n",
      "Criteria:friedman_mse\tLoss Func: quantile\tTree Depth: 2\tBoosting round: 550\n",
      "Criteria:friedman_mse\tLoss Func: quantile\tTree Depth: 2\tBoosting round: 700\n",
      "Criteria:friedman_mse\tLoss Func: quantile\tTree Depth: 2\tBoosting round: 850\n",
      "Criteria:friedman_mse\tLoss Func: quantile\tTree Depth: 3\tBoosting round: 100\n",
      "Criteria:friedman_mse\tLoss Func: quantile\tTree Depth: 3\tBoosting round: 250\n",
      "Criteria:friedman_mse\tLoss Func: quantile\tTree Depth: 3\tBoosting round: 400\n",
      "Criteria:friedman_mse\tLoss Func: quantile\tTree Depth: 3\tBoosting round: 550\n",
      "Criteria:friedman_mse\tLoss Func: quantile\tTree Depth: 3\tBoosting round: 700\n",
      "Criteria:friedman_mse\tLoss Func: quantile\tTree Depth: 3\tBoosting round: 850\n",
      "Criteria:friedman_mse\tLoss Func: quantile\tTree Depth: 4\tBoosting round: 100\n",
      "Criteria:friedman_mse\tLoss Func: quantile\tTree Depth: 4\tBoosting round: 250\n",
      "Criteria:friedman_mse\tLoss Func: quantile\tTree Depth: 4\tBoosting round: 400\n",
      "Criteria:friedman_mse\tLoss Func: quantile\tTree Depth: 4\tBoosting round: 550\n",
      "Criteria:friedman_mse\tLoss Func: quantile\tTree Depth: 4\tBoosting round: 700\n",
      "Criteria:friedman_mse\tLoss Func: quantile\tTree Depth: 4\tBoosting round: 850\n",
      "Criteria:mse\tLoss Func: ls\tTree Depth: 1\tBoosting round: 100\n",
      "Criteria:mse\tLoss Func: ls\tTree Depth: 1\tBoosting round: 250\n",
      "Criteria:mse\tLoss Func: ls\tTree Depth: 1\tBoosting round: 400\n",
      "Criteria:mse\tLoss Func: ls\tTree Depth: 1\tBoosting round: 550\n",
      "Criteria:mse\tLoss Func: ls\tTree Depth: 1\tBoosting round: 700\n",
      "Criteria:mse\tLoss Func: ls\tTree Depth: 1\tBoosting round: 850\n",
      "Criteria:mse\tLoss Func: ls\tTree Depth: 2\tBoosting round: 100\n",
      "Criteria:mse\tLoss Func: ls\tTree Depth: 2\tBoosting round: 250\n",
      "Criteria:mse\tLoss Func: ls\tTree Depth: 2\tBoosting round: 400\n",
      "Criteria:mse\tLoss Func: ls\tTree Depth: 2\tBoosting round: 550\n",
      "Criteria:mse\tLoss Func: ls\tTree Depth: 2\tBoosting round: 700\n",
      "Criteria:mse\tLoss Func: ls\tTree Depth: 2\tBoosting round: 850\n",
      "Criteria:mse\tLoss Func: ls\tTree Depth: 3\tBoosting round: 100\n",
      "Criteria:mse\tLoss Func: ls\tTree Depth: 3\tBoosting round: 250\n",
      "Criteria:mse\tLoss Func: ls\tTree Depth: 3\tBoosting round: 400\n",
      "Criteria:mse\tLoss Func: ls\tTree Depth: 3\tBoosting round: 550\n",
      "Criteria:mse\tLoss Func: ls\tTree Depth: 3\tBoosting round: 700\n",
      "Criteria:mse\tLoss Func: ls\tTree Depth: 3\tBoosting round: 850\n",
      "Criteria:mse\tLoss Func: ls\tTree Depth: 4\tBoosting round: 100\n",
      "Criteria:mse\tLoss Func: ls\tTree Depth: 4\tBoosting round: 250\n",
      "Criteria:mse\tLoss Func: ls\tTree Depth: 4\tBoosting round: 400\n"
     ]
    },
    {
     "name": "stdout",
     "output_type": "stream",
     "text": [
      "Criteria:mse\tLoss Func: ls\tTree Depth: 4\tBoosting round: 550\n",
      "Criteria:mse\tLoss Func: ls\tTree Depth: 4\tBoosting round: 700\n",
      "Criteria:mse\tLoss Func: ls\tTree Depth: 4\tBoosting round: 850\n",
      "Criteria:mse\tLoss Func: lad\tTree Depth: 1\tBoosting round: 100\n",
      "Criteria:mse\tLoss Func: lad\tTree Depth: 1\tBoosting round: 250\n",
      "Criteria:mse\tLoss Func: lad\tTree Depth: 1\tBoosting round: 400\n",
      "Criteria:mse\tLoss Func: lad\tTree Depth: 1\tBoosting round: 550\n",
      "Criteria:mse\tLoss Func: lad\tTree Depth: 1\tBoosting round: 700\n",
      "Criteria:mse\tLoss Func: lad\tTree Depth: 1\tBoosting round: 850\n",
      "Criteria:mse\tLoss Func: lad\tTree Depth: 2\tBoosting round: 100\n",
      "Criteria:mse\tLoss Func: lad\tTree Depth: 2\tBoosting round: 250\n",
      "Criteria:mse\tLoss Func: lad\tTree Depth: 2\tBoosting round: 400\n",
      "Criteria:mse\tLoss Func: lad\tTree Depth: 2\tBoosting round: 550\n",
      "Criteria:mse\tLoss Func: lad\tTree Depth: 2\tBoosting round: 700\n",
      "Criteria:mse\tLoss Func: lad\tTree Depth: 2\tBoosting round: 850\n",
      "Criteria:mse\tLoss Func: lad\tTree Depth: 3\tBoosting round: 100\n",
      "Criteria:mse\tLoss Func: lad\tTree Depth: 3\tBoosting round: 250\n",
      "Criteria:mse\tLoss Func: lad\tTree Depth: 3\tBoosting round: 400\n",
      "Criteria:mse\tLoss Func: lad\tTree Depth: 3\tBoosting round: 550\n",
      "Criteria:mse\tLoss Func: lad\tTree Depth: 3\tBoosting round: 700\n",
      "Criteria:mse\tLoss Func: lad\tTree Depth: 3\tBoosting round: 850\n",
      "Criteria:mse\tLoss Func: lad\tTree Depth: 4\tBoosting round: 100\n",
      "Criteria:mse\tLoss Func: lad\tTree Depth: 4\tBoosting round: 250\n",
      "Criteria:mse\tLoss Func: lad\tTree Depth: 4\tBoosting round: 400\n",
      "Criteria:mse\tLoss Func: lad\tTree Depth: 4\tBoosting round: 550\n",
      "Criteria:mse\tLoss Func: lad\tTree Depth: 4\tBoosting round: 700\n",
      "Criteria:mse\tLoss Func: lad\tTree Depth: 4\tBoosting round: 850\n",
      "Criteria:mse\tLoss Func: huber\tTree Depth: 1\tBoosting round: 100\n",
      "Criteria:mse\tLoss Func: huber\tTree Depth: 1\tBoosting round: 250\n",
      "Criteria:mse\tLoss Func: huber\tTree Depth: 1\tBoosting round: 400\n",
      "Criteria:mse\tLoss Func: huber\tTree Depth: 1\tBoosting round: 550\n",
      "Criteria:mse\tLoss Func: huber\tTree Depth: 1\tBoosting round: 700\n",
      "Criteria:mse\tLoss Func: huber\tTree Depth: 1\tBoosting round: 850\n",
      "Criteria:mse\tLoss Func: huber\tTree Depth: 2\tBoosting round: 100\n",
      "Criteria:mse\tLoss Func: huber\tTree Depth: 2\tBoosting round: 250\n",
      "Criteria:mse\tLoss Func: huber\tTree Depth: 2\tBoosting round: 400\n",
      "Criteria:mse\tLoss Func: huber\tTree Depth: 2\tBoosting round: 550\n",
      "Criteria:mse\tLoss Func: huber\tTree Depth: 2\tBoosting round: 700\n",
      "Criteria:mse\tLoss Func: huber\tTree Depth: 2\tBoosting round: 850\n",
      "Criteria:mse\tLoss Func: huber\tTree Depth: 3\tBoosting round: 100\n",
      "Criteria:mse\tLoss Func: huber\tTree Depth: 3\tBoosting round: 250\n",
      "Criteria:mse\tLoss Func: huber\tTree Depth: 3\tBoosting round: 400\n",
      "Criteria:mse\tLoss Func: huber\tTree Depth: 3\tBoosting round: 550\n",
      "Criteria:mse\tLoss Func: huber\tTree Depth: 3\tBoosting round: 700\n",
      "Criteria:mse\tLoss Func: huber\tTree Depth: 3\tBoosting round: 850\n",
      "Criteria:mse\tLoss Func: huber\tTree Depth: 4\tBoosting round: 100\n",
      "Criteria:mse\tLoss Func: huber\tTree Depth: 4\tBoosting round: 250\n",
      "Criteria:mse\tLoss Func: huber\tTree Depth: 4\tBoosting round: 400\n",
      "Criteria:mse\tLoss Func: huber\tTree Depth: 4\tBoosting round: 550\n",
      "Criteria:mse\tLoss Func: huber\tTree Depth: 4\tBoosting round: 700\n",
      "Criteria:mse\tLoss Func: huber\tTree Depth: 4\tBoosting round: 850\n",
      "Criteria:mse\tLoss Func: quantile\tTree Depth: 1\tBoosting round: 100\n",
      "Criteria:mse\tLoss Func: quantile\tTree Depth: 1\tBoosting round: 250\n",
      "Criteria:mse\tLoss Func: quantile\tTree Depth: 1\tBoosting round: 400\n",
      "Criteria:mse\tLoss Func: quantile\tTree Depth: 1\tBoosting round: 550\n",
      "Criteria:mse\tLoss Func: quantile\tTree Depth: 1\tBoosting round: 700\n",
      "Criteria:mse\tLoss Func: quantile\tTree Depth: 1\tBoosting round: 850\n",
      "Criteria:mse\tLoss Func: quantile\tTree Depth: 2\tBoosting round: 100\n",
      "Criteria:mse\tLoss Func: quantile\tTree Depth: 2\tBoosting round: 250\n",
      "Criteria:mse\tLoss Func: quantile\tTree Depth: 2\tBoosting round: 400\n",
      "Criteria:mse\tLoss Func: quantile\tTree Depth: 2\tBoosting round: 550\n",
      "Criteria:mse\tLoss Func: quantile\tTree Depth: 2\tBoosting round: 700\n",
      "Criteria:mse\tLoss Func: quantile\tTree Depth: 2\tBoosting round: 850\n",
      "Criteria:mse\tLoss Func: quantile\tTree Depth: 3\tBoosting round: 100\n",
      "Criteria:mse\tLoss Func: quantile\tTree Depth: 3\tBoosting round: 250\n",
      "Criteria:mse\tLoss Func: quantile\tTree Depth: 3\tBoosting round: 400\n",
      "Criteria:mse\tLoss Func: quantile\tTree Depth: 3\tBoosting round: 550\n",
      "Criteria:mse\tLoss Func: quantile\tTree Depth: 3\tBoosting round: 700\n",
      "Criteria:mse\tLoss Func: quantile\tTree Depth: 3\tBoosting round: 850\n",
      "Criteria:mse\tLoss Func: quantile\tTree Depth: 4\tBoosting round: 100\n",
      "Criteria:mse\tLoss Func: quantile\tTree Depth: 4\tBoosting round: 250\n",
      "Criteria:mse\tLoss Func: quantile\tTree Depth: 4\tBoosting round: 400\n",
      "Criteria:mse\tLoss Func: quantile\tTree Depth: 4\tBoosting round: 550\n",
      "Criteria:mse\tLoss Func: quantile\tTree Depth: 4\tBoosting round: 700\n",
      "Criteria:mse\tLoss Func: quantile\tTree Depth: 4\tBoosting round: 850\n"
     ]
    },
    {
     "name": "stderr",
     "output_type": "stream",
     "text": [
      "F:\\ANACONDA\\lib\\site-packages\\sklearn\\ensemble\\_gb.py:1630: FutureWarning: criterion='mae' was deprecated in version 0.24 and will be removed in version 1.1 (renaming of 0.26). The correct way of minimizing the absolute error is to use  loss='lad' instead.\n",
      "  warnings.warn(\"criterion='mae' was deprecated in version 0.24 and \"\n",
      "F:\\ANACONDA\\lib\\site-packages\\sklearn\\ensemble\\_gb.py:1630: FutureWarning: criterion='mae' was deprecated in version 0.24 and will be removed in version 1.1 (renaming of 0.26). The correct way of minimizing the absolute error is to use  loss='lad' instead.\n",
      "  warnings.warn(\"criterion='mae' was deprecated in version 0.24 and \"\n",
      "F:\\ANACONDA\\lib\\site-packages\\sklearn\\ensemble\\_gb.py:1630: FutureWarning: criterion='mae' was deprecated in version 0.24 and will be removed in version 1.1 (renaming of 0.26). The correct way of minimizing the absolute error is to use  loss='lad' instead.\n",
      "  warnings.warn(\"criterion='mae' was deprecated in version 0.24 and \"\n",
      "F:\\ANACONDA\\lib\\site-packages\\sklearn\\ensemble\\_gb.py:1630: FutureWarning: criterion='mae' was deprecated in version 0.24 and will be removed in version 1.1 (renaming of 0.26). The correct way of minimizing the absolute error is to use  loss='lad' instead.\n",
      "  warnings.warn(\"criterion='mae' was deprecated in version 0.24 and \"\n",
      "F:\\ANACONDA\\lib\\site-packages\\sklearn\\ensemble\\_gb.py:1630: FutureWarning: criterion='mae' was deprecated in version 0.24 and will be removed in version 1.1 (renaming of 0.26). The correct way of minimizing the absolute error is to use  loss='lad' instead.\n",
      "  warnings.warn(\"criterion='mae' was deprecated in version 0.24 and \"\n",
      "F:\\ANACONDA\\lib\\site-packages\\sklearn\\ensemble\\_gb.py:1630: FutureWarning: criterion='mae' was deprecated in version 0.24 and will be removed in version 1.1 (renaming of 0.26). The correct way of minimizing the absolute error is to use  loss='lad' instead.\n",
      "  warnings.warn(\"criterion='mae' was deprecated in version 0.24 and \"\n",
      "F:\\ANACONDA\\lib\\site-packages\\sklearn\\ensemble\\_gb.py:1630: FutureWarning: criterion='mae' was deprecated in version 0.24 and will be removed in version 1.1 (renaming of 0.26). The correct way of minimizing the absolute error is to use  loss='lad' instead.\n",
      "  warnings.warn(\"criterion='mae' was deprecated in version 0.24 and \"\n",
      "F:\\ANACONDA\\lib\\site-packages\\sklearn\\ensemble\\_gb.py:1630: FutureWarning: criterion='mae' was deprecated in version 0.24 and will be removed in version 1.1 (renaming of 0.26). The correct way of minimizing the absolute error is to use  loss='lad' instead.\n",
      "  warnings.warn(\"criterion='mae' was deprecated in version 0.24 and \"\n",
      "F:\\ANACONDA\\lib\\site-packages\\sklearn\\ensemble\\_gb.py:1630: FutureWarning: criterion='mae' was deprecated in version 0.24 and will be removed in version 1.1 (renaming of 0.26). The correct way of minimizing the absolute error is to use  loss='lad' instead.\n",
      "  warnings.warn(\"criterion='mae' was deprecated in version 0.24 and \"\n",
      "F:\\ANACONDA\\lib\\site-packages\\sklearn\\ensemble\\_gb.py:1630: FutureWarning: criterion='mae' was deprecated in version 0.24 and will be removed in version 1.1 (renaming of 0.26). The correct way of minimizing the absolute error is to use  loss='lad' instead.\n",
      "  warnings.warn(\"criterion='mae' was deprecated in version 0.24 and \"\n"
     ]
    },
    {
     "name": "stdout",
     "output_type": "stream",
     "text": [
      "Criteria:mae\tLoss Func: ls\tTree Depth: 1\tBoosting round: 100\n"
     ]
    },
    {
     "name": "stderr",
     "output_type": "stream",
     "text": [
      "F:\\ANACONDA\\lib\\site-packages\\sklearn\\ensemble\\_gb.py:1630: FutureWarning: criterion='mae' was deprecated in version 0.24 and will be removed in version 1.1 (renaming of 0.26). The correct way of minimizing the absolute error is to use  loss='lad' instead.\n",
      "  warnings.warn(\"criterion='mae' was deprecated in version 0.24 and \"\n",
      "F:\\ANACONDA\\lib\\site-packages\\sklearn\\ensemble\\_gb.py:1630: FutureWarning: criterion='mae' was deprecated in version 0.24 and will be removed in version 1.1 (renaming of 0.26). The correct way of minimizing the absolute error is to use  loss='lad' instead.\n",
      "  warnings.warn(\"criterion='mae' was deprecated in version 0.24 and \"\n",
      "F:\\ANACONDA\\lib\\site-packages\\sklearn\\ensemble\\_gb.py:1630: FutureWarning: criterion='mae' was deprecated in version 0.24 and will be removed in version 1.1 (renaming of 0.26). The correct way of minimizing the absolute error is to use  loss='lad' instead.\n",
      "  warnings.warn(\"criterion='mae' was deprecated in version 0.24 and \"\n",
      "F:\\ANACONDA\\lib\\site-packages\\sklearn\\ensemble\\_gb.py:1630: FutureWarning: criterion='mae' was deprecated in version 0.24 and will be removed in version 1.1 (renaming of 0.26). The correct way of minimizing the absolute error is to use  loss='lad' instead.\n",
      "  warnings.warn(\"criterion='mae' was deprecated in version 0.24 and \"\n",
      "F:\\ANACONDA\\lib\\site-packages\\sklearn\\ensemble\\_gb.py:1630: FutureWarning: criterion='mae' was deprecated in version 0.24 and will be removed in version 1.1 (renaming of 0.26). The correct way of minimizing the absolute error is to use  loss='lad' instead.\n",
      "  warnings.warn(\"criterion='mae' was deprecated in version 0.24 and \"\n",
      "F:\\ANACONDA\\lib\\site-packages\\sklearn\\ensemble\\_gb.py:1630: FutureWarning: criterion='mae' was deprecated in version 0.24 and will be removed in version 1.1 (renaming of 0.26). The correct way of minimizing the absolute error is to use  loss='lad' instead.\n",
      "  warnings.warn(\"criterion='mae' was deprecated in version 0.24 and \"\n",
      "F:\\ANACONDA\\lib\\site-packages\\sklearn\\ensemble\\_gb.py:1630: FutureWarning: criterion='mae' was deprecated in version 0.24 and will be removed in version 1.1 (renaming of 0.26). The correct way of minimizing the absolute error is to use  loss='lad' instead.\n",
      "  warnings.warn(\"criterion='mae' was deprecated in version 0.24 and \"\n",
      "F:\\ANACONDA\\lib\\site-packages\\sklearn\\ensemble\\_gb.py:1630: FutureWarning: criterion='mae' was deprecated in version 0.24 and will be removed in version 1.1 (renaming of 0.26). The correct way of minimizing the absolute error is to use  loss='lad' instead.\n",
      "  warnings.warn(\"criterion='mae' was deprecated in version 0.24 and \"\n",
      "F:\\ANACONDA\\lib\\site-packages\\sklearn\\ensemble\\_gb.py:1630: FutureWarning: criterion='mae' was deprecated in version 0.24 and will be removed in version 1.1 (renaming of 0.26). The correct way of minimizing the absolute error is to use  loss='lad' instead.\n",
      "  warnings.warn(\"criterion='mae' was deprecated in version 0.24 and \"\n",
      "F:\\ANACONDA\\lib\\site-packages\\sklearn\\ensemble\\_gb.py:1630: FutureWarning: criterion='mae' was deprecated in version 0.24 and will be removed in version 1.1 (renaming of 0.26). The correct way of minimizing the absolute error is to use  loss='lad' instead.\n",
      "  warnings.warn(\"criterion='mae' was deprecated in version 0.24 and \"\n"
     ]
    },
    {
     "name": "stdout",
     "output_type": "stream",
     "text": [
      "Criteria:mae\tLoss Func: ls\tTree Depth: 1\tBoosting round: 250\n"
     ]
    },
    {
     "name": "stderr",
     "output_type": "stream",
     "text": [
      "F:\\ANACONDA\\lib\\site-packages\\sklearn\\ensemble\\_gb.py:1630: FutureWarning: criterion='mae' was deprecated in version 0.24 and will be removed in version 1.1 (renaming of 0.26). The correct way of minimizing the absolute error is to use  loss='lad' instead.\n",
      "  warnings.warn(\"criterion='mae' was deprecated in version 0.24 and \"\n",
      "F:\\ANACONDA\\lib\\site-packages\\sklearn\\ensemble\\_gb.py:1630: FutureWarning: criterion='mae' was deprecated in version 0.24 and will be removed in version 1.1 (renaming of 0.26). The correct way of minimizing the absolute error is to use  loss='lad' instead.\n",
      "  warnings.warn(\"criterion='mae' was deprecated in version 0.24 and \"\n",
      "F:\\ANACONDA\\lib\\site-packages\\sklearn\\ensemble\\_gb.py:1630: FutureWarning: criterion='mae' was deprecated in version 0.24 and will be removed in version 1.1 (renaming of 0.26). The correct way of minimizing the absolute error is to use  loss='lad' instead.\n",
      "  warnings.warn(\"criterion='mae' was deprecated in version 0.24 and \"\n",
      "F:\\ANACONDA\\lib\\site-packages\\sklearn\\ensemble\\_gb.py:1630: FutureWarning: criterion='mae' was deprecated in version 0.24 and will be removed in version 1.1 (renaming of 0.26). The correct way of minimizing the absolute error is to use  loss='lad' instead.\n",
      "  warnings.warn(\"criterion='mae' was deprecated in version 0.24 and \"\n",
      "F:\\ANACONDA\\lib\\site-packages\\sklearn\\ensemble\\_gb.py:1630: FutureWarning: criterion='mae' was deprecated in version 0.24 and will be removed in version 1.1 (renaming of 0.26). The correct way of minimizing the absolute error is to use  loss='lad' instead.\n",
      "  warnings.warn(\"criterion='mae' was deprecated in version 0.24 and \"\n",
      "F:\\ANACONDA\\lib\\site-packages\\sklearn\\ensemble\\_gb.py:1630: FutureWarning: criterion='mae' was deprecated in version 0.24 and will be removed in version 1.1 (renaming of 0.26). The correct way of minimizing the absolute error is to use  loss='lad' instead.\n",
      "  warnings.warn(\"criterion='mae' was deprecated in version 0.24 and \"\n",
      "F:\\ANACONDA\\lib\\site-packages\\sklearn\\ensemble\\_gb.py:1630: FutureWarning: criterion='mae' was deprecated in version 0.24 and will be removed in version 1.1 (renaming of 0.26). The correct way of minimizing the absolute error is to use  loss='lad' instead.\n",
      "  warnings.warn(\"criterion='mae' was deprecated in version 0.24 and \"\n",
      "F:\\ANACONDA\\lib\\site-packages\\sklearn\\ensemble\\_gb.py:1630: FutureWarning: criterion='mae' was deprecated in version 0.24 and will be removed in version 1.1 (renaming of 0.26). The correct way of minimizing the absolute error is to use  loss='lad' instead.\n",
      "  warnings.warn(\"criterion='mae' was deprecated in version 0.24 and \"\n",
      "F:\\ANACONDA\\lib\\site-packages\\sklearn\\ensemble\\_gb.py:1630: FutureWarning: criterion='mae' was deprecated in version 0.24 and will be removed in version 1.1 (renaming of 0.26). The correct way of minimizing the absolute error is to use  loss='lad' instead.\n",
      "  warnings.warn(\"criterion='mae' was deprecated in version 0.24 and \"\n",
      "F:\\ANACONDA\\lib\\site-packages\\sklearn\\ensemble\\_gb.py:1630: FutureWarning: criterion='mae' was deprecated in version 0.24 and will be removed in version 1.1 (renaming of 0.26). The correct way of minimizing the absolute error is to use  loss='lad' instead.\n",
      "  warnings.warn(\"criterion='mae' was deprecated in version 0.24 and \"\n"
     ]
    },
    {
     "name": "stdout",
     "output_type": "stream",
     "text": [
      "Criteria:mae\tLoss Func: ls\tTree Depth: 1\tBoosting round: 400\n"
     ]
    },
    {
     "name": "stderr",
     "output_type": "stream",
     "text": [
      "F:\\ANACONDA\\lib\\site-packages\\sklearn\\ensemble\\_gb.py:1630: FutureWarning: criterion='mae' was deprecated in version 0.24 and will be removed in version 1.1 (renaming of 0.26). The correct way of minimizing the absolute error is to use  loss='lad' instead.\n",
      "  warnings.warn(\"criterion='mae' was deprecated in version 0.24 and \"\n",
      "F:\\ANACONDA\\lib\\site-packages\\sklearn\\ensemble\\_gb.py:1630: FutureWarning: criterion='mae' was deprecated in version 0.24 and will be removed in version 1.1 (renaming of 0.26). The correct way of minimizing the absolute error is to use  loss='lad' instead.\n",
      "  warnings.warn(\"criterion='mae' was deprecated in version 0.24 and \"\n",
      "F:\\ANACONDA\\lib\\site-packages\\sklearn\\ensemble\\_gb.py:1630: FutureWarning: criterion='mae' was deprecated in version 0.24 and will be removed in version 1.1 (renaming of 0.26). The correct way of minimizing the absolute error is to use  loss='lad' instead.\n",
      "  warnings.warn(\"criterion='mae' was deprecated in version 0.24 and \"\n",
      "F:\\ANACONDA\\lib\\site-packages\\sklearn\\ensemble\\_gb.py:1630: FutureWarning: criterion='mae' was deprecated in version 0.24 and will be removed in version 1.1 (renaming of 0.26). The correct way of minimizing the absolute error is to use  loss='lad' instead.\n",
      "  warnings.warn(\"criterion='mae' was deprecated in version 0.24 and \"\n",
      "F:\\ANACONDA\\lib\\site-packages\\sklearn\\ensemble\\_gb.py:1630: FutureWarning: criterion='mae' was deprecated in version 0.24 and will be removed in version 1.1 (renaming of 0.26). The correct way of minimizing the absolute error is to use  loss='lad' instead.\n",
      "  warnings.warn(\"criterion='mae' was deprecated in version 0.24 and \"\n",
      "F:\\ANACONDA\\lib\\site-packages\\sklearn\\ensemble\\_gb.py:1630: FutureWarning: criterion='mae' was deprecated in version 0.24 and will be removed in version 1.1 (renaming of 0.26). The correct way of minimizing the absolute error is to use  loss='lad' instead.\n",
      "  warnings.warn(\"criterion='mae' was deprecated in version 0.24 and \"\n",
      "F:\\ANACONDA\\lib\\site-packages\\sklearn\\ensemble\\_gb.py:1630: FutureWarning: criterion='mae' was deprecated in version 0.24 and will be removed in version 1.1 (renaming of 0.26). The correct way of minimizing the absolute error is to use  loss='lad' instead.\n",
      "  warnings.warn(\"criterion='mae' was deprecated in version 0.24 and \"\n",
      "F:\\ANACONDA\\lib\\site-packages\\sklearn\\ensemble\\_gb.py:1630: FutureWarning: criterion='mae' was deprecated in version 0.24 and will be removed in version 1.1 (renaming of 0.26). The correct way of minimizing the absolute error is to use  loss='lad' instead.\n",
      "  warnings.warn(\"criterion='mae' was deprecated in version 0.24 and \"\n",
      "F:\\ANACONDA\\lib\\site-packages\\sklearn\\ensemble\\_gb.py:1630: FutureWarning: criterion='mae' was deprecated in version 0.24 and will be removed in version 1.1 (renaming of 0.26). The correct way of minimizing the absolute error is to use  loss='lad' instead.\n",
      "  warnings.warn(\"criterion='mae' was deprecated in version 0.24 and \"\n",
      "F:\\ANACONDA\\lib\\site-packages\\sklearn\\ensemble\\_gb.py:1630: FutureWarning: criterion='mae' was deprecated in version 0.24 and will be removed in version 1.1 (renaming of 0.26). The correct way of minimizing the absolute error is to use  loss='lad' instead.\n",
      "  warnings.warn(\"criterion='mae' was deprecated in version 0.24 and \"\n"
     ]
    },
    {
     "name": "stdout",
     "output_type": "stream",
     "text": [
      "Criteria:mae\tLoss Func: ls\tTree Depth: 1\tBoosting round: 550\n"
     ]
    },
    {
     "name": "stderr",
     "output_type": "stream",
     "text": [
      "F:\\ANACONDA\\lib\\site-packages\\sklearn\\ensemble\\_gb.py:1630: FutureWarning: criterion='mae' was deprecated in version 0.24 and will be removed in version 1.1 (renaming of 0.26). The correct way of minimizing the absolute error is to use  loss='lad' instead.\n",
      "  warnings.warn(\"criterion='mae' was deprecated in version 0.24 and \"\n",
      "F:\\ANACONDA\\lib\\site-packages\\sklearn\\ensemble\\_gb.py:1630: FutureWarning: criterion='mae' was deprecated in version 0.24 and will be removed in version 1.1 (renaming of 0.26). The correct way of minimizing the absolute error is to use  loss='lad' instead.\n",
      "  warnings.warn(\"criterion='mae' was deprecated in version 0.24 and \"\n",
      "F:\\ANACONDA\\lib\\site-packages\\sklearn\\ensemble\\_gb.py:1630: FutureWarning: criterion='mae' was deprecated in version 0.24 and will be removed in version 1.1 (renaming of 0.26). The correct way of minimizing the absolute error is to use  loss='lad' instead.\n",
      "  warnings.warn(\"criterion='mae' was deprecated in version 0.24 and \"\n",
      "F:\\ANACONDA\\lib\\site-packages\\sklearn\\ensemble\\_gb.py:1630: FutureWarning: criterion='mae' was deprecated in version 0.24 and will be removed in version 1.1 (renaming of 0.26). The correct way of minimizing the absolute error is to use  loss='lad' instead.\n",
      "  warnings.warn(\"criterion='mae' was deprecated in version 0.24 and \"\n",
      "F:\\ANACONDA\\lib\\site-packages\\sklearn\\ensemble\\_gb.py:1630: FutureWarning: criterion='mae' was deprecated in version 0.24 and will be removed in version 1.1 (renaming of 0.26). The correct way of minimizing the absolute error is to use  loss='lad' instead.\n",
      "  warnings.warn(\"criterion='mae' was deprecated in version 0.24 and \"\n",
      "F:\\ANACONDA\\lib\\site-packages\\sklearn\\ensemble\\_gb.py:1630: FutureWarning: criterion='mae' was deprecated in version 0.24 and will be removed in version 1.1 (renaming of 0.26). The correct way of minimizing the absolute error is to use  loss='lad' instead.\n",
      "  warnings.warn(\"criterion='mae' was deprecated in version 0.24 and \"\n",
      "F:\\ANACONDA\\lib\\site-packages\\sklearn\\ensemble\\_gb.py:1630: FutureWarning: criterion='mae' was deprecated in version 0.24 and will be removed in version 1.1 (renaming of 0.26). The correct way of minimizing the absolute error is to use  loss='lad' instead.\n",
      "  warnings.warn(\"criterion='mae' was deprecated in version 0.24 and \"\n",
      "F:\\ANACONDA\\lib\\site-packages\\sklearn\\ensemble\\_gb.py:1630: FutureWarning: criterion='mae' was deprecated in version 0.24 and will be removed in version 1.1 (renaming of 0.26). The correct way of minimizing the absolute error is to use  loss='lad' instead.\n",
      "  warnings.warn(\"criterion='mae' was deprecated in version 0.24 and \"\n",
      "F:\\ANACONDA\\lib\\site-packages\\sklearn\\ensemble\\_gb.py:1630: FutureWarning: criterion='mae' was deprecated in version 0.24 and will be removed in version 1.1 (renaming of 0.26). The correct way of minimizing the absolute error is to use  loss='lad' instead.\n",
      "  warnings.warn(\"criterion='mae' was deprecated in version 0.24 and \"\n",
      "F:\\ANACONDA\\lib\\site-packages\\sklearn\\ensemble\\_gb.py:1630: FutureWarning: criterion='mae' was deprecated in version 0.24 and will be removed in version 1.1 (renaming of 0.26). The correct way of minimizing the absolute error is to use  loss='lad' instead.\n",
      "  warnings.warn(\"criterion='mae' was deprecated in version 0.24 and \"\n"
     ]
    },
    {
     "name": "stdout",
     "output_type": "stream",
     "text": [
      "Criteria:mae\tLoss Func: ls\tTree Depth: 1\tBoosting round: 700\n"
     ]
    },
    {
     "name": "stderr",
     "output_type": "stream",
     "text": [
      "F:\\ANACONDA\\lib\\site-packages\\sklearn\\ensemble\\_gb.py:1630: FutureWarning: criterion='mae' was deprecated in version 0.24 and will be removed in version 1.1 (renaming of 0.26). The correct way of minimizing the absolute error is to use  loss='lad' instead.\n",
      "  warnings.warn(\"criterion='mae' was deprecated in version 0.24 and \"\n",
      "F:\\ANACONDA\\lib\\site-packages\\sklearn\\ensemble\\_gb.py:1630: FutureWarning: criterion='mae' was deprecated in version 0.24 and will be removed in version 1.1 (renaming of 0.26). The correct way of minimizing the absolute error is to use  loss='lad' instead.\n",
      "  warnings.warn(\"criterion='mae' was deprecated in version 0.24 and \"\n",
      "F:\\ANACONDA\\lib\\site-packages\\sklearn\\ensemble\\_gb.py:1630: FutureWarning: criterion='mae' was deprecated in version 0.24 and will be removed in version 1.1 (renaming of 0.26). The correct way of minimizing the absolute error is to use  loss='lad' instead.\n",
      "  warnings.warn(\"criterion='mae' was deprecated in version 0.24 and \"\n",
      "F:\\ANACONDA\\lib\\site-packages\\sklearn\\ensemble\\_gb.py:1630: FutureWarning: criterion='mae' was deprecated in version 0.24 and will be removed in version 1.1 (renaming of 0.26). The correct way of minimizing the absolute error is to use  loss='lad' instead.\n",
      "  warnings.warn(\"criterion='mae' was deprecated in version 0.24 and \"\n",
      "F:\\ANACONDA\\lib\\site-packages\\sklearn\\ensemble\\_gb.py:1630: FutureWarning: criterion='mae' was deprecated in version 0.24 and will be removed in version 1.1 (renaming of 0.26). The correct way of minimizing the absolute error is to use  loss='lad' instead.\n",
      "  warnings.warn(\"criterion='mae' was deprecated in version 0.24 and \"\n",
      "F:\\ANACONDA\\lib\\site-packages\\sklearn\\ensemble\\_gb.py:1630: FutureWarning: criterion='mae' was deprecated in version 0.24 and will be removed in version 1.1 (renaming of 0.26). The correct way of minimizing the absolute error is to use  loss='lad' instead.\n",
      "  warnings.warn(\"criterion='mae' was deprecated in version 0.24 and \"\n",
      "F:\\ANACONDA\\lib\\site-packages\\sklearn\\ensemble\\_gb.py:1630: FutureWarning: criterion='mae' was deprecated in version 0.24 and will be removed in version 1.1 (renaming of 0.26). The correct way of minimizing the absolute error is to use  loss='lad' instead.\n",
      "  warnings.warn(\"criterion='mae' was deprecated in version 0.24 and \"\n",
      "F:\\ANACONDA\\lib\\site-packages\\sklearn\\ensemble\\_gb.py:1630: FutureWarning: criterion='mae' was deprecated in version 0.24 and will be removed in version 1.1 (renaming of 0.26). The correct way of minimizing the absolute error is to use  loss='lad' instead.\n",
      "  warnings.warn(\"criterion='mae' was deprecated in version 0.24 and \"\n",
      "F:\\ANACONDA\\lib\\site-packages\\sklearn\\ensemble\\_gb.py:1630: FutureWarning: criterion='mae' was deprecated in version 0.24 and will be removed in version 1.1 (renaming of 0.26). The correct way of minimizing the absolute error is to use  loss='lad' instead.\n",
      "  warnings.warn(\"criterion='mae' was deprecated in version 0.24 and \"\n",
      "F:\\ANACONDA\\lib\\site-packages\\sklearn\\ensemble\\_gb.py:1630: FutureWarning: criterion='mae' was deprecated in version 0.24 and will be removed in version 1.1 (renaming of 0.26). The correct way of minimizing the absolute error is to use  loss='lad' instead.\n",
      "  warnings.warn(\"criterion='mae' was deprecated in version 0.24 and \"\n"
     ]
    },
    {
     "name": "stdout",
     "output_type": "stream",
     "text": [
      "Criteria:mae\tLoss Func: ls\tTree Depth: 1\tBoosting round: 850\n"
     ]
    },
    {
     "name": "stderr",
     "output_type": "stream",
     "text": [
      "F:\\ANACONDA\\lib\\site-packages\\sklearn\\ensemble\\_gb.py:1630: FutureWarning: criterion='mae' was deprecated in version 0.24 and will be removed in version 1.1 (renaming of 0.26). The correct way of minimizing the absolute error is to use  loss='lad' instead.\n",
      "  warnings.warn(\"criterion='mae' was deprecated in version 0.24 and \"\n",
      "F:\\ANACONDA\\lib\\site-packages\\sklearn\\ensemble\\_gb.py:1630: FutureWarning: criterion='mae' was deprecated in version 0.24 and will be removed in version 1.1 (renaming of 0.26). The correct way of minimizing the absolute error is to use  loss='lad' instead.\n",
      "  warnings.warn(\"criterion='mae' was deprecated in version 0.24 and \"\n",
      "F:\\ANACONDA\\lib\\site-packages\\sklearn\\ensemble\\_gb.py:1630: FutureWarning: criterion='mae' was deprecated in version 0.24 and will be removed in version 1.1 (renaming of 0.26). The correct way of minimizing the absolute error is to use  loss='lad' instead.\n",
      "  warnings.warn(\"criterion='mae' was deprecated in version 0.24 and \"\n",
      "F:\\ANACONDA\\lib\\site-packages\\sklearn\\ensemble\\_gb.py:1630: FutureWarning: criterion='mae' was deprecated in version 0.24 and will be removed in version 1.1 (renaming of 0.26). The correct way of minimizing the absolute error is to use  loss='lad' instead.\n",
      "  warnings.warn(\"criterion='mae' was deprecated in version 0.24 and \"\n",
      "F:\\ANACONDA\\lib\\site-packages\\sklearn\\ensemble\\_gb.py:1630: FutureWarning: criterion='mae' was deprecated in version 0.24 and will be removed in version 1.1 (renaming of 0.26). The correct way of minimizing the absolute error is to use  loss='lad' instead.\n",
      "  warnings.warn(\"criterion='mae' was deprecated in version 0.24 and \"\n",
      "F:\\ANACONDA\\lib\\site-packages\\sklearn\\ensemble\\_gb.py:1630: FutureWarning: criterion='mae' was deprecated in version 0.24 and will be removed in version 1.1 (renaming of 0.26). The correct way of minimizing the absolute error is to use  loss='lad' instead.\n",
      "  warnings.warn(\"criterion='mae' was deprecated in version 0.24 and \"\n",
      "F:\\ANACONDA\\lib\\site-packages\\sklearn\\ensemble\\_gb.py:1630: FutureWarning: criterion='mae' was deprecated in version 0.24 and will be removed in version 1.1 (renaming of 0.26). The correct way of minimizing the absolute error is to use  loss='lad' instead.\n",
      "  warnings.warn(\"criterion='mae' was deprecated in version 0.24 and \"\n",
      "F:\\ANACONDA\\lib\\site-packages\\sklearn\\ensemble\\_gb.py:1630: FutureWarning: criterion='mae' was deprecated in version 0.24 and will be removed in version 1.1 (renaming of 0.26). The correct way of minimizing the absolute error is to use  loss='lad' instead.\n",
      "  warnings.warn(\"criterion='mae' was deprecated in version 0.24 and \"\n",
      "F:\\ANACONDA\\lib\\site-packages\\sklearn\\ensemble\\_gb.py:1630: FutureWarning: criterion='mae' was deprecated in version 0.24 and will be removed in version 1.1 (renaming of 0.26). The correct way of minimizing the absolute error is to use  loss='lad' instead.\n",
      "  warnings.warn(\"criterion='mae' was deprecated in version 0.24 and \"\n",
      "F:\\ANACONDA\\lib\\site-packages\\sklearn\\ensemble\\_gb.py:1630: FutureWarning: criterion='mae' was deprecated in version 0.24 and will be removed in version 1.1 (renaming of 0.26). The correct way of minimizing the absolute error is to use  loss='lad' instead.\n",
      "  warnings.warn(\"criterion='mae' was deprecated in version 0.24 and \"\n"
     ]
    },
    {
     "name": "stdout",
     "output_type": "stream",
     "text": [
      "Criteria:mae\tLoss Func: ls\tTree Depth: 2\tBoosting round: 100\n"
     ]
    },
    {
     "name": "stderr",
     "output_type": "stream",
     "text": [
      "F:\\ANACONDA\\lib\\site-packages\\sklearn\\ensemble\\_gb.py:1630: FutureWarning: criterion='mae' was deprecated in version 0.24 and will be removed in version 1.1 (renaming of 0.26). The correct way of minimizing the absolute error is to use  loss='lad' instead.\n",
      "  warnings.warn(\"criterion='mae' was deprecated in version 0.24 and \"\n",
      "F:\\ANACONDA\\lib\\site-packages\\sklearn\\ensemble\\_gb.py:1630: FutureWarning: criterion='mae' was deprecated in version 0.24 and will be removed in version 1.1 (renaming of 0.26). The correct way of minimizing the absolute error is to use  loss='lad' instead.\n",
      "  warnings.warn(\"criterion='mae' was deprecated in version 0.24 and \"\n",
      "F:\\ANACONDA\\lib\\site-packages\\sklearn\\ensemble\\_gb.py:1630: FutureWarning: criterion='mae' was deprecated in version 0.24 and will be removed in version 1.1 (renaming of 0.26). The correct way of minimizing the absolute error is to use  loss='lad' instead.\n",
      "  warnings.warn(\"criterion='mae' was deprecated in version 0.24 and \"\n",
      "F:\\ANACONDA\\lib\\site-packages\\sklearn\\ensemble\\_gb.py:1630: FutureWarning: criterion='mae' was deprecated in version 0.24 and will be removed in version 1.1 (renaming of 0.26). The correct way of minimizing the absolute error is to use  loss='lad' instead.\n",
      "  warnings.warn(\"criterion='mae' was deprecated in version 0.24 and \"\n",
      "F:\\ANACONDA\\lib\\site-packages\\sklearn\\ensemble\\_gb.py:1630: FutureWarning: criterion='mae' was deprecated in version 0.24 and will be removed in version 1.1 (renaming of 0.26). The correct way of minimizing the absolute error is to use  loss='lad' instead.\n",
      "  warnings.warn(\"criterion='mae' was deprecated in version 0.24 and \"\n",
      "F:\\ANACONDA\\lib\\site-packages\\sklearn\\ensemble\\_gb.py:1630: FutureWarning: criterion='mae' was deprecated in version 0.24 and will be removed in version 1.1 (renaming of 0.26). The correct way of minimizing the absolute error is to use  loss='lad' instead.\n",
      "  warnings.warn(\"criterion='mae' was deprecated in version 0.24 and \"\n",
      "F:\\ANACONDA\\lib\\site-packages\\sklearn\\ensemble\\_gb.py:1630: FutureWarning: criterion='mae' was deprecated in version 0.24 and will be removed in version 1.1 (renaming of 0.26). The correct way of minimizing the absolute error is to use  loss='lad' instead.\n",
      "  warnings.warn(\"criterion='mae' was deprecated in version 0.24 and \"\n",
      "F:\\ANACONDA\\lib\\site-packages\\sklearn\\ensemble\\_gb.py:1630: FutureWarning: criterion='mae' was deprecated in version 0.24 and will be removed in version 1.1 (renaming of 0.26). The correct way of minimizing the absolute error is to use  loss='lad' instead.\n",
      "  warnings.warn(\"criterion='mae' was deprecated in version 0.24 and \"\n",
      "F:\\ANACONDA\\lib\\site-packages\\sklearn\\ensemble\\_gb.py:1630: FutureWarning: criterion='mae' was deprecated in version 0.24 and will be removed in version 1.1 (renaming of 0.26). The correct way of minimizing the absolute error is to use  loss='lad' instead.\n",
      "  warnings.warn(\"criterion='mae' was deprecated in version 0.24 and \"\n",
      "F:\\ANACONDA\\lib\\site-packages\\sklearn\\ensemble\\_gb.py:1630: FutureWarning: criterion='mae' was deprecated in version 0.24 and will be removed in version 1.1 (renaming of 0.26). The correct way of minimizing the absolute error is to use  loss='lad' instead.\n",
      "  warnings.warn(\"criterion='mae' was deprecated in version 0.24 and \"\n"
     ]
    },
    {
     "name": "stdout",
     "output_type": "stream",
     "text": [
      "Criteria:mae\tLoss Func: ls\tTree Depth: 2\tBoosting round: 250\n"
     ]
    },
    {
     "name": "stderr",
     "output_type": "stream",
     "text": [
      "F:\\ANACONDA\\lib\\site-packages\\sklearn\\ensemble\\_gb.py:1630: FutureWarning: criterion='mae' was deprecated in version 0.24 and will be removed in version 1.1 (renaming of 0.26). The correct way of minimizing the absolute error is to use  loss='lad' instead.\n",
      "  warnings.warn(\"criterion='mae' was deprecated in version 0.24 and \"\n",
      "F:\\ANACONDA\\lib\\site-packages\\sklearn\\ensemble\\_gb.py:1630: FutureWarning: criterion='mae' was deprecated in version 0.24 and will be removed in version 1.1 (renaming of 0.26). The correct way of minimizing the absolute error is to use  loss='lad' instead.\n",
      "  warnings.warn(\"criterion='mae' was deprecated in version 0.24 and \"\n",
      "F:\\ANACONDA\\lib\\site-packages\\sklearn\\ensemble\\_gb.py:1630: FutureWarning: criterion='mae' was deprecated in version 0.24 and will be removed in version 1.1 (renaming of 0.26). The correct way of minimizing the absolute error is to use  loss='lad' instead.\n",
      "  warnings.warn(\"criterion='mae' was deprecated in version 0.24 and \"\n",
      "F:\\ANACONDA\\lib\\site-packages\\sklearn\\ensemble\\_gb.py:1630: FutureWarning: criterion='mae' was deprecated in version 0.24 and will be removed in version 1.1 (renaming of 0.26). The correct way of minimizing the absolute error is to use  loss='lad' instead.\n",
      "  warnings.warn(\"criterion='mae' was deprecated in version 0.24 and \"\n",
      "F:\\ANACONDA\\lib\\site-packages\\sklearn\\ensemble\\_gb.py:1630: FutureWarning: criterion='mae' was deprecated in version 0.24 and will be removed in version 1.1 (renaming of 0.26). The correct way of minimizing the absolute error is to use  loss='lad' instead.\n",
      "  warnings.warn(\"criterion='mae' was deprecated in version 0.24 and \"\n",
      "F:\\ANACONDA\\lib\\site-packages\\sklearn\\ensemble\\_gb.py:1630: FutureWarning: criterion='mae' was deprecated in version 0.24 and will be removed in version 1.1 (renaming of 0.26). The correct way of minimizing the absolute error is to use  loss='lad' instead.\n",
      "  warnings.warn(\"criterion='mae' was deprecated in version 0.24 and \"\n",
      "F:\\ANACONDA\\lib\\site-packages\\sklearn\\ensemble\\_gb.py:1630: FutureWarning: criterion='mae' was deprecated in version 0.24 and will be removed in version 1.1 (renaming of 0.26). The correct way of minimizing the absolute error is to use  loss='lad' instead.\n",
      "  warnings.warn(\"criterion='mae' was deprecated in version 0.24 and \"\n",
      "F:\\ANACONDA\\lib\\site-packages\\sklearn\\ensemble\\_gb.py:1630: FutureWarning: criterion='mae' was deprecated in version 0.24 and will be removed in version 1.1 (renaming of 0.26). The correct way of minimizing the absolute error is to use  loss='lad' instead.\n",
      "  warnings.warn(\"criterion='mae' was deprecated in version 0.24 and \"\n",
      "F:\\ANACONDA\\lib\\site-packages\\sklearn\\ensemble\\_gb.py:1630: FutureWarning: criterion='mae' was deprecated in version 0.24 and will be removed in version 1.1 (renaming of 0.26). The correct way of minimizing the absolute error is to use  loss='lad' instead.\n",
      "  warnings.warn(\"criterion='mae' was deprecated in version 0.24 and \"\n",
      "F:\\ANACONDA\\lib\\site-packages\\sklearn\\ensemble\\_gb.py:1630: FutureWarning: criterion='mae' was deprecated in version 0.24 and will be removed in version 1.1 (renaming of 0.26). The correct way of minimizing the absolute error is to use  loss='lad' instead.\n",
      "  warnings.warn(\"criterion='mae' was deprecated in version 0.24 and \"\n"
     ]
    },
    {
     "name": "stdout",
     "output_type": "stream",
     "text": [
      "Criteria:mae\tLoss Func: ls\tTree Depth: 2\tBoosting round: 400\n"
     ]
    },
    {
     "name": "stderr",
     "output_type": "stream",
     "text": [
      "F:\\ANACONDA\\lib\\site-packages\\sklearn\\ensemble\\_gb.py:1630: FutureWarning: criterion='mae' was deprecated in version 0.24 and will be removed in version 1.1 (renaming of 0.26). The correct way of minimizing the absolute error is to use  loss='lad' instead.\n",
      "  warnings.warn(\"criterion='mae' was deprecated in version 0.24 and \"\n",
      "F:\\ANACONDA\\lib\\site-packages\\sklearn\\ensemble\\_gb.py:1630: FutureWarning: criterion='mae' was deprecated in version 0.24 and will be removed in version 1.1 (renaming of 0.26). The correct way of minimizing the absolute error is to use  loss='lad' instead.\n",
      "  warnings.warn(\"criterion='mae' was deprecated in version 0.24 and \"\n",
      "F:\\ANACONDA\\lib\\site-packages\\sklearn\\ensemble\\_gb.py:1630: FutureWarning: criterion='mae' was deprecated in version 0.24 and will be removed in version 1.1 (renaming of 0.26). The correct way of minimizing the absolute error is to use  loss='lad' instead.\n",
      "  warnings.warn(\"criterion='mae' was deprecated in version 0.24 and \"\n",
      "F:\\ANACONDA\\lib\\site-packages\\sklearn\\ensemble\\_gb.py:1630: FutureWarning: criterion='mae' was deprecated in version 0.24 and will be removed in version 1.1 (renaming of 0.26). The correct way of minimizing the absolute error is to use  loss='lad' instead.\n",
      "  warnings.warn(\"criterion='mae' was deprecated in version 0.24 and \"\n",
      "F:\\ANACONDA\\lib\\site-packages\\sklearn\\ensemble\\_gb.py:1630: FutureWarning: criterion='mae' was deprecated in version 0.24 and will be removed in version 1.1 (renaming of 0.26). The correct way of minimizing the absolute error is to use  loss='lad' instead.\n",
      "  warnings.warn(\"criterion='mae' was deprecated in version 0.24 and \"\n",
      "F:\\ANACONDA\\lib\\site-packages\\sklearn\\ensemble\\_gb.py:1630: FutureWarning: criterion='mae' was deprecated in version 0.24 and will be removed in version 1.1 (renaming of 0.26). The correct way of minimizing the absolute error is to use  loss='lad' instead.\n",
      "  warnings.warn(\"criterion='mae' was deprecated in version 0.24 and \"\n",
      "F:\\ANACONDA\\lib\\site-packages\\sklearn\\ensemble\\_gb.py:1630: FutureWarning: criterion='mae' was deprecated in version 0.24 and will be removed in version 1.1 (renaming of 0.26). The correct way of minimizing the absolute error is to use  loss='lad' instead.\n",
      "  warnings.warn(\"criterion='mae' was deprecated in version 0.24 and \"\n",
      "F:\\ANACONDA\\lib\\site-packages\\sklearn\\ensemble\\_gb.py:1630: FutureWarning: criterion='mae' was deprecated in version 0.24 and will be removed in version 1.1 (renaming of 0.26). The correct way of minimizing the absolute error is to use  loss='lad' instead.\n",
      "  warnings.warn(\"criterion='mae' was deprecated in version 0.24 and \"\n",
      "F:\\ANACONDA\\lib\\site-packages\\sklearn\\ensemble\\_gb.py:1630: FutureWarning: criterion='mae' was deprecated in version 0.24 and will be removed in version 1.1 (renaming of 0.26). The correct way of minimizing the absolute error is to use  loss='lad' instead.\n",
      "  warnings.warn(\"criterion='mae' was deprecated in version 0.24 and \"\n",
      "F:\\ANACONDA\\lib\\site-packages\\sklearn\\ensemble\\_gb.py:1630: FutureWarning: criterion='mae' was deprecated in version 0.24 and will be removed in version 1.1 (renaming of 0.26). The correct way of minimizing the absolute error is to use  loss='lad' instead.\n",
      "  warnings.warn(\"criterion='mae' was deprecated in version 0.24 and \"\n"
     ]
    },
    {
     "name": "stdout",
     "output_type": "stream",
     "text": [
      "Criteria:mae\tLoss Func: ls\tTree Depth: 2\tBoosting round: 550\n"
     ]
    },
    {
     "name": "stderr",
     "output_type": "stream",
     "text": [
      "F:\\ANACONDA\\lib\\site-packages\\sklearn\\ensemble\\_gb.py:1630: FutureWarning: criterion='mae' was deprecated in version 0.24 and will be removed in version 1.1 (renaming of 0.26). The correct way of minimizing the absolute error is to use  loss='lad' instead.\n",
      "  warnings.warn(\"criterion='mae' was deprecated in version 0.24 and \"\n",
      "F:\\ANACONDA\\lib\\site-packages\\sklearn\\ensemble\\_gb.py:1630: FutureWarning: criterion='mae' was deprecated in version 0.24 and will be removed in version 1.1 (renaming of 0.26). The correct way of minimizing the absolute error is to use  loss='lad' instead.\n",
      "  warnings.warn(\"criterion='mae' was deprecated in version 0.24 and \"\n",
      "F:\\ANACONDA\\lib\\site-packages\\sklearn\\ensemble\\_gb.py:1630: FutureWarning: criterion='mae' was deprecated in version 0.24 and will be removed in version 1.1 (renaming of 0.26). The correct way of minimizing the absolute error is to use  loss='lad' instead.\n",
      "  warnings.warn(\"criterion='mae' was deprecated in version 0.24 and \"\n",
      "F:\\ANACONDA\\lib\\site-packages\\sklearn\\ensemble\\_gb.py:1630: FutureWarning: criterion='mae' was deprecated in version 0.24 and will be removed in version 1.1 (renaming of 0.26). The correct way of minimizing the absolute error is to use  loss='lad' instead.\n",
      "  warnings.warn(\"criterion='mae' was deprecated in version 0.24 and \"\n",
      "F:\\ANACONDA\\lib\\site-packages\\sklearn\\ensemble\\_gb.py:1630: FutureWarning: criterion='mae' was deprecated in version 0.24 and will be removed in version 1.1 (renaming of 0.26). The correct way of minimizing the absolute error is to use  loss='lad' instead.\n",
      "  warnings.warn(\"criterion='mae' was deprecated in version 0.24 and \"\n",
      "F:\\ANACONDA\\lib\\site-packages\\sklearn\\ensemble\\_gb.py:1630: FutureWarning: criterion='mae' was deprecated in version 0.24 and will be removed in version 1.1 (renaming of 0.26). The correct way of minimizing the absolute error is to use  loss='lad' instead.\n",
      "  warnings.warn(\"criterion='mae' was deprecated in version 0.24 and \"\n",
      "F:\\ANACONDA\\lib\\site-packages\\sklearn\\ensemble\\_gb.py:1630: FutureWarning: criterion='mae' was deprecated in version 0.24 and will be removed in version 1.1 (renaming of 0.26). The correct way of minimizing the absolute error is to use  loss='lad' instead.\n",
      "  warnings.warn(\"criterion='mae' was deprecated in version 0.24 and \"\n",
      "F:\\ANACONDA\\lib\\site-packages\\sklearn\\ensemble\\_gb.py:1630: FutureWarning: criterion='mae' was deprecated in version 0.24 and will be removed in version 1.1 (renaming of 0.26). The correct way of minimizing the absolute error is to use  loss='lad' instead.\n",
      "  warnings.warn(\"criterion='mae' was deprecated in version 0.24 and \"\n",
      "F:\\ANACONDA\\lib\\site-packages\\sklearn\\ensemble\\_gb.py:1630: FutureWarning: criterion='mae' was deprecated in version 0.24 and will be removed in version 1.1 (renaming of 0.26). The correct way of minimizing the absolute error is to use  loss='lad' instead.\n",
      "  warnings.warn(\"criterion='mae' was deprecated in version 0.24 and \"\n",
      "F:\\ANACONDA\\lib\\site-packages\\sklearn\\ensemble\\_gb.py:1630: FutureWarning: criterion='mae' was deprecated in version 0.24 and will be removed in version 1.1 (renaming of 0.26). The correct way of minimizing the absolute error is to use  loss='lad' instead.\n",
      "  warnings.warn(\"criterion='mae' was deprecated in version 0.24 and \"\n"
     ]
    },
    {
     "name": "stdout",
     "output_type": "stream",
     "text": [
      "Criteria:mae\tLoss Func: ls\tTree Depth: 2\tBoosting round: 700\n"
     ]
    },
    {
     "name": "stderr",
     "output_type": "stream",
     "text": [
      "F:\\ANACONDA\\lib\\site-packages\\sklearn\\ensemble\\_gb.py:1630: FutureWarning: criterion='mae' was deprecated in version 0.24 and will be removed in version 1.1 (renaming of 0.26). The correct way of minimizing the absolute error is to use  loss='lad' instead.\n",
      "  warnings.warn(\"criterion='mae' was deprecated in version 0.24 and \"\n",
      "F:\\ANACONDA\\lib\\site-packages\\sklearn\\ensemble\\_gb.py:1630: FutureWarning: criterion='mae' was deprecated in version 0.24 and will be removed in version 1.1 (renaming of 0.26). The correct way of minimizing the absolute error is to use  loss='lad' instead.\n",
      "  warnings.warn(\"criterion='mae' was deprecated in version 0.24 and \"\n",
      "F:\\ANACONDA\\lib\\site-packages\\sklearn\\ensemble\\_gb.py:1630: FutureWarning: criterion='mae' was deprecated in version 0.24 and will be removed in version 1.1 (renaming of 0.26). The correct way of minimizing the absolute error is to use  loss='lad' instead.\n",
      "  warnings.warn(\"criterion='mae' was deprecated in version 0.24 and \"\n",
      "F:\\ANACONDA\\lib\\site-packages\\sklearn\\ensemble\\_gb.py:1630: FutureWarning: criterion='mae' was deprecated in version 0.24 and will be removed in version 1.1 (renaming of 0.26). The correct way of minimizing the absolute error is to use  loss='lad' instead.\n",
      "  warnings.warn(\"criterion='mae' was deprecated in version 0.24 and \"\n",
      "F:\\ANACONDA\\lib\\site-packages\\sklearn\\ensemble\\_gb.py:1630: FutureWarning: criterion='mae' was deprecated in version 0.24 and will be removed in version 1.1 (renaming of 0.26). The correct way of minimizing the absolute error is to use  loss='lad' instead.\n",
      "  warnings.warn(\"criterion='mae' was deprecated in version 0.24 and \"\n",
      "F:\\ANACONDA\\lib\\site-packages\\sklearn\\ensemble\\_gb.py:1630: FutureWarning: criterion='mae' was deprecated in version 0.24 and will be removed in version 1.1 (renaming of 0.26). The correct way of minimizing the absolute error is to use  loss='lad' instead.\n",
      "  warnings.warn(\"criterion='mae' was deprecated in version 0.24 and \"\n",
      "F:\\ANACONDA\\lib\\site-packages\\sklearn\\ensemble\\_gb.py:1630: FutureWarning: criterion='mae' was deprecated in version 0.24 and will be removed in version 1.1 (renaming of 0.26). The correct way of minimizing the absolute error is to use  loss='lad' instead.\n",
      "  warnings.warn(\"criterion='mae' was deprecated in version 0.24 and \"\n",
      "F:\\ANACONDA\\lib\\site-packages\\sklearn\\ensemble\\_gb.py:1630: FutureWarning: criterion='mae' was deprecated in version 0.24 and will be removed in version 1.1 (renaming of 0.26). The correct way of minimizing the absolute error is to use  loss='lad' instead.\n",
      "  warnings.warn(\"criterion='mae' was deprecated in version 0.24 and \"\n",
      "F:\\ANACONDA\\lib\\site-packages\\sklearn\\ensemble\\_gb.py:1630: FutureWarning: criterion='mae' was deprecated in version 0.24 and will be removed in version 1.1 (renaming of 0.26). The correct way of minimizing the absolute error is to use  loss='lad' instead.\n",
      "  warnings.warn(\"criterion='mae' was deprecated in version 0.24 and \"\n",
      "F:\\ANACONDA\\lib\\site-packages\\sklearn\\ensemble\\_gb.py:1630: FutureWarning: criterion='mae' was deprecated in version 0.24 and will be removed in version 1.1 (renaming of 0.26). The correct way of minimizing the absolute error is to use  loss='lad' instead.\n",
      "  warnings.warn(\"criterion='mae' was deprecated in version 0.24 and \"\n"
     ]
    },
    {
     "name": "stdout",
     "output_type": "stream",
     "text": [
      "Criteria:mae\tLoss Func: ls\tTree Depth: 2\tBoosting round: 850\n"
     ]
    },
    {
     "name": "stderr",
     "output_type": "stream",
     "text": [
      "F:\\ANACONDA\\lib\\site-packages\\sklearn\\ensemble\\_gb.py:1630: FutureWarning: criterion='mae' was deprecated in version 0.24 and will be removed in version 1.1 (renaming of 0.26). The correct way of minimizing the absolute error is to use  loss='lad' instead.\n",
      "  warnings.warn(\"criterion='mae' was deprecated in version 0.24 and \"\n",
      "F:\\ANACONDA\\lib\\site-packages\\sklearn\\ensemble\\_gb.py:1630: FutureWarning: criterion='mae' was deprecated in version 0.24 and will be removed in version 1.1 (renaming of 0.26). The correct way of minimizing the absolute error is to use  loss='lad' instead.\n",
      "  warnings.warn(\"criterion='mae' was deprecated in version 0.24 and \"\n",
      "F:\\ANACONDA\\lib\\site-packages\\sklearn\\ensemble\\_gb.py:1630: FutureWarning: criterion='mae' was deprecated in version 0.24 and will be removed in version 1.1 (renaming of 0.26). The correct way of minimizing the absolute error is to use  loss='lad' instead.\n",
      "  warnings.warn(\"criterion='mae' was deprecated in version 0.24 and \"\n",
      "F:\\ANACONDA\\lib\\site-packages\\sklearn\\ensemble\\_gb.py:1630: FutureWarning: criterion='mae' was deprecated in version 0.24 and will be removed in version 1.1 (renaming of 0.26). The correct way of minimizing the absolute error is to use  loss='lad' instead.\n",
      "  warnings.warn(\"criterion='mae' was deprecated in version 0.24 and \"\n",
      "F:\\ANACONDA\\lib\\site-packages\\sklearn\\ensemble\\_gb.py:1630: FutureWarning: criterion='mae' was deprecated in version 0.24 and will be removed in version 1.1 (renaming of 0.26). The correct way of minimizing the absolute error is to use  loss='lad' instead.\n",
      "  warnings.warn(\"criterion='mae' was deprecated in version 0.24 and \"\n",
      "F:\\ANACONDA\\lib\\site-packages\\sklearn\\ensemble\\_gb.py:1630: FutureWarning: criterion='mae' was deprecated in version 0.24 and will be removed in version 1.1 (renaming of 0.26). The correct way of minimizing the absolute error is to use  loss='lad' instead.\n",
      "  warnings.warn(\"criterion='mae' was deprecated in version 0.24 and \"\n",
      "F:\\ANACONDA\\lib\\site-packages\\sklearn\\ensemble\\_gb.py:1630: FutureWarning: criterion='mae' was deprecated in version 0.24 and will be removed in version 1.1 (renaming of 0.26). The correct way of minimizing the absolute error is to use  loss='lad' instead.\n",
      "  warnings.warn(\"criterion='mae' was deprecated in version 0.24 and \"\n",
      "F:\\ANACONDA\\lib\\site-packages\\sklearn\\ensemble\\_gb.py:1630: FutureWarning: criterion='mae' was deprecated in version 0.24 and will be removed in version 1.1 (renaming of 0.26). The correct way of minimizing the absolute error is to use  loss='lad' instead.\n",
      "  warnings.warn(\"criterion='mae' was deprecated in version 0.24 and \"\n",
      "F:\\ANACONDA\\lib\\site-packages\\sklearn\\ensemble\\_gb.py:1630: FutureWarning: criterion='mae' was deprecated in version 0.24 and will be removed in version 1.1 (renaming of 0.26). The correct way of minimizing the absolute error is to use  loss='lad' instead.\n",
      "  warnings.warn(\"criterion='mae' was deprecated in version 0.24 and \"\n",
      "F:\\ANACONDA\\lib\\site-packages\\sklearn\\ensemble\\_gb.py:1630: FutureWarning: criterion='mae' was deprecated in version 0.24 and will be removed in version 1.1 (renaming of 0.26). The correct way of minimizing the absolute error is to use  loss='lad' instead.\n",
      "  warnings.warn(\"criterion='mae' was deprecated in version 0.24 and \"\n"
     ]
    },
    {
     "name": "stdout",
     "output_type": "stream",
     "text": [
      "Criteria:mae\tLoss Func: ls\tTree Depth: 3\tBoosting round: 100\n"
     ]
    },
    {
     "name": "stderr",
     "output_type": "stream",
     "text": [
      "F:\\ANACONDA\\lib\\site-packages\\sklearn\\ensemble\\_gb.py:1630: FutureWarning: criterion='mae' was deprecated in version 0.24 and will be removed in version 1.1 (renaming of 0.26). The correct way of minimizing the absolute error is to use  loss='lad' instead.\n",
      "  warnings.warn(\"criterion='mae' was deprecated in version 0.24 and \"\n",
      "F:\\ANACONDA\\lib\\site-packages\\sklearn\\ensemble\\_gb.py:1630: FutureWarning: criterion='mae' was deprecated in version 0.24 and will be removed in version 1.1 (renaming of 0.26). The correct way of minimizing the absolute error is to use  loss='lad' instead.\n",
      "  warnings.warn(\"criterion='mae' was deprecated in version 0.24 and \"\n",
      "F:\\ANACONDA\\lib\\site-packages\\sklearn\\ensemble\\_gb.py:1630: FutureWarning: criterion='mae' was deprecated in version 0.24 and will be removed in version 1.1 (renaming of 0.26). The correct way of minimizing the absolute error is to use  loss='lad' instead.\n",
      "  warnings.warn(\"criterion='mae' was deprecated in version 0.24 and \"\n",
      "F:\\ANACONDA\\lib\\site-packages\\sklearn\\ensemble\\_gb.py:1630: FutureWarning: criterion='mae' was deprecated in version 0.24 and will be removed in version 1.1 (renaming of 0.26). The correct way of minimizing the absolute error is to use  loss='lad' instead.\n",
      "  warnings.warn(\"criterion='mae' was deprecated in version 0.24 and \"\n",
      "F:\\ANACONDA\\lib\\site-packages\\sklearn\\ensemble\\_gb.py:1630: FutureWarning: criterion='mae' was deprecated in version 0.24 and will be removed in version 1.1 (renaming of 0.26). The correct way of minimizing the absolute error is to use  loss='lad' instead.\n",
      "  warnings.warn(\"criterion='mae' was deprecated in version 0.24 and \"\n",
      "F:\\ANACONDA\\lib\\site-packages\\sklearn\\ensemble\\_gb.py:1630: FutureWarning: criterion='mae' was deprecated in version 0.24 and will be removed in version 1.1 (renaming of 0.26). The correct way of minimizing the absolute error is to use  loss='lad' instead.\n",
      "  warnings.warn(\"criterion='mae' was deprecated in version 0.24 and \"\n",
      "F:\\ANACONDA\\lib\\site-packages\\sklearn\\ensemble\\_gb.py:1630: FutureWarning: criterion='mae' was deprecated in version 0.24 and will be removed in version 1.1 (renaming of 0.26). The correct way of minimizing the absolute error is to use  loss='lad' instead.\n",
      "  warnings.warn(\"criterion='mae' was deprecated in version 0.24 and \"\n",
      "F:\\ANACONDA\\lib\\site-packages\\sklearn\\ensemble\\_gb.py:1630: FutureWarning: criterion='mae' was deprecated in version 0.24 and will be removed in version 1.1 (renaming of 0.26). The correct way of minimizing the absolute error is to use  loss='lad' instead.\n",
      "  warnings.warn(\"criterion='mae' was deprecated in version 0.24 and \"\n",
      "F:\\ANACONDA\\lib\\site-packages\\sklearn\\ensemble\\_gb.py:1630: FutureWarning: criterion='mae' was deprecated in version 0.24 and will be removed in version 1.1 (renaming of 0.26). The correct way of minimizing the absolute error is to use  loss='lad' instead.\n",
      "  warnings.warn(\"criterion='mae' was deprecated in version 0.24 and \"\n",
      "F:\\ANACONDA\\lib\\site-packages\\sklearn\\ensemble\\_gb.py:1630: FutureWarning: criterion='mae' was deprecated in version 0.24 and will be removed in version 1.1 (renaming of 0.26). The correct way of minimizing the absolute error is to use  loss='lad' instead.\n",
      "  warnings.warn(\"criterion='mae' was deprecated in version 0.24 and \"\n"
     ]
    },
    {
     "name": "stdout",
     "output_type": "stream",
     "text": [
      "Criteria:mae\tLoss Func: ls\tTree Depth: 3\tBoosting round: 250\n"
     ]
    },
    {
     "name": "stderr",
     "output_type": "stream",
     "text": [
      "F:\\ANACONDA\\lib\\site-packages\\sklearn\\ensemble\\_gb.py:1630: FutureWarning: criterion='mae' was deprecated in version 0.24 and will be removed in version 1.1 (renaming of 0.26). The correct way of minimizing the absolute error is to use  loss='lad' instead.\n",
      "  warnings.warn(\"criterion='mae' was deprecated in version 0.24 and \"\n",
      "F:\\ANACONDA\\lib\\site-packages\\sklearn\\ensemble\\_gb.py:1630: FutureWarning: criterion='mae' was deprecated in version 0.24 and will be removed in version 1.1 (renaming of 0.26). The correct way of minimizing the absolute error is to use  loss='lad' instead.\n",
      "  warnings.warn(\"criterion='mae' was deprecated in version 0.24 and \"\n",
      "F:\\ANACONDA\\lib\\site-packages\\sklearn\\ensemble\\_gb.py:1630: FutureWarning: criterion='mae' was deprecated in version 0.24 and will be removed in version 1.1 (renaming of 0.26). The correct way of minimizing the absolute error is to use  loss='lad' instead.\n",
      "  warnings.warn(\"criterion='mae' was deprecated in version 0.24 and \"\n",
      "F:\\ANACONDA\\lib\\site-packages\\sklearn\\ensemble\\_gb.py:1630: FutureWarning: criterion='mae' was deprecated in version 0.24 and will be removed in version 1.1 (renaming of 0.26). The correct way of minimizing the absolute error is to use  loss='lad' instead.\n",
      "  warnings.warn(\"criterion='mae' was deprecated in version 0.24 and \"\n",
      "F:\\ANACONDA\\lib\\site-packages\\sklearn\\ensemble\\_gb.py:1630: FutureWarning: criterion='mae' was deprecated in version 0.24 and will be removed in version 1.1 (renaming of 0.26). The correct way of minimizing the absolute error is to use  loss='lad' instead.\n",
      "  warnings.warn(\"criterion='mae' was deprecated in version 0.24 and \"\n",
      "F:\\ANACONDA\\lib\\site-packages\\sklearn\\ensemble\\_gb.py:1630: FutureWarning: criterion='mae' was deprecated in version 0.24 and will be removed in version 1.1 (renaming of 0.26). The correct way of minimizing the absolute error is to use  loss='lad' instead.\n",
      "  warnings.warn(\"criterion='mae' was deprecated in version 0.24 and \"\n",
      "F:\\ANACONDA\\lib\\site-packages\\sklearn\\ensemble\\_gb.py:1630: FutureWarning: criterion='mae' was deprecated in version 0.24 and will be removed in version 1.1 (renaming of 0.26). The correct way of minimizing the absolute error is to use  loss='lad' instead.\n",
      "  warnings.warn(\"criterion='mae' was deprecated in version 0.24 and \"\n",
      "F:\\ANACONDA\\lib\\site-packages\\sklearn\\ensemble\\_gb.py:1630: FutureWarning: criterion='mae' was deprecated in version 0.24 and will be removed in version 1.1 (renaming of 0.26). The correct way of minimizing the absolute error is to use  loss='lad' instead.\n",
      "  warnings.warn(\"criterion='mae' was deprecated in version 0.24 and \"\n",
      "F:\\ANACONDA\\lib\\site-packages\\sklearn\\ensemble\\_gb.py:1630: FutureWarning: criterion='mae' was deprecated in version 0.24 and will be removed in version 1.1 (renaming of 0.26). The correct way of minimizing the absolute error is to use  loss='lad' instead.\n",
      "  warnings.warn(\"criterion='mae' was deprecated in version 0.24 and \"\n",
      "F:\\ANACONDA\\lib\\site-packages\\sklearn\\ensemble\\_gb.py:1630: FutureWarning: criterion='mae' was deprecated in version 0.24 and will be removed in version 1.1 (renaming of 0.26). The correct way of minimizing the absolute error is to use  loss='lad' instead.\n",
      "  warnings.warn(\"criterion='mae' was deprecated in version 0.24 and \"\n"
     ]
    },
    {
     "name": "stdout",
     "output_type": "stream",
     "text": [
      "Criteria:mae\tLoss Func: ls\tTree Depth: 3\tBoosting round: 400\n"
     ]
    },
    {
     "name": "stderr",
     "output_type": "stream",
     "text": [
      "F:\\ANACONDA\\lib\\site-packages\\sklearn\\ensemble\\_gb.py:1630: FutureWarning: criterion='mae' was deprecated in version 0.24 and will be removed in version 1.1 (renaming of 0.26). The correct way of minimizing the absolute error is to use  loss='lad' instead.\n",
      "  warnings.warn(\"criterion='mae' was deprecated in version 0.24 and \"\n",
      "F:\\ANACONDA\\lib\\site-packages\\sklearn\\ensemble\\_gb.py:1630: FutureWarning: criterion='mae' was deprecated in version 0.24 and will be removed in version 1.1 (renaming of 0.26). The correct way of minimizing the absolute error is to use  loss='lad' instead.\n",
      "  warnings.warn(\"criterion='mae' was deprecated in version 0.24 and \"\n",
      "F:\\ANACONDA\\lib\\site-packages\\sklearn\\ensemble\\_gb.py:1630: FutureWarning: criterion='mae' was deprecated in version 0.24 and will be removed in version 1.1 (renaming of 0.26). The correct way of minimizing the absolute error is to use  loss='lad' instead.\n",
      "  warnings.warn(\"criterion='mae' was deprecated in version 0.24 and \"\n",
      "F:\\ANACONDA\\lib\\site-packages\\sklearn\\ensemble\\_gb.py:1630: FutureWarning: criterion='mae' was deprecated in version 0.24 and will be removed in version 1.1 (renaming of 0.26). The correct way of minimizing the absolute error is to use  loss='lad' instead.\n",
      "  warnings.warn(\"criterion='mae' was deprecated in version 0.24 and \"\n",
      "F:\\ANACONDA\\lib\\site-packages\\sklearn\\ensemble\\_gb.py:1630: FutureWarning: criterion='mae' was deprecated in version 0.24 and will be removed in version 1.1 (renaming of 0.26). The correct way of minimizing the absolute error is to use  loss='lad' instead.\n",
      "  warnings.warn(\"criterion='mae' was deprecated in version 0.24 and \"\n",
      "F:\\ANACONDA\\lib\\site-packages\\sklearn\\ensemble\\_gb.py:1630: FutureWarning: criterion='mae' was deprecated in version 0.24 and will be removed in version 1.1 (renaming of 0.26). The correct way of minimizing the absolute error is to use  loss='lad' instead.\n",
      "  warnings.warn(\"criterion='mae' was deprecated in version 0.24 and \"\n",
      "F:\\ANACONDA\\lib\\site-packages\\sklearn\\ensemble\\_gb.py:1630: FutureWarning: criterion='mae' was deprecated in version 0.24 and will be removed in version 1.1 (renaming of 0.26). The correct way of minimizing the absolute error is to use  loss='lad' instead.\n",
      "  warnings.warn(\"criterion='mae' was deprecated in version 0.24 and \"\n",
      "F:\\ANACONDA\\lib\\site-packages\\sklearn\\ensemble\\_gb.py:1630: FutureWarning: criterion='mae' was deprecated in version 0.24 and will be removed in version 1.1 (renaming of 0.26). The correct way of minimizing the absolute error is to use  loss='lad' instead.\n",
      "  warnings.warn(\"criterion='mae' was deprecated in version 0.24 and \"\n",
      "F:\\ANACONDA\\lib\\site-packages\\sklearn\\ensemble\\_gb.py:1630: FutureWarning: criterion='mae' was deprecated in version 0.24 and will be removed in version 1.1 (renaming of 0.26). The correct way of minimizing the absolute error is to use  loss='lad' instead.\n",
      "  warnings.warn(\"criterion='mae' was deprecated in version 0.24 and \"\n",
      "F:\\ANACONDA\\lib\\site-packages\\sklearn\\ensemble\\_gb.py:1630: FutureWarning: criterion='mae' was deprecated in version 0.24 and will be removed in version 1.1 (renaming of 0.26). The correct way of minimizing the absolute error is to use  loss='lad' instead.\n",
      "  warnings.warn(\"criterion='mae' was deprecated in version 0.24 and \"\n"
     ]
    },
    {
     "name": "stdout",
     "output_type": "stream",
     "text": [
      "Criteria:mae\tLoss Func: ls\tTree Depth: 3\tBoosting round: 550\n"
     ]
    },
    {
     "name": "stderr",
     "output_type": "stream",
     "text": [
      "F:\\ANACONDA\\lib\\site-packages\\sklearn\\ensemble\\_gb.py:1630: FutureWarning: criterion='mae' was deprecated in version 0.24 and will be removed in version 1.1 (renaming of 0.26). The correct way of minimizing the absolute error is to use  loss='lad' instead.\n",
      "  warnings.warn(\"criterion='mae' was deprecated in version 0.24 and \"\n",
      "F:\\ANACONDA\\lib\\site-packages\\sklearn\\ensemble\\_gb.py:1630: FutureWarning: criterion='mae' was deprecated in version 0.24 and will be removed in version 1.1 (renaming of 0.26). The correct way of minimizing the absolute error is to use  loss='lad' instead.\n",
      "  warnings.warn(\"criterion='mae' was deprecated in version 0.24 and \"\n",
      "F:\\ANACONDA\\lib\\site-packages\\sklearn\\ensemble\\_gb.py:1630: FutureWarning: criterion='mae' was deprecated in version 0.24 and will be removed in version 1.1 (renaming of 0.26). The correct way of minimizing the absolute error is to use  loss='lad' instead.\n",
      "  warnings.warn(\"criterion='mae' was deprecated in version 0.24 and \"\n",
      "F:\\ANACONDA\\lib\\site-packages\\sklearn\\ensemble\\_gb.py:1630: FutureWarning: criterion='mae' was deprecated in version 0.24 and will be removed in version 1.1 (renaming of 0.26). The correct way of minimizing the absolute error is to use  loss='lad' instead.\n",
      "  warnings.warn(\"criterion='mae' was deprecated in version 0.24 and \"\n",
      "F:\\ANACONDA\\lib\\site-packages\\sklearn\\ensemble\\_gb.py:1630: FutureWarning: criterion='mae' was deprecated in version 0.24 and will be removed in version 1.1 (renaming of 0.26). The correct way of minimizing the absolute error is to use  loss='lad' instead.\n",
      "  warnings.warn(\"criterion='mae' was deprecated in version 0.24 and \"\n",
      "F:\\ANACONDA\\lib\\site-packages\\sklearn\\ensemble\\_gb.py:1630: FutureWarning: criterion='mae' was deprecated in version 0.24 and will be removed in version 1.1 (renaming of 0.26). The correct way of minimizing the absolute error is to use  loss='lad' instead.\n",
      "  warnings.warn(\"criterion='mae' was deprecated in version 0.24 and \"\n",
      "F:\\ANACONDA\\lib\\site-packages\\sklearn\\ensemble\\_gb.py:1630: FutureWarning: criterion='mae' was deprecated in version 0.24 and will be removed in version 1.1 (renaming of 0.26). The correct way of minimizing the absolute error is to use  loss='lad' instead.\n",
      "  warnings.warn(\"criterion='mae' was deprecated in version 0.24 and \"\n",
      "F:\\ANACONDA\\lib\\site-packages\\sklearn\\ensemble\\_gb.py:1630: FutureWarning: criterion='mae' was deprecated in version 0.24 and will be removed in version 1.1 (renaming of 0.26). The correct way of minimizing the absolute error is to use  loss='lad' instead.\n",
      "  warnings.warn(\"criterion='mae' was deprecated in version 0.24 and \"\n",
      "F:\\ANACONDA\\lib\\site-packages\\sklearn\\ensemble\\_gb.py:1630: FutureWarning: criterion='mae' was deprecated in version 0.24 and will be removed in version 1.1 (renaming of 0.26). The correct way of minimizing the absolute error is to use  loss='lad' instead.\n",
      "  warnings.warn(\"criterion='mae' was deprecated in version 0.24 and \"\n",
      "F:\\ANACONDA\\lib\\site-packages\\sklearn\\ensemble\\_gb.py:1630: FutureWarning: criterion='mae' was deprecated in version 0.24 and will be removed in version 1.1 (renaming of 0.26). The correct way of minimizing the absolute error is to use  loss='lad' instead.\n",
      "  warnings.warn(\"criterion='mae' was deprecated in version 0.24 and \"\n"
     ]
    },
    {
     "name": "stdout",
     "output_type": "stream",
     "text": [
      "Criteria:mae\tLoss Func: ls\tTree Depth: 3\tBoosting round: 700\n"
     ]
    },
    {
     "name": "stderr",
     "output_type": "stream",
     "text": [
      "F:\\ANACONDA\\lib\\site-packages\\sklearn\\ensemble\\_gb.py:1630: FutureWarning: criterion='mae' was deprecated in version 0.24 and will be removed in version 1.1 (renaming of 0.26). The correct way of minimizing the absolute error is to use  loss='lad' instead.\n",
      "  warnings.warn(\"criterion='mae' was deprecated in version 0.24 and \"\n",
      "F:\\ANACONDA\\lib\\site-packages\\sklearn\\ensemble\\_gb.py:1630: FutureWarning: criterion='mae' was deprecated in version 0.24 and will be removed in version 1.1 (renaming of 0.26). The correct way of minimizing the absolute error is to use  loss='lad' instead.\n",
      "  warnings.warn(\"criterion='mae' was deprecated in version 0.24 and \"\n",
      "F:\\ANACONDA\\lib\\site-packages\\sklearn\\ensemble\\_gb.py:1630: FutureWarning: criterion='mae' was deprecated in version 0.24 and will be removed in version 1.1 (renaming of 0.26). The correct way of minimizing the absolute error is to use  loss='lad' instead.\n",
      "  warnings.warn(\"criterion='mae' was deprecated in version 0.24 and \"\n",
      "F:\\ANACONDA\\lib\\site-packages\\sklearn\\ensemble\\_gb.py:1630: FutureWarning: criterion='mae' was deprecated in version 0.24 and will be removed in version 1.1 (renaming of 0.26). The correct way of minimizing the absolute error is to use  loss='lad' instead.\n",
      "  warnings.warn(\"criterion='mae' was deprecated in version 0.24 and \"\n",
      "F:\\ANACONDA\\lib\\site-packages\\sklearn\\ensemble\\_gb.py:1630: FutureWarning: criterion='mae' was deprecated in version 0.24 and will be removed in version 1.1 (renaming of 0.26). The correct way of minimizing the absolute error is to use  loss='lad' instead.\n",
      "  warnings.warn(\"criterion='mae' was deprecated in version 0.24 and \"\n",
      "F:\\ANACONDA\\lib\\site-packages\\sklearn\\ensemble\\_gb.py:1630: FutureWarning: criterion='mae' was deprecated in version 0.24 and will be removed in version 1.1 (renaming of 0.26). The correct way of minimizing the absolute error is to use  loss='lad' instead.\n",
      "  warnings.warn(\"criterion='mae' was deprecated in version 0.24 and \"\n",
      "F:\\ANACONDA\\lib\\site-packages\\sklearn\\ensemble\\_gb.py:1630: FutureWarning: criterion='mae' was deprecated in version 0.24 and will be removed in version 1.1 (renaming of 0.26). The correct way of minimizing the absolute error is to use  loss='lad' instead.\n",
      "  warnings.warn(\"criterion='mae' was deprecated in version 0.24 and \"\n",
      "F:\\ANACONDA\\lib\\site-packages\\sklearn\\ensemble\\_gb.py:1630: FutureWarning: criterion='mae' was deprecated in version 0.24 and will be removed in version 1.1 (renaming of 0.26). The correct way of minimizing the absolute error is to use  loss='lad' instead.\n",
      "  warnings.warn(\"criterion='mae' was deprecated in version 0.24 and \"\n",
      "F:\\ANACONDA\\lib\\site-packages\\sklearn\\ensemble\\_gb.py:1630: FutureWarning: criterion='mae' was deprecated in version 0.24 and will be removed in version 1.1 (renaming of 0.26). The correct way of minimizing the absolute error is to use  loss='lad' instead.\n",
      "  warnings.warn(\"criterion='mae' was deprecated in version 0.24 and \"\n",
      "F:\\ANACONDA\\lib\\site-packages\\sklearn\\ensemble\\_gb.py:1630: FutureWarning: criterion='mae' was deprecated in version 0.24 and will be removed in version 1.1 (renaming of 0.26). The correct way of minimizing the absolute error is to use  loss='lad' instead.\n",
      "  warnings.warn(\"criterion='mae' was deprecated in version 0.24 and \"\n"
     ]
    },
    {
     "name": "stdout",
     "output_type": "stream",
     "text": [
      "Criteria:mae\tLoss Func: ls\tTree Depth: 3\tBoosting round: 850\n"
     ]
    },
    {
     "name": "stderr",
     "output_type": "stream",
     "text": [
      "F:\\ANACONDA\\lib\\site-packages\\sklearn\\ensemble\\_gb.py:1630: FutureWarning: criterion='mae' was deprecated in version 0.24 and will be removed in version 1.1 (renaming of 0.26). The correct way of minimizing the absolute error is to use  loss='lad' instead.\n",
      "  warnings.warn(\"criterion='mae' was deprecated in version 0.24 and \"\n",
      "F:\\ANACONDA\\lib\\site-packages\\sklearn\\ensemble\\_gb.py:1630: FutureWarning: criterion='mae' was deprecated in version 0.24 and will be removed in version 1.1 (renaming of 0.26). The correct way of minimizing the absolute error is to use  loss='lad' instead.\n",
      "  warnings.warn(\"criterion='mae' was deprecated in version 0.24 and \"\n",
      "F:\\ANACONDA\\lib\\site-packages\\sklearn\\ensemble\\_gb.py:1630: FutureWarning: criterion='mae' was deprecated in version 0.24 and will be removed in version 1.1 (renaming of 0.26). The correct way of minimizing the absolute error is to use  loss='lad' instead.\n",
      "  warnings.warn(\"criterion='mae' was deprecated in version 0.24 and \"\n",
      "F:\\ANACONDA\\lib\\site-packages\\sklearn\\ensemble\\_gb.py:1630: FutureWarning: criterion='mae' was deprecated in version 0.24 and will be removed in version 1.1 (renaming of 0.26). The correct way of minimizing the absolute error is to use  loss='lad' instead.\n",
      "  warnings.warn(\"criterion='mae' was deprecated in version 0.24 and \"\n",
      "F:\\ANACONDA\\lib\\site-packages\\sklearn\\ensemble\\_gb.py:1630: FutureWarning: criterion='mae' was deprecated in version 0.24 and will be removed in version 1.1 (renaming of 0.26). The correct way of minimizing the absolute error is to use  loss='lad' instead.\n",
      "  warnings.warn(\"criterion='mae' was deprecated in version 0.24 and \"\n",
      "F:\\ANACONDA\\lib\\site-packages\\sklearn\\ensemble\\_gb.py:1630: FutureWarning: criterion='mae' was deprecated in version 0.24 and will be removed in version 1.1 (renaming of 0.26). The correct way of minimizing the absolute error is to use  loss='lad' instead.\n",
      "  warnings.warn(\"criterion='mae' was deprecated in version 0.24 and \"\n",
      "F:\\ANACONDA\\lib\\site-packages\\sklearn\\ensemble\\_gb.py:1630: FutureWarning: criterion='mae' was deprecated in version 0.24 and will be removed in version 1.1 (renaming of 0.26). The correct way of minimizing the absolute error is to use  loss='lad' instead.\n",
      "  warnings.warn(\"criterion='mae' was deprecated in version 0.24 and \"\n",
      "F:\\ANACONDA\\lib\\site-packages\\sklearn\\ensemble\\_gb.py:1630: FutureWarning: criterion='mae' was deprecated in version 0.24 and will be removed in version 1.1 (renaming of 0.26). The correct way of minimizing the absolute error is to use  loss='lad' instead.\n",
      "  warnings.warn(\"criterion='mae' was deprecated in version 0.24 and \"\n",
      "F:\\ANACONDA\\lib\\site-packages\\sklearn\\ensemble\\_gb.py:1630: FutureWarning: criterion='mae' was deprecated in version 0.24 and will be removed in version 1.1 (renaming of 0.26). The correct way of minimizing the absolute error is to use  loss='lad' instead.\n",
      "  warnings.warn(\"criterion='mae' was deprecated in version 0.24 and \"\n",
      "F:\\ANACONDA\\lib\\site-packages\\sklearn\\ensemble\\_gb.py:1630: FutureWarning: criterion='mae' was deprecated in version 0.24 and will be removed in version 1.1 (renaming of 0.26). The correct way of minimizing the absolute error is to use  loss='lad' instead.\n",
      "  warnings.warn(\"criterion='mae' was deprecated in version 0.24 and \"\n"
     ]
    },
    {
     "name": "stdout",
     "output_type": "stream",
     "text": [
      "Criteria:mae\tLoss Func: ls\tTree Depth: 4\tBoosting round: 100\n"
     ]
    },
    {
     "name": "stderr",
     "output_type": "stream",
     "text": [
      "F:\\ANACONDA\\lib\\site-packages\\sklearn\\ensemble\\_gb.py:1630: FutureWarning: criterion='mae' was deprecated in version 0.24 and will be removed in version 1.1 (renaming of 0.26). The correct way of minimizing the absolute error is to use  loss='lad' instead.\n",
      "  warnings.warn(\"criterion='mae' was deprecated in version 0.24 and \"\n",
      "F:\\ANACONDA\\lib\\site-packages\\sklearn\\ensemble\\_gb.py:1630: FutureWarning: criterion='mae' was deprecated in version 0.24 and will be removed in version 1.1 (renaming of 0.26). The correct way of minimizing the absolute error is to use  loss='lad' instead.\n",
      "  warnings.warn(\"criterion='mae' was deprecated in version 0.24 and \"\n",
      "F:\\ANACONDA\\lib\\site-packages\\sklearn\\ensemble\\_gb.py:1630: FutureWarning: criterion='mae' was deprecated in version 0.24 and will be removed in version 1.1 (renaming of 0.26). The correct way of minimizing the absolute error is to use  loss='lad' instead.\n",
      "  warnings.warn(\"criterion='mae' was deprecated in version 0.24 and \"\n",
      "F:\\ANACONDA\\lib\\site-packages\\sklearn\\ensemble\\_gb.py:1630: FutureWarning: criterion='mae' was deprecated in version 0.24 and will be removed in version 1.1 (renaming of 0.26). The correct way of minimizing the absolute error is to use  loss='lad' instead.\n",
      "  warnings.warn(\"criterion='mae' was deprecated in version 0.24 and \"\n",
      "F:\\ANACONDA\\lib\\site-packages\\sklearn\\ensemble\\_gb.py:1630: FutureWarning: criterion='mae' was deprecated in version 0.24 and will be removed in version 1.1 (renaming of 0.26). The correct way of minimizing the absolute error is to use  loss='lad' instead.\n",
      "  warnings.warn(\"criterion='mae' was deprecated in version 0.24 and \"\n",
      "F:\\ANACONDA\\lib\\site-packages\\sklearn\\ensemble\\_gb.py:1630: FutureWarning: criterion='mae' was deprecated in version 0.24 and will be removed in version 1.1 (renaming of 0.26). The correct way of minimizing the absolute error is to use  loss='lad' instead.\n",
      "  warnings.warn(\"criterion='mae' was deprecated in version 0.24 and \"\n",
      "F:\\ANACONDA\\lib\\site-packages\\sklearn\\ensemble\\_gb.py:1630: FutureWarning: criterion='mae' was deprecated in version 0.24 and will be removed in version 1.1 (renaming of 0.26). The correct way of minimizing the absolute error is to use  loss='lad' instead.\n",
      "  warnings.warn(\"criterion='mae' was deprecated in version 0.24 and \"\n",
      "F:\\ANACONDA\\lib\\site-packages\\sklearn\\ensemble\\_gb.py:1630: FutureWarning: criterion='mae' was deprecated in version 0.24 and will be removed in version 1.1 (renaming of 0.26). The correct way of minimizing the absolute error is to use  loss='lad' instead.\n",
      "  warnings.warn(\"criterion='mae' was deprecated in version 0.24 and \"\n",
      "F:\\ANACONDA\\lib\\site-packages\\sklearn\\ensemble\\_gb.py:1630: FutureWarning: criterion='mae' was deprecated in version 0.24 and will be removed in version 1.1 (renaming of 0.26). The correct way of minimizing the absolute error is to use  loss='lad' instead.\n",
      "  warnings.warn(\"criterion='mae' was deprecated in version 0.24 and \"\n",
      "F:\\ANACONDA\\lib\\site-packages\\sklearn\\ensemble\\_gb.py:1630: FutureWarning: criterion='mae' was deprecated in version 0.24 and will be removed in version 1.1 (renaming of 0.26). The correct way of minimizing the absolute error is to use  loss='lad' instead.\n",
      "  warnings.warn(\"criterion='mae' was deprecated in version 0.24 and \"\n"
     ]
    },
    {
     "name": "stdout",
     "output_type": "stream",
     "text": [
      "Criteria:mae\tLoss Func: ls\tTree Depth: 4\tBoosting round: 250\n"
     ]
    },
    {
     "name": "stderr",
     "output_type": "stream",
     "text": [
      "F:\\ANACONDA\\lib\\site-packages\\sklearn\\ensemble\\_gb.py:1630: FutureWarning: criterion='mae' was deprecated in version 0.24 and will be removed in version 1.1 (renaming of 0.26). The correct way of minimizing the absolute error is to use  loss='lad' instead.\n",
      "  warnings.warn(\"criterion='mae' was deprecated in version 0.24 and \"\n",
      "F:\\ANACONDA\\lib\\site-packages\\sklearn\\ensemble\\_gb.py:1630: FutureWarning: criterion='mae' was deprecated in version 0.24 and will be removed in version 1.1 (renaming of 0.26). The correct way of minimizing the absolute error is to use  loss='lad' instead.\n",
      "  warnings.warn(\"criterion='mae' was deprecated in version 0.24 and \"\n",
      "F:\\ANACONDA\\lib\\site-packages\\sklearn\\ensemble\\_gb.py:1630: FutureWarning: criterion='mae' was deprecated in version 0.24 and will be removed in version 1.1 (renaming of 0.26). The correct way of minimizing the absolute error is to use  loss='lad' instead.\n",
      "  warnings.warn(\"criterion='mae' was deprecated in version 0.24 and \"\n",
      "F:\\ANACONDA\\lib\\site-packages\\sklearn\\ensemble\\_gb.py:1630: FutureWarning: criterion='mae' was deprecated in version 0.24 and will be removed in version 1.1 (renaming of 0.26). The correct way of minimizing the absolute error is to use  loss='lad' instead.\n",
      "  warnings.warn(\"criterion='mae' was deprecated in version 0.24 and \"\n",
      "F:\\ANACONDA\\lib\\site-packages\\sklearn\\ensemble\\_gb.py:1630: FutureWarning: criterion='mae' was deprecated in version 0.24 and will be removed in version 1.1 (renaming of 0.26). The correct way of minimizing the absolute error is to use  loss='lad' instead.\n",
      "  warnings.warn(\"criterion='mae' was deprecated in version 0.24 and \"\n",
      "F:\\ANACONDA\\lib\\site-packages\\sklearn\\ensemble\\_gb.py:1630: FutureWarning: criterion='mae' was deprecated in version 0.24 and will be removed in version 1.1 (renaming of 0.26). The correct way of minimizing the absolute error is to use  loss='lad' instead.\n",
      "  warnings.warn(\"criterion='mae' was deprecated in version 0.24 and \"\n",
      "F:\\ANACONDA\\lib\\site-packages\\sklearn\\ensemble\\_gb.py:1630: FutureWarning: criterion='mae' was deprecated in version 0.24 and will be removed in version 1.1 (renaming of 0.26). The correct way of minimizing the absolute error is to use  loss='lad' instead.\n",
      "  warnings.warn(\"criterion='mae' was deprecated in version 0.24 and \"\n",
      "F:\\ANACONDA\\lib\\site-packages\\sklearn\\ensemble\\_gb.py:1630: FutureWarning: criterion='mae' was deprecated in version 0.24 and will be removed in version 1.1 (renaming of 0.26). The correct way of minimizing the absolute error is to use  loss='lad' instead.\n",
      "  warnings.warn(\"criterion='mae' was deprecated in version 0.24 and \"\n",
      "F:\\ANACONDA\\lib\\site-packages\\sklearn\\ensemble\\_gb.py:1630: FutureWarning: criterion='mae' was deprecated in version 0.24 and will be removed in version 1.1 (renaming of 0.26). The correct way of minimizing the absolute error is to use  loss='lad' instead.\n",
      "  warnings.warn(\"criterion='mae' was deprecated in version 0.24 and \"\n",
      "F:\\ANACONDA\\lib\\site-packages\\sklearn\\ensemble\\_gb.py:1630: FutureWarning: criterion='mae' was deprecated in version 0.24 and will be removed in version 1.1 (renaming of 0.26). The correct way of minimizing the absolute error is to use  loss='lad' instead.\n",
      "  warnings.warn(\"criterion='mae' was deprecated in version 0.24 and \"\n"
     ]
    },
    {
     "name": "stdout",
     "output_type": "stream",
     "text": [
      "Criteria:mae\tLoss Func: ls\tTree Depth: 4\tBoosting round: 400\n"
     ]
    },
    {
     "name": "stderr",
     "output_type": "stream",
     "text": [
      "F:\\ANACONDA\\lib\\site-packages\\sklearn\\ensemble\\_gb.py:1630: FutureWarning: criterion='mae' was deprecated in version 0.24 and will be removed in version 1.1 (renaming of 0.26). The correct way of minimizing the absolute error is to use  loss='lad' instead.\n",
      "  warnings.warn(\"criterion='mae' was deprecated in version 0.24 and \"\n",
      "F:\\ANACONDA\\lib\\site-packages\\sklearn\\ensemble\\_gb.py:1630: FutureWarning: criterion='mae' was deprecated in version 0.24 and will be removed in version 1.1 (renaming of 0.26). The correct way of minimizing the absolute error is to use  loss='lad' instead.\n",
      "  warnings.warn(\"criterion='mae' was deprecated in version 0.24 and \"\n",
      "F:\\ANACONDA\\lib\\site-packages\\sklearn\\ensemble\\_gb.py:1630: FutureWarning: criterion='mae' was deprecated in version 0.24 and will be removed in version 1.1 (renaming of 0.26). The correct way of minimizing the absolute error is to use  loss='lad' instead.\n",
      "  warnings.warn(\"criterion='mae' was deprecated in version 0.24 and \"\n",
      "F:\\ANACONDA\\lib\\site-packages\\sklearn\\ensemble\\_gb.py:1630: FutureWarning: criterion='mae' was deprecated in version 0.24 and will be removed in version 1.1 (renaming of 0.26). The correct way of minimizing the absolute error is to use  loss='lad' instead.\n",
      "  warnings.warn(\"criterion='mae' was deprecated in version 0.24 and \"\n",
      "F:\\ANACONDA\\lib\\site-packages\\sklearn\\ensemble\\_gb.py:1630: FutureWarning: criterion='mae' was deprecated in version 0.24 and will be removed in version 1.1 (renaming of 0.26). The correct way of minimizing the absolute error is to use  loss='lad' instead.\n",
      "  warnings.warn(\"criterion='mae' was deprecated in version 0.24 and \"\n",
      "F:\\ANACONDA\\lib\\site-packages\\sklearn\\ensemble\\_gb.py:1630: FutureWarning: criterion='mae' was deprecated in version 0.24 and will be removed in version 1.1 (renaming of 0.26). The correct way of minimizing the absolute error is to use  loss='lad' instead.\n",
      "  warnings.warn(\"criterion='mae' was deprecated in version 0.24 and \"\n",
      "F:\\ANACONDA\\lib\\site-packages\\sklearn\\ensemble\\_gb.py:1630: FutureWarning: criterion='mae' was deprecated in version 0.24 and will be removed in version 1.1 (renaming of 0.26). The correct way of minimizing the absolute error is to use  loss='lad' instead.\n",
      "  warnings.warn(\"criterion='mae' was deprecated in version 0.24 and \"\n",
      "F:\\ANACONDA\\lib\\site-packages\\sklearn\\ensemble\\_gb.py:1630: FutureWarning: criterion='mae' was deprecated in version 0.24 and will be removed in version 1.1 (renaming of 0.26). The correct way of minimizing the absolute error is to use  loss='lad' instead.\n",
      "  warnings.warn(\"criterion='mae' was deprecated in version 0.24 and \"\n",
      "F:\\ANACONDA\\lib\\site-packages\\sklearn\\ensemble\\_gb.py:1630: FutureWarning: criterion='mae' was deprecated in version 0.24 and will be removed in version 1.1 (renaming of 0.26). The correct way of minimizing the absolute error is to use  loss='lad' instead.\n",
      "  warnings.warn(\"criterion='mae' was deprecated in version 0.24 and \"\n",
      "F:\\ANACONDA\\lib\\site-packages\\sklearn\\ensemble\\_gb.py:1630: FutureWarning: criterion='mae' was deprecated in version 0.24 and will be removed in version 1.1 (renaming of 0.26). The correct way of minimizing the absolute error is to use  loss='lad' instead.\n",
      "  warnings.warn(\"criterion='mae' was deprecated in version 0.24 and \"\n"
     ]
    },
    {
     "name": "stdout",
     "output_type": "stream",
     "text": [
      "Criteria:mae\tLoss Func: ls\tTree Depth: 4\tBoosting round: 550\n"
     ]
    },
    {
     "name": "stderr",
     "output_type": "stream",
     "text": [
      "F:\\ANACONDA\\lib\\site-packages\\sklearn\\ensemble\\_gb.py:1630: FutureWarning: criterion='mae' was deprecated in version 0.24 and will be removed in version 1.1 (renaming of 0.26). The correct way of minimizing the absolute error is to use  loss='lad' instead.\n",
      "  warnings.warn(\"criterion='mae' was deprecated in version 0.24 and \"\n",
      "F:\\ANACONDA\\lib\\site-packages\\sklearn\\ensemble\\_gb.py:1630: FutureWarning: criterion='mae' was deprecated in version 0.24 and will be removed in version 1.1 (renaming of 0.26). The correct way of minimizing the absolute error is to use  loss='lad' instead.\n",
      "  warnings.warn(\"criterion='mae' was deprecated in version 0.24 and \"\n",
      "F:\\ANACONDA\\lib\\site-packages\\sklearn\\ensemble\\_gb.py:1630: FutureWarning: criterion='mae' was deprecated in version 0.24 and will be removed in version 1.1 (renaming of 0.26). The correct way of minimizing the absolute error is to use  loss='lad' instead.\n",
      "  warnings.warn(\"criterion='mae' was deprecated in version 0.24 and \"\n",
      "F:\\ANACONDA\\lib\\site-packages\\sklearn\\ensemble\\_gb.py:1630: FutureWarning: criterion='mae' was deprecated in version 0.24 and will be removed in version 1.1 (renaming of 0.26). The correct way of minimizing the absolute error is to use  loss='lad' instead.\n",
      "  warnings.warn(\"criterion='mae' was deprecated in version 0.24 and \"\n",
      "F:\\ANACONDA\\lib\\site-packages\\sklearn\\ensemble\\_gb.py:1630: FutureWarning: criterion='mae' was deprecated in version 0.24 and will be removed in version 1.1 (renaming of 0.26). The correct way of minimizing the absolute error is to use  loss='lad' instead.\n",
      "  warnings.warn(\"criterion='mae' was deprecated in version 0.24 and \"\n",
      "F:\\ANACONDA\\lib\\site-packages\\sklearn\\ensemble\\_gb.py:1630: FutureWarning: criterion='mae' was deprecated in version 0.24 and will be removed in version 1.1 (renaming of 0.26). The correct way of minimizing the absolute error is to use  loss='lad' instead.\n",
      "  warnings.warn(\"criterion='mae' was deprecated in version 0.24 and \"\n",
      "F:\\ANACONDA\\lib\\site-packages\\sklearn\\ensemble\\_gb.py:1630: FutureWarning: criterion='mae' was deprecated in version 0.24 and will be removed in version 1.1 (renaming of 0.26). The correct way of minimizing the absolute error is to use  loss='lad' instead.\n",
      "  warnings.warn(\"criterion='mae' was deprecated in version 0.24 and \"\n",
      "F:\\ANACONDA\\lib\\site-packages\\sklearn\\ensemble\\_gb.py:1630: FutureWarning: criterion='mae' was deprecated in version 0.24 and will be removed in version 1.1 (renaming of 0.26). The correct way of minimizing the absolute error is to use  loss='lad' instead.\n",
      "  warnings.warn(\"criterion='mae' was deprecated in version 0.24 and \"\n",
      "F:\\ANACONDA\\lib\\site-packages\\sklearn\\ensemble\\_gb.py:1630: FutureWarning: criterion='mae' was deprecated in version 0.24 and will be removed in version 1.1 (renaming of 0.26). The correct way of minimizing the absolute error is to use  loss='lad' instead.\n",
      "  warnings.warn(\"criterion='mae' was deprecated in version 0.24 and \"\n",
      "F:\\ANACONDA\\lib\\site-packages\\sklearn\\ensemble\\_gb.py:1630: FutureWarning: criterion='mae' was deprecated in version 0.24 and will be removed in version 1.1 (renaming of 0.26). The correct way of minimizing the absolute error is to use  loss='lad' instead.\n",
      "  warnings.warn(\"criterion='mae' was deprecated in version 0.24 and \"\n"
     ]
    },
    {
     "name": "stdout",
     "output_type": "stream",
     "text": [
      "Criteria:mae\tLoss Func: ls\tTree Depth: 4\tBoosting round: 700\n"
     ]
    },
    {
     "name": "stderr",
     "output_type": "stream",
     "text": [
      "F:\\ANACONDA\\lib\\site-packages\\sklearn\\ensemble\\_gb.py:1630: FutureWarning: criterion='mae' was deprecated in version 0.24 and will be removed in version 1.1 (renaming of 0.26). The correct way of minimizing the absolute error is to use  loss='lad' instead.\n",
      "  warnings.warn(\"criterion='mae' was deprecated in version 0.24 and \"\n",
      "F:\\ANACONDA\\lib\\site-packages\\sklearn\\ensemble\\_gb.py:1630: FutureWarning: criterion='mae' was deprecated in version 0.24 and will be removed in version 1.1 (renaming of 0.26). The correct way of minimizing the absolute error is to use  loss='lad' instead.\n",
      "  warnings.warn(\"criterion='mae' was deprecated in version 0.24 and \"\n",
      "F:\\ANACONDA\\lib\\site-packages\\sklearn\\ensemble\\_gb.py:1630: FutureWarning: criterion='mae' was deprecated in version 0.24 and will be removed in version 1.1 (renaming of 0.26). The correct way of minimizing the absolute error is to use  loss='lad' instead.\n",
      "  warnings.warn(\"criterion='mae' was deprecated in version 0.24 and \"\n",
      "F:\\ANACONDA\\lib\\site-packages\\sklearn\\ensemble\\_gb.py:1630: FutureWarning: criterion='mae' was deprecated in version 0.24 and will be removed in version 1.1 (renaming of 0.26). The correct way of minimizing the absolute error is to use  loss='lad' instead.\n",
      "  warnings.warn(\"criterion='mae' was deprecated in version 0.24 and \"\n",
      "F:\\ANACONDA\\lib\\site-packages\\sklearn\\ensemble\\_gb.py:1630: FutureWarning: criterion='mae' was deprecated in version 0.24 and will be removed in version 1.1 (renaming of 0.26). The correct way of minimizing the absolute error is to use  loss='lad' instead.\n",
      "  warnings.warn(\"criterion='mae' was deprecated in version 0.24 and \"\n",
      "F:\\ANACONDA\\lib\\site-packages\\sklearn\\ensemble\\_gb.py:1630: FutureWarning: criterion='mae' was deprecated in version 0.24 and will be removed in version 1.1 (renaming of 0.26). The correct way of minimizing the absolute error is to use  loss='lad' instead.\n",
      "  warnings.warn(\"criterion='mae' was deprecated in version 0.24 and \"\n",
      "F:\\ANACONDA\\lib\\site-packages\\sklearn\\ensemble\\_gb.py:1630: FutureWarning: criterion='mae' was deprecated in version 0.24 and will be removed in version 1.1 (renaming of 0.26). The correct way of minimizing the absolute error is to use  loss='lad' instead.\n",
      "  warnings.warn(\"criterion='mae' was deprecated in version 0.24 and \"\n",
      "F:\\ANACONDA\\lib\\site-packages\\sklearn\\ensemble\\_gb.py:1630: FutureWarning: criterion='mae' was deprecated in version 0.24 and will be removed in version 1.1 (renaming of 0.26). The correct way of minimizing the absolute error is to use  loss='lad' instead.\n",
      "  warnings.warn(\"criterion='mae' was deprecated in version 0.24 and \"\n",
      "F:\\ANACONDA\\lib\\site-packages\\sklearn\\ensemble\\_gb.py:1630: FutureWarning: criterion='mae' was deprecated in version 0.24 and will be removed in version 1.1 (renaming of 0.26). The correct way of minimizing the absolute error is to use  loss='lad' instead.\n",
      "  warnings.warn(\"criterion='mae' was deprecated in version 0.24 and \"\n"
     ]
    }
   ],
   "source": [
    "#Manipulate these paramenters\n",
    "# loss=' {'ls', 'lad', 'huber', 'quantile'},\n",
    "#learning_rate=0.01, 0.05, 0.1, \n",
    "#n_estimators=100, <-- Change default\n",
    "#criterion='{'friedman_mse', 'mse', 'mae'}',\n",
    "#max_depth --> 10.704 --> 11\n",
    "#loss{‘deviance’, ‘exponential’}, default=’deviance’\n",
    "\n",
    "loss_func = ['ls', 'lad', 'huber', 'quantile']\n",
    "criteria = ['friedman_mse', 'mse', 'mae']\n",
    "tree_depths = [i for i in range(1, 5)]                              #df.size * 0.001\n",
    "boosting = [i for i in range(100, 900, 150)]\n",
    "\n",
    "gbm_scores_mse = []\n",
    "gbm_scores_friedman_mse = []\n",
    "gbm_scores_mae = []\n",
    "\n",
    "#i --> criteria\n",
    "for i in criteria:\n",
    "    #j --> loss func\n",
    "    for j in loss_func:\n",
    "        #k --> tree depth\n",
    "        for k in tree_depths:\n",
    "            for l in boosting:\n",
    "                if i == 'mse':\n",
    "                    gbm_scores_mse.append(scores(i, j, k, l))\n",
    "                    print(f\"Criteria:{i}\\tLoss Func: {j}\\tTree Depth: {k}\\tBoosting round: {l}\")\n",
    "                elif i == 'friedman_mse':\n",
    "                    gbm_scores_friedman_mse.append(scores(i, j, k, l))\n",
    "                    print(f\"Criteria:{i}\\tLoss Func: {j}\\tTree Depth: {k}\\tBoosting round: {l}\")\n",
    "                else:\n",
    "                    gbm_scores_mae.append(scores(i, j, k, l))\n",
    "                    print(f\"Criteria:{i}\\tLoss Func: {j}\\tTree Depth: {k}\\tBoosting round: {l}\")"
   ]
  },
  {
   "cell_type": "code",
   "execution_count": 119,
   "metadata": {},
   "outputs": [
    {
     "data": {
      "text/plain": [
       "[]"
      ]
     },
     "execution_count": 119,
     "metadata": {},
     "output_type": "execute_result"
    }
   ],
   "source": [
    "gbm_scores_mae"
   ]
  },
  {
   "cell_type": "code",
   "execution_count": null,
   "metadata": {},
   "outputs": [],
   "source": []
  }
 ],
 "metadata": {
  "kernelspec": {
   "display_name": "Python 3",
   "language": "python",
   "name": "python3"
  },
  "language_info": {
   "codemirror_mode": {
    "name": "ipython",
    "version": 3
   },
   "file_extension": ".py",
   "mimetype": "text/x-python",
   "name": "python",
   "nbconvert_exporter": "python",
   "pygments_lexer": "ipython3",
   "version": "3.8.5"
  }
 },
 "nbformat": 4,
 "nbformat_minor": 5
}
